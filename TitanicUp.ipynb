{
  "nbformat": 4,
  "nbformat_minor": 0,
  "metadata": {
    "colab": {
      "name": "TitanicUp.ipynb",
      "provenance": [],
      "collapsed_sections": []
    },
    "kernelspec": {
      "name": "python3",
      "display_name": "Python 3"
    },
    "language_info": {
      "name": "python"
    }
  },
  "cells": [
    {
      "cell_type": "code",
      "execution_count": null,
      "metadata": {
        "id": "6dSsbKt8Usey"
      },
      "outputs": [],
      "source": [
        "import numpy as np\n",
        "import pandas as pd\n",
        "pd.plotting.register_matplotlib_converters()\n",
        "import matplotlib.pyplot as plt\n",
        "import seaborn as sns\n",
        "%matplotlib inline\n",
        "from sklearn.model_selection import train_test_split\n",
        "from sklearn.ensemble import RandomForestClassifier\n",
        "from sklearn.metrics import accuracy_score\n",
        "np.random.seed(0)"
      ]
    },
    {
      "cell_type": "code",
      "source": [
        "## Importando os dados\n",
        "test = pd.read_csv(\"/content/drive/MyDrive/titanic/test.csv\")\n",
        "train = pd.read_csv(\"/content/drive/MyDrive/titanic/train.csv\")\n",
        "## Estatísticas dos dataset\n",
        "print(test.describe())\n",
        "print(train.describe())\n"
      ],
      "metadata": {
        "colab": {
          "base_uri": "https://localhost:8080/"
        },
        "id": "tSMJyyvxXJyY",
        "outputId": "b0796518-d237-4977-f92d-ec4b9ed38a24"
      },
      "execution_count": null,
      "outputs": [
        {
          "output_type": "stream",
          "name": "stdout",
          "text": [
            "       PassengerId      Pclass         Age       SibSp       Parch        Fare\n",
            "count   418.000000  418.000000  332.000000  418.000000  418.000000  417.000000\n",
            "mean   1100.500000    2.265550   30.272590    0.447368    0.392344   35.627188\n",
            "std     120.810458    0.841838   14.181209    0.896760    0.981429   55.907576\n",
            "min     892.000000    1.000000    0.170000    0.000000    0.000000    0.000000\n",
            "25%     996.250000    1.000000   21.000000    0.000000    0.000000    7.895800\n",
            "50%    1100.500000    3.000000   27.000000    0.000000    0.000000   14.454200\n",
            "75%    1204.750000    3.000000   39.000000    1.000000    0.000000   31.500000\n",
            "max    1309.000000    3.000000   76.000000    8.000000    9.000000  512.329200\n",
            "       PassengerId    Survived      Pclass  ...       SibSp       Parch        Fare\n",
            "count   891.000000  891.000000  891.000000  ...  891.000000  891.000000  891.000000\n",
            "mean    446.000000    0.383838    2.308642  ...    0.523008    0.381594   32.204208\n",
            "std     257.353842    0.486592    0.836071  ...    1.102743    0.806057   49.693429\n",
            "min       1.000000    0.000000    1.000000  ...    0.000000    0.000000    0.000000\n",
            "25%     223.500000    0.000000    2.000000  ...    0.000000    0.000000    7.910400\n",
            "50%     446.000000    0.000000    3.000000  ...    0.000000    0.000000   14.454200\n",
            "75%     668.500000    1.000000    3.000000  ...    1.000000    0.000000   31.000000\n",
            "max     891.000000    1.000000    3.000000  ...    8.000000    6.000000  512.329200\n",
            "\n",
            "[8 rows x 7 columns]\n"
          ]
        }
      ]
    },
    {
      "cell_type": "code",
      "source": [
        "## Verificando os tipos de dados das features\n",
        "train.info()\n",
        "test.info()\n",
        "## Verificando features contendo NaN\n",
        "pd.isnull(train).sum()\n",
        "pd.isnull(test).sum()"
      ],
      "metadata": {
        "id": "tHDXArYGLIYA",
        "colab": {
          "base_uri": "https://localhost:8080/"
        },
        "outputId": "7510cde4-8215-4c5a-c6c7-bb8e296a75ba"
      },
      "execution_count": null,
      "outputs": [
        {
          "output_type": "stream",
          "name": "stdout",
          "text": [
            "<class 'pandas.core.frame.DataFrame'>\n",
            "RangeIndex: 891 entries, 0 to 890\n",
            "Data columns (total 12 columns):\n",
            " #   Column       Non-Null Count  Dtype  \n",
            "---  ------       --------------  -----  \n",
            " 0   PassengerId  891 non-null    int64  \n",
            " 1   Survived     891 non-null    int64  \n",
            " 2   Pclass       891 non-null    int64  \n",
            " 3   Name         891 non-null    object \n",
            " 4   Sex          891 non-null    object \n",
            " 5   Age          714 non-null    float64\n",
            " 6   SibSp        891 non-null    int64  \n",
            " 7   Parch        891 non-null    int64  \n",
            " 8   Ticket       891 non-null    object \n",
            " 9   Fare         891 non-null    float64\n",
            " 10  Cabin        204 non-null    object \n",
            " 11  Embarked     889 non-null    object \n",
            "dtypes: float64(2), int64(5), object(5)\n",
            "memory usage: 83.7+ KB\n",
            "<class 'pandas.core.frame.DataFrame'>\n",
            "RangeIndex: 418 entries, 0 to 417\n",
            "Data columns (total 11 columns):\n",
            " #   Column       Non-Null Count  Dtype  \n",
            "---  ------       --------------  -----  \n",
            " 0   PassengerId  418 non-null    int64  \n",
            " 1   Pclass       418 non-null    int64  \n",
            " 2   Name         418 non-null    object \n",
            " 3   Sex          418 non-null    object \n",
            " 4   Age          332 non-null    float64\n",
            " 5   SibSp        418 non-null    int64  \n",
            " 6   Parch        418 non-null    int64  \n",
            " 7   Ticket       418 non-null    object \n",
            " 8   Fare         417 non-null    float64\n",
            " 9   Cabin        91 non-null     object \n",
            " 10  Embarked     418 non-null    object \n",
            "dtypes: float64(2), int64(4), object(5)\n",
            "memory usage: 36.0+ KB\n"
          ]
        },
        {
          "output_type": "execute_result",
          "data": {
            "text/plain": [
              "PassengerId      0\n",
              "Pclass           0\n",
              "Name             0\n",
              "Sex              0\n",
              "Age             86\n",
              "SibSp            0\n",
              "Parch            0\n",
              "Ticket           0\n",
              "Fare             1\n",
              "Cabin          327\n",
              "Embarked         0\n",
              "dtype: int64"
            ]
          },
          "metadata": {},
          "execution_count": 69
        }
      ]
    },
    {
      "cell_type": "code",
      "source": [
        "## Separando features numéricas\n",
        "numeric_train = train.loc[:, ['PassengerId','Survived','Age', 'SibSp', 'Parch', 'Fare', 'Pclass']]\n",
        "numeric_test = test.loc[:, ['PassengerId','Age', 'SibSp', 'Parch', 'Fare', 'Pclass']]\n",
        "## Retirando linhas com NaN em train\n",
        "numeric_train = numeric_train.dropna(axis = 0)\n",
        "## Substituindo NaN por 0 em test\n",
        "numeric_test = numeric_test.fillna(0)\n",
        "print(numeric_test.shape)\n",
        "print(numeric_train.shape)"
      ],
      "metadata": {
        "colab": {
          "base_uri": "https://localhost:8080/"
        },
        "id": "afP3RgSmPII2",
        "outputId": "a0b63ccd-6d6d-4958-a05c-dc37e291cc2b"
      },
      "execution_count": null,
      "outputs": [
        {
          "output_type": "stream",
          "name": "stdout",
          "text": [
            "(418, 6)\n",
            "(714, 7)\n"
          ]
        }
      ]
    },
    {
      "cell_type": "code",
      "source": [
        "## Criando novo dataframe para separar a feature Age\n",
        "train_age_split = numeric_train.loc[:,['Survived', 'Age']]\n",
        "\n",
        "## Separando feature Age por faixa e criando nova feature AgeGroup\n",
        "bins = np.arange(0,90,10)\n",
        "labels = ['0-10','10-20','20-30','30-40','40-50','50-60','60-70','70-80']\n",
        "\n",
        "train_age_split['AgeGroup'] = pd.cut(numeric_train['Age'], bins, labels = labels)\n",
        "train_age_split.head()"
      ],
      "metadata": {
        "colab": {
          "base_uri": "https://localhost:8080/",
          "height": 206
        },
        "id": "7axWUNbwSONo",
        "outputId": "1babce6b-33c0-46ff-a3b9-c54810b44958"
      },
      "execution_count": null,
      "outputs": [
        {
          "output_type": "execute_result",
          "data": {
            "text/html": [
              "<div>\n",
              "<style scoped>\n",
              "    .dataframe tbody tr th:only-of-type {\n",
              "        vertical-align: middle;\n",
              "    }\n",
              "\n",
              "    .dataframe tbody tr th {\n",
              "        vertical-align: top;\n",
              "    }\n",
              "\n",
              "    .dataframe thead th {\n",
              "        text-align: right;\n",
              "    }\n",
              "</style>\n",
              "<table border=\"1\" class=\"dataframe\">\n",
              "  <thead>\n",
              "    <tr style=\"text-align: right;\">\n",
              "      <th></th>\n",
              "      <th>Survived</th>\n",
              "      <th>Age</th>\n",
              "      <th>AgeGroup</th>\n",
              "    </tr>\n",
              "  </thead>\n",
              "  <tbody>\n",
              "    <tr>\n",
              "      <th>0</th>\n",
              "      <td>0</td>\n",
              "      <td>22.0</td>\n",
              "      <td>20-30</td>\n",
              "    </tr>\n",
              "    <tr>\n",
              "      <th>1</th>\n",
              "      <td>1</td>\n",
              "      <td>38.0</td>\n",
              "      <td>30-40</td>\n",
              "    </tr>\n",
              "    <tr>\n",
              "      <th>2</th>\n",
              "      <td>1</td>\n",
              "      <td>26.0</td>\n",
              "      <td>20-30</td>\n",
              "    </tr>\n",
              "    <tr>\n",
              "      <th>3</th>\n",
              "      <td>1</td>\n",
              "      <td>35.0</td>\n",
              "      <td>30-40</td>\n",
              "    </tr>\n",
              "    <tr>\n",
              "      <th>4</th>\n",
              "      <td>0</td>\n",
              "      <td>35.0</td>\n",
              "      <td>30-40</td>\n",
              "    </tr>\n",
              "  </tbody>\n",
              "</table>\n",
              "</div>"
            ],
            "text/plain": [
              "   Survived   Age AgeGroup\n",
              "0         0  22.0    20-30\n",
              "1         1  38.0    30-40\n",
              "2         1  26.0    20-30\n",
              "3         1  35.0    30-40\n",
              "4         0  35.0    30-40"
            ]
          },
          "metadata": {},
          "execution_count": 71
        }
      ]
    },
    {
      "cell_type": "code",
      "source": [
        "# Plotando a distribuição de chances de sobrevivencia por faixa etária\n",
        "plt.title('Chance de sobrevivência por faixa etária')\n",
        "sns.barplot(x = 'AgeGroup', y = 'Survived', data = train_age_split)"
      ],
      "metadata": {
        "colab": {
          "base_uri": "https://localhost:8080/",
          "height": 312
        },
        "id": "gQlBj16qT-Uj",
        "outputId": "762cea5d-1698-463a-f606-3af21e86e839"
      },
      "execution_count": null,
      "outputs": [
        {
          "output_type": "execute_result",
          "data": {
            "text/plain": [
              "<matplotlib.axes._subplots.AxesSubplot at 0x7fc98dba4910>"
            ]
          },
          "metadata": {},
          "execution_count": 72
        },
        {
          "output_type": "display_data",
          "data": {
            "image/png": "[encoded data removed]",
            "text/plain": [
              "<Figure size 432x288 with 1 Axes>"
            ]
          },
          "metadata": {
            "needs_background": "light"
          }
        }
      ]
    },
    {
      "cell_type": "markdown",
      "source": [
        "**ANÁLISE DO GRÁFICO**"
      ],
      "metadata": {
        "id": "BGW8QuwsU0Hk"
      }
    },
    {
      "cell_type": "markdown",
      "source": [
        "É possível notar uma maior chance de sobrevivência para o grupo de crianças com menos de 10 anos. Além disso os adultos com mais de 30 anos e menos de 60 anos possuem maior chance de sobreviver quando comparados com criânças e jovens ca faixa dos 10 aos 30 anos. Pode-se notar também uma grande variação nas chances de sobrevivência dos idosos com mais de 60 anos, tornando a análise inconclusiva."
      ],
      "metadata": {
        "id": "j6qda-2xVGkR"
      }
    },
    {
      "cell_type": "markdown",
      "source": [
        "**GRÁFICOS DAS DEMAIS FEATURES**"
      ],
      "metadata": {
        "id": "PTmEyPN3W9a6"
      }
    },
    {
      "cell_type": "markdown",
      "source": [
        "**SibSp**"
      ],
      "metadata": {
        "id": "vESXSJOkbH1l"
      }
    },
    {
      "cell_type": "code",
      "source": [
        "## Plotando relação Chance de sobrevivência X Nº de parentes a bordo\n",
        "plt.title('Chance de sobrevivência em Relação ao número de parentes a bordo')\n",
        "sns.barplot(x = 'SibSp', y = 'Survived', data = numeric_train)"
      ],
      "metadata": {
        "colab": {
          "base_uri": "https://localhost:8080/",
          "height": 312
        },
        "id": "stEASrFCXEei",
        "outputId": "f4c83b4c-e773-495f-bf74-1ee226ce0e4e"
      },
      "execution_count": null,
      "outputs": [
        {
          "output_type": "execute_result",
          "data": {
            "text/plain": [
              "<matplotlib.axes._subplots.AxesSubplot at 0x7fc98d91c5d0>"
            ]
          },
          "metadata": {},
          "execution_count": 73
        },
        {
          "output_type": "display_data",
          "data": {
            "image/png": "[encoded data removed]",
            "text/plain": [
              "<Figure size 432x288 with 1 Axes>"
            ]
          },
          "metadata": {
            "needs_background": "light"
          }
        }
      ]
    },
    {
      "cell_type": "markdown",
      "source": [
        "**ANÁLISE DO GRÁFICO**"
      ],
      "metadata": {
        "id": "0rYnjwK6YmYu"
      }
    },
    {
      "cell_type": "markdown",
      "source": [
        "Os passageiros que possuíam apenas um parente a bordo apresentaram maior chance de sobrevivência. Além disso a chance de sobrevivência diminui a medida que o número de parentes aumenta, exceto de 0 para 1. A chance de sobrevivência nula para passageiros com 5 parentes a bordo pode ser explicada pela pela baixa quantidade de passageiros com esta quantidade de parentes a bordo."
      ],
      "metadata": {
        "id": "ZkvzQqe9Yv9m"
      }
    },
    {
      "cell_type": "markdown",
      "source": [
        "**Pclass**"
      ],
      "metadata": {
        "id": "y2LgwRI1bRHi"
      }
    },
    {
      "cell_type": "code",
      "source": [
        "## Plotando relação Chance de Sobrevivência X Classe do Navio\n",
        "plt.title('Chance de sobrevivência em Relação à classe em que o passageiro se encontra no navio')\n",
        "sns.barplot(x = 'Pclass', y = 'Survived', data = numeric_train);"
      ],
      "metadata": {
        "colab": {
          "base_uri": "https://localhost:8080/",
          "height": 295
        },
        "id": "lw1ai9PYaKG_",
        "outputId": "0c6adb4e-29b6-4e74-dc67-6170b8c1ca92"
      },
      "execution_count": null,
      "outputs": [
        {
          "output_type": "display_data",
          "data": {
            "image/png": "[encoded data removed]",
            "text/plain": [
              "<Figure size 432x288 with 1 Axes>"
            ]
          },
          "metadata": {
            "needs_background": "light"
          }
        }
      ]
    },
    {
      "cell_type": "markdown",
      "source": [
        "**ANÁLISE DO GRÁFICO**"
      ],
      "metadata": {
        "id": "LWpWyChEbW_d"
      }
    },
    {
      "cell_type": "markdown",
      "source": [
        "O gráfico indica que há maior chance de sobrevivência para passageiros pertencentes as classes mais altas do navio."
      ],
      "metadata": {
        "id": "siJtNtIXbbrP"
      }
    },
    {
      "cell_type": "markdown",
      "source": [
        "**Parch**"
      ],
      "metadata": {
        "id": "MfxRCm9Rci8o"
      }
    },
    {
      "cell_type": "code",
      "source": [
        "## Plotando relação Chance de Sobrevivência X Nº de Pais e Filhos\n",
        "plt.title('Chance de sobrivivência em Relação aonúmero de pais e filhos presentes a bordo')\n",
        "sns.barplot(x = 'Parch', y = 'Survived', data = numeric_train)"
      ],
      "metadata": {
        "colab": {
          "base_uri": "https://localhost:8080/",
          "height": 312
        },
        "id": "Dz6Rrgjscmd8",
        "outputId": "02fac7c4-3495-4f1d-e781-cc1e8ae7d04e"
      },
      "execution_count": null,
      "outputs": [
        {
          "output_type": "execute_result",
          "data": {
            "text/plain": [
              "<matplotlib.axes._subplots.AxesSubplot at 0x7fc98d8a16d0>"
            ]
          },
          "metadata": {},
          "execution_count": 75
        },
        {
          "output_type": "display_data",
          "data": {
            "image/png": "[encoded data removed]",
            "text/plain": [
              "<Figure size 432x288 with 1 Axes>"
            ]
          },
          "metadata": {
            "needs_background": "light"
          }
        }
      ]
    },
    {
      "cell_type": "markdown",
      "source": [
        "**ANÁLISE DO GRÁFICO**"
      ],
      "metadata": {
        "id": "XjjyYZtDdTki"
      }
    },
    {
      "cell_type": "markdown",
      "source": [
        "Pelo gráfico pode-se notar uma maior chance de sobrevivência para os passageiros com pelo menos um 1 e com menos de 3 filhos possuem maior chance de sobrevivência. "
      ],
      "metadata": {
        "id": "9vERq-QgdYVG"
      }
    },
    {
      "cell_type": "code",
      "source": [
        "## Treinamento do modelo e submissão das predições\n",
        "# Filtrando features para treinamento e definindo target\n",
        "X = numeric_train.drop(['PassengerId','Survived'], axis = 1)\n",
        "y = numeric_train['Survived']\n",
        "\n",
        "#Separando o banco de dados de treino e validação, validação será 20% do tamanho de treino\n",
        "train_X, val_X, train_y, val_y = train_test_split(X, y, test_size = 0.2, random_state = 0)\n",
        "\n",
        "# Treinando o modelo\n",
        "random_forest = RandomForestClassifier()\n",
        "random_forest.fit(train_X, train_y)\n",
        "preds = random_forest.predict(val_X)\n",
        "\n",
        "#Validando o modelo\n",
        "accurance = round(accuracy_score(preds,val_y)*100,2)\n",
        "print(accurance)"
      ],
      "metadata": {
        "colab": {
          "base_uri": "https://localhost:8080/"
        },
        "id": "VX6Qwe7nkEX4",
        "outputId": "b48bbbf4-6f38-4ef0-e306-ff5794c95041"
      },
      "execution_count": null,
      "outputs": [
        {
          "output_type": "stream",
          "name": "stdout",
          "text": [
            "67.13\n"
          ]
        }
      ]
    },
    {
      "cell_type": "markdown",
      "source": [
        "**Avaliação do Modelo**"
      ],
      "metadata": {
        "id": "7mEj3ZSrolUp"
      }
    },
    {
      "cell_type": "markdown",
      "source": [
        "O modelo teve uma taxa de acerto de 67,13% , portanto apresentou baixa precisão em suas predições."
      ],
      "metadata": {
        "id": "l2A48ZJlotJf"
      }
    },
    {
      "cell_type": "code",
      "source": [
        "#Produzindo as predições\n",
        "index = numeric_test['PassengerId']\n",
        "prediction = random_forest.predict(numeric_test.drop('PassengerId', axis = 1))\n",
        "\n",
        "#Produzindo o arquivo com as predições\n",
        "output = pd.DataFrame({'PassengerId':index, 'Survived': prediction})\n",
        "output.to_csv('submission.csv', index = False)"
      ],
      "metadata": {
        "id": "-JNRQmy8p8n2"
      },
      "execution_count": null,
      "outputs": []
    },
    {
      "cell_type": "markdown",
      "source": [
        "**Machine Learning Clássico - Data Cleaning**"
      ],
      "metadata": {
        "id": "sYFsfh_xduHp"
      }
    },
    {
      "cell_type": "code",
      "source": [
        "## Colunas dos bancos de dados teste e treino\n",
        "test_columns = test.columns\n",
        "train_columns = train.columns\n",
        "print(test_columns)\n",
        "print()\n",
        "print(train_columns)\n",
        "print()\n",
        "## Analisando yipos de dado nas colunas dos dataframes\n",
        "print(test.info())\n",
        "print()\n",
        "print(train.info())\n"
      ],
      "metadata": {
        "colab": {
          "base_uri": "https://localhost:8080/"
        },
        "id": "NtL3jxVweT7f",
        "outputId": "42e06f31-41bf-49d1-ff7c-7839dc38bbdc"
      },
      "execution_count": null,
      "outputs": [
        {
          "output_type": "stream",
          "name": "stdout",
          "text": [
            "Index(['PassengerId', 'Pclass', 'Name', 'Sex', 'Age', 'SibSp', 'Parch',\n",
            "       'Ticket', 'Fare', 'Cabin', 'Embarked'],\n",
            "      dtype='object')\n",
            "\n",
            "Index(['PassengerId', 'Survived', 'Pclass', 'Name', 'Sex', 'Age', 'SibSp',\n",
            "       'Parch', 'Ticket', 'Fare', 'Cabin', 'Embarked'],\n",
            "      dtype='object')\n",
            "\n",
            "<class 'pandas.core.frame.DataFrame'>\n",
            "RangeIndex: 418 entries, 0 to 417\n",
            "Data columns (total 11 columns):\n",
            " #   Column       Non-Null Count  Dtype  \n",
            "---  ------       --------------  -----  \n",
            " 0   PassengerId  418 non-null    int64  \n",
            " 1   Pclass       418 non-null    int64  \n",
            " 2   Name         418 non-null    object \n",
            " 3   Sex          418 non-null    object \n",
            " 4   Age          332 non-null    float64\n",
            " 5   SibSp        418 non-null    int64  \n",
            " 6   Parch        418 non-null    int64  \n",
            " 7   Ticket       418 non-null    object \n",
            " 8   Fare         417 non-null    float64\n",
            " 9   Cabin        91 non-null     object \n",
            " 10  Embarked     418 non-null    object \n",
            "dtypes: float64(2), int64(4), object(5)\n",
            "memory usage: 36.0+ KB\n",
            "None\n",
            "\n",
            "<class 'pandas.core.frame.DataFrame'>\n",
            "RangeIndex: 891 entries, 0 to 890\n",
            "Data columns (total 12 columns):\n",
            " #   Column       Non-Null Count  Dtype  \n",
            "---  ------       --------------  -----  \n",
            " 0   PassengerId  891 non-null    int64  \n",
            " 1   Survived     891 non-null    int64  \n",
            " 2   Pclass       891 non-null    int64  \n",
            " 3   Name         891 non-null    object \n",
            " 4   Sex          891 non-null    object \n",
            " 5   Age          714 non-null    float64\n",
            " 6   SibSp        891 non-null    int64  \n",
            " 7   Parch        891 non-null    int64  \n",
            " 8   Ticket       891 non-null    object \n",
            " 9   Fare         891 non-null    float64\n",
            " 10  Cabin        204 non-null    object \n",
            " 11  Embarked     889 non-null    object \n",
            "dtypes: float64(2), int64(5), object(5)\n",
            "memory usage: 83.7+ KB\n",
            "None\n"
          ]
        }
      ]
    },
    {
      "cell_type": "code",
      "source": [
        "## Contando os valores NaN nas features\n",
        "test_null = test.isnull().sum()\n",
        "train_null = train.isnull().sum()\n",
        "print(test_null)\n",
        "print('*'*19)\n",
        "print(train_null)"
      ],
      "metadata": {
        "colab": {
          "base_uri": "https://localhost:8080/"
        },
        "id": "nsIgD2zUhD0e",
        "outputId": "4123b114-5757-41f2-ed81-0afd9958ee83"
      },
      "execution_count": null,
      "outputs": [
        {
          "output_type": "stream",
          "name": "stdout",
          "text": [
            "PassengerId      0\n",
            "Pclass           0\n",
            "Name             0\n",
            "Sex              0\n",
            "Age             86\n",
            "SibSp            0\n",
            "Parch            0\n",
            "Ticket           0\n",
            "Fare             1\n",
            "Cabin          327\n",
            "Embarked         0\n",
            "dtype: int64\n",
            "*******************\n",
            "PassengerId      0\n",
            "Survived         0\n",
            "Pclass           0\n",
            "Name             0\n",
            "Sex              0\n",
            "Age            177\n",
            "SibSp            0\n",
            "Parch            0\n",
            "Ticket           0\n",
            "Fare             0\n",
            "Cabin          687\n",
            "Embarked         2\n",
            "dtype: int64\n"
          ]
        }
      ]
    },
    {
      "cell_type": "code",
      "source": [
        "## Fazendo copiaa do bancos de dados de treino\n",
        "train_copy = train.copy()\n",
        "## Retirando features 'Cabin' e 'Ticket'\n",
        "for data in [train_copy, test]:\n",
        "  data = data.drop(['Cabin', 'Ticket'], axis=1, inplace= True)"
      ],
      "metadata": {
        "id": "HQKXPFU5iFJl"
      },
      "execution_count": null,
      "outputs": []
    },
    {
      "cell_type": "code",
      "source": [
        "for data in [train_copy, test]:\n",
        "  ## Substituindo valores nulos pela mediana nas features \"Age\" e \"Fare\"\n",
        "  data['Age'].fillna(data['Age'].median(), inplace=True)\n",
        "  data['Fare'].fillna(data['Fare'].median(), inplace=True)\n",
        "  ## Substituindo valores nulos pela moda na feature \"Embarked\"\n",
        "  data['Embarked'].fillna(data['Embarked'].mode()[0], inplace=True)"
      ],
      "metadata": {
        "id": "W8FqjHIKjmPZ"
      },
      "execution_count": null,
      "outputs": []
    },
    {
      "cell_type": "code",
      "source": [
        "for data in [train_copy, test]:\n",
        "  ## Separando feature \"Age\" em 5 intervalos de mesmo tamanho\n",
        "  data['AgeGroup'] = pd.cut(data['Age'].astype(int),5)\n",
        "  ## Separando feature \"Fare\" em 6 intervalos com mesmo numero de dados\n",
        "  data['FareGroup'] = pd.qcut(data['Fare'], 6)"
      ],
      "metadata": {
        "id": "1OG4xrzKooD6"
      },
      "execution_count": null,
      "outputs": []
    },
    {
      "cell_type": "markdown",
      "source": [
        "**Aperfeiçoamento da Modelagem**"
      ],
      "metadata": {
        "id": "XNXpZ5l_S0kv"
      }
    },
    {
      "cell_type": "code",
      "source": [
        "# Relembrando Features Categóricas\n",
        "train_copy.info()"
      ],
      "metadata": {
        "colab": {
          "base_uri": "https://localhost:8080/"
        },
        "id": "LnZVlV0qsbqm",
        "outputId": "52cbbf22-ffda-4a97-85e9-7851638e9931"
      },
      "execution_count": null,
      "outputs": [
        {
          "output_type": "stream",
          "name": "stdout",
          "text": [
            "<class 'pandas.core.frame.DataFrame'>\n",
            "RangeIndex: 891 entries, 0 to 890\n",
            "Data columns (total 12 columns):\n",
            " #   Column       Non-Null Count  Dtype   \n",
            "---  ------       --------------  -----   \n",
            " 0   PassengerId  891 non-null    int64   \n",
            " 1   Survived     891 non-null    int64   \n",
            " 2   Pclass       891 non-null    int64   \n",
            " 3   Name         891 non-null    object  \n",
            " 4   Sex          891 non-null    object  \n",
            " 5   Age          891 non-null    float64 \n",
            " 6   SibSp        891 non-null    int64   \n",
            " 7   Parch        891 non-null    int64   \n",
            " 8   Fare         891 non-null    float64 \n",
            " 9   Embarked     891 non-null    object  \n",
            " 10  AgeGroup     891 non-null    category\n",
            " 11  FareGroup    891 non-null    category\n",
            "dtypes: category(2), float64(2), int64(5), object(3)\n",
            "memory usage: 72.0+ KB\n"
          ]
        }
      ]
    },
    {
      "cell_type": "code",
      "source": [
        "## Identificando nome das colunas numéricas e categóricas\n",
        "numeric_features = train_copy.select_dtypes(include=['int64', 'float64']).columns\n",
        "categoric_features = train_copy.select_dtypes(include=['object']).columns\n",
        "for data in [numeric_features, categoric_features]:\n",
        "  print(data)"
      ],
      "metadata": {
        "colab": {
          "base_uri": "https://localhost:8080/"
        },
        "id": "V6s11nhLSwKc",
        "outputId": "224d6e9a-effd-4f5a-b878-259a164e62a2"
      },
      "execution_count": null,
      "outputs": [
        {
          "output_type": "stream",
          "name": "stdout",
          "text": [
            "Index(['PassengerId', 'Survived', 'Pclass', 'Age', 'SibSp', 'Parch', 'Fare'], dtype='object')\n",
            "Index(['Name', 'Sex', 'Embarked'], dtype='object')\n"
          ]
        }
      ]
    },
    {
      "cell_type": "markdown",
      "source": [
        "**Encoding de Variáveis Categóricas**"
      ],
      "metadata": {
        "id": "xFbROC4ocK63"
      }
    },
    {
      "cell_type": "code",
      "source": [
        "## One-Hot-encode\n",
        "from sklearn.preprocessing import OneHotEncoder\n",
        "onehot = OneHotEncoder(sparse = False)\n",
        "## Função para realizar o encoding das variáveis\n",
        "def onehotEncode(data,cols):\n",
        "    encode_data = data.copy()\n",
        "    for col in cols:      \n",
        "        ## Criando colunas para atribuir One-hot-encode\n",
        "        onehotCols = pd.DataFrame(onehot.fit_transform(data[[col]]),dtype = 'int')\n",
        "        ## Nomeando as colunas\n",
        "        onehotCols.columns = onehot.get_feature_names([col])\n",
        "        ## Adicionando as novas colunas codificadas ao dataframe\n",
        "        encode_data = encode_data.drop([col], axis = 1)\n",
        "        encode_data = pd.concat([encode_data,onehotCols], axis = 1)\n",
        "    return encode_data\n",
        "\n",
        "#Realizando o encoding dos dataframes\n",
        "train_encoded = onehotEncode(train_copy,[\"Sex\",\"Embarked\"])\n",
        "test_encoded = onehotEncode(test,[\"Sex\",\"Embarked\"])"
      ],
      "metadata": {
        "colab": {
          "base_uri": "https://localhost:8080/"
        },
        "id": "zOtC4QUGXr8C",
        "outputId": "049f287c-7c59-4db6-c4e5-f6d4598a1383"
      },
      "execution_count": null,
      "outputs": [
        {
          "output_type": "stream",
          "name": "stderr",
          "text": [
            "/usr/local/lib/python3.7/dist-packages/sklearn/utils/deprecation.py:87: FutureWarning: Function get_feature_names is deprecated; get_feature_names is deprecated in 1.0 and will be removed in 1.2. Please use get_feature_names_out instead.\n",
            "  warnings.warn(msg, category=FutureWarning)\n",
            "/usr/local/lib/python3.7/dist-packages/sklearn/utils/deprecation.py:87: FutureWarning: Function get_feature_names is deprecated; get_feature_names is deprecated in 1.0 and will be removed in 1.2. Please use get_feature_names_out instead.\n",
            "  warnings.warn(msg, category=FutureWarning)\n",
            "/usr/local/lib/python3.7/dist-packages/sklearn/utils/deprecation.py:87: FutureWarning: Function get_feature_names is deprecated; get_feature_names is deprecated in 1.0 and will be removed in 1.2. Please use get_feature_names_out instead.\n",
            "  warnings.warn(msg, category=FutureWarning)\n",
            "/usr/local/lib/python3.7/dist-packages/sklearn/utils/deprecation.py:87: FutureWarning: Function get_feature_names is deprecated; get_feature_names is deprecated in 1.0 and will be removed in 1.2. Please use get_feature_names_out instead.\n",
            "  warnings.warn(msg, category=FutureWarning)\n"
          ]
        }
      ]
    },
    {
      "cell_type": "code",
      "source": [
        "## Label encoding\n",
        "from sklearn.preprocessing import LabelEncoder\n",
        "label = LabelEncoder()\n",
        "for data in [train_encoded,test_encoded]:\n",
        "    data[\"Age_group_code\"] = label.fit_transform(data[\"AgeGroup\"])\n",
        "    data[\"Fare_group_code\"] = label.fit_transform(data[\"FareGroup\"])\n",
        "    data = data.drop([\"AgeGroup\",\"FareGroup\",\"Name\"], axis = 1, inplace = True)\n",
        "    \n",
        "train_encoded.head()"
      ],
      "metadata": {
        "colab": {
          "base_uri": "https://localhost:8080/",
          "height": 206
        },
        "id": "kwWfTiMxZa0G",
        "outputId": "5c9b2700-e542-4045-9c13-45a03271f70e"
      },
      "execution_count": null,
      "outputs": [
        {
          "output_type": "execute_result",
          "data": {
            "text/html": [
              "<div>\n",
              "<style scoped>\n",
              "    .dataframe tbody tr th:only-of-type {\n",
              "        vertical-align: middle;\n",
              "    }\n",
              "\n",
              "    .dataframe tbody tr th {\n",
              "        vertical-align: top;\n",
              "    }\n",
              "\n",
              "    .dataframe thead th {\n",
              "        text-align: right;\n",
              "    }\n",
              "</style>\n",
              "<table border=\"1\" class=\"dataframe\">\n",
              "  <thead>\n",
              "    <tr style=\"text-align: right;\">\n",
              "      <th></th>\n",
              "      <th>PassengerId</th>\n",
              "      <th>Survived</th>\n",
              "      <th>Pclass</th>\n",
              "      <th>Age</th>\n",
              "      <th>SibSp</th>\n",
              "      <th>Parch</th>\n",
              "      <th>Fare</th>\n",
              "      <th>Sex_female</th>\n",
              "      <th>Sex_male</th>\n",
              "      <th>Embarked_C</th>\n",
              "      <th>Embarked_Q</th>\n",
              "      <th>Embarked_S</th>\n",
              "      <th>Age_group_code</th>\n",
              "      <th>Fare_group_code</th>\n",
              "    </tr>\n",
              "  </thead>\n",
              "  <tbody>\n",
              "    <tr>\n",
              "      <th>0</th>\n",
              "      <td>1</td>\n",
              "      <td>0</td>\n",
              "      <td>3</td>\n",
              "      <td>22.0</td>\n",
              "      <td>1</td>\n",
              "      <td>0</td>\n",
              "      <td>7.2500</td>\n",
              "      <td>0</td>\n",
              "      <td>1</td>\n",
              "      <td>0</td>\n",
              "      <td>0</td>\n",
              "      <td>1</td>\n",
              "      <td>1</td>\n",
              "      <td>0</td>\n",
              "    </tr>\n",
              "    <tr>\n",
              "      <th>1</th>\n",
              "      <td>2</td>\n",
              "      <td>1</td>\n",
              "      <td>1</td>\n",
              "      <td>38.0</td>\n",
              "      <td>1</td>\n",
              "      <td>0</td>\n",
              "      <td>71.2833</td>\n",
              "      <td>1</td>\n",
              "      <td>0</td>\n",
              "      <td>1</td>\n",
              "      <td>0</td>\n",
              "      <td>0</td>\n",
              "      <td>2</td>\n",
              "      <td>5</td>\n",
              "    </tr>\n",
              "    <tr>\n",
              "      <th>2</th>\n",
              "      <td>3</td>\n",
              "      <td>1</td>\n",
              "      <td>3</td>\n",
              "      <td>26.0</td>\n",
              "      <td>0</td>\n",
              "      <td>0</td>\n",
              "      <td>7.9250</td>\n",
              "      <td>1</td>\n",
              "      <td>0</td>\n",
              "      <td>0</td>\n",
              "      <td>0</td>\n",
              "      <td>1</td>\n",
              "      <td>1</td>\n",
              "      <td>1</td>\n",
              "    </tr>\n",
              "    <tr>\n",
              "      <th>3</th>\n",
              "      <td>4</td>\n",
              "      <td>1</td>\n",
              "      <td>1</td>\n",
              "      <td>35.0</td>\n",
              "      <td>1</td>\n",
              "      <td>0</td>\n",
              "      <td>53.1000</td>\n",
              "      <td>1</td>\n",
              "      <td>0</td>\n",
              "      <td>0</td>\n",
              "      <td>0</td>\n",
              "      <td>1</td>\n",
              "      <td>2</td>\n",
              "      <td>5</td>\n",
              "    </tr>\n",
              "    <tr>\n",
              "      <th>4</th>\n",
              "      <td>5</td>\n",
              "      <td>0</td>\n",
              "      <td>3</td>\n",
              "      <td>35.0</td>\n",
              "      <td>0</td>\n",
              "      <td>0</td>\n",
              "      <td>8.0500</td>\n",
              "      <td>0</td>\n",
              "      <td>1</td>\n",
              "      <td>0</td>\n",
              "      <td>0</td>\n",
              "      <td>1</td>\n",
              "      <td>2</td>\n",
              "      <td>1</td>\n",
              "    </tr>\n",
              "  </tbody>\n",
              "</table>\n",
              "</div>"
            ],
            "text/plain": [
              "   PassengerId  Survived  Pclass  ...  Embarked_S  Age_group_code  Fare_group_code\n",
              "0            1         0       3  ...           1               1                0\n",
              "1            2         1       1  ...           0               2                5\n",
              "2            3         1       3  ...           1               1                1\n",
              "3            4         1       1  ...           1               2                5\n",
              "4            5         0       3  ...           1               2                1\n",
              "\n",
              "[5 rows x 14 columns]"
            ]
          },
          "metadata": {},
          "execution_count": 86
        }
      ]
    },
    {
      "cell_type": "code",
      "source": [
        "## Criando e avaliando novo modelo\n",
        "from sklearn.ensemble import RandomForestClassifier\n",
        "from sklearn.metrics import accuracy_score\n",
        "from sklearn.model_selection import train_test_split\n",
        "\n",
        "randomforest_model1 = RandomForestClassifier(random_state = 0)\n",
        "# Filtrando features para treinamento e definindo target\n",
        "X_model1 = train_encoded.drop('Survived', axis = 1)\n",
        "y_model1 = train_encoded['Survived']\n",
        "#Separando o banco de dados de treino e validação, validação será 20% do tamanho de treino\n",
        "X_train,X_valid,y_train,y_valid = train_test_split(X_model1,y_model1,test_size = 0.2,random_state = 0)\n",
        "# Treinando o modelo\n",
        "randomforest_model1.fit(X_train,y_train)\n",
        "preds = randomforest_model1.predict(X_valid)\n",
        "#Validando o modelo\n",
        "accuracy = round(accuracy_score(preds,y_valid)*100,2)\n",
        "print(accuracy)"
      ],
      "metadata": {
        "colab": {
          "base_uri": "https://localhost:8080/"
        },
        "id": "X65LaJPCaLEV",
        "outputId": "9d54e9df-9133-465d-d618-da7614cf443d"
      },
      "execution_count": null,
      "outputs": [
        {
          "output_type": "stream",
          "name": "stdout",
          "text": [
            "83.24\n"
          ]
        }
      ]
    },
    {
      "cell_type": "markdown",
      "source": [
        "**Pipelines**"
      ],
      "metadata": {
        "id": "dpSfCZPLcQoV"
      }
    },
    {
      "cell_type": "code",
      "source": [
        "## Colocando de volta os valores nulos das colunas “Age” e “Embarked”\n",
        "train_copy2 = train_copy.copy()\n",
        "train_copy2 = train_copy2.drop([\"Age\",\"Embarked\"], axis = 1)\n",
        "train_copy2 = pd.concat([train_copy2,train[[\"Age\",\"Embarked\"]]],axis = 1)\n",
        "train_copy2.isnull().sum()"
      ],
      "metadata": {
        "colab": {
          "base_uri": "https://localhost:8080/"
        },
        "id": "ivb0XCxBb80x",
        "outputId": "7b2f785a-235f-471c-f692-e183d4b2f7d7"
      },
      "execution_count": null,
      "outputs": [
        {
          "output_type": "execute_result",
          "data": {
            "text/plain": [
              "PassengerId      0\n",
              "Survived         0\n",
              "Pclass           0\n",
              "Name             0\n",
              "Sex              0\n",
              "SibSp            0\n",
              "Parch            0\n",
              "Fare             0\n",
              "AgeGroup         0\n",
              "FareGroup        0\n",
              "Age            177\n",
              "Embarked         2\n",
              "dtype: int64"
            ]
          },
          "metadata": {},
          "execution_count": 88
        }
      ]
    },
    {
      "cell_type": "code",
      "source": [
        "from sklearn.compose import ColumnTransformer\n",
        "from sklearn.pipeline import Pipeline\n",
        "from sklearn.impute import SimpleImputer\n",
        "## Criando função que produz e avalia pipelines\n",
        "def pipeline_maker(data, encoder, model, numerical_imputer = SimpleImputer(),categorical_imputer = SimpleImputer(strategy = 'most_frequent')):\n",
        "  ## Definindo as features e o target que serão usados\n",
        "  X_pipe = data.drop('Survived', axis = 1)\n",
        "  y_pipe = data['Survived']\n",
        "  ## Separarando o banco de dados utilizando o train-test split\n",
        "  X_train_pipe,X_valid_pipe,y_train_pipe,y_valid_pipe = train_test_split(X_pipe,y_pipe,test_size = 0.2,random_state = 0)\n",
        "\n",
        "  ## Criando preprocessor\n",
        "  num_transf = numerical_imputer\n",
        "  cat_transf = Pipeline(steps = [('imputer', categorical_imputer),('encoder',encoder)])\n",
        "  preprocessor = ColumnTransformer(transformers = [('num',num_transf,['Age']),('cat',cat_transf,['AgeGroup','FareGroup','Sex','Embarked'])])\n",
        "  \n",
        "  ## Criando pipeline utilizando o preprocessor previamente construído\n",
        "  pipe = Pipeline(steps = [('preprocessor', preprocessor),('model', model)])\n",
        "  ## Treinando pipeline\n",
        "  pipe.fit(X_train_pipe,y_train_pipe)\n",
        "  ## Gerando predições\n",
        "  preds_pipe = pipe.predict(X_valid_pipe)\n",
        "\n",
        "  ## Avaliando as predições\n",
        "  accuracy = round(accuracy_score(preds_pipe,y_valid_pipe)*100,2)\n",
        "  return accuracy, preds_pipe"
      ],
      "metadata": {
        "id": "ItdMFBvddpf2"
      },
      "execution_count": null,
      "outputs": []
    },
    {
      "cell_type": "code",
      "source": [
        "from sklearn.preprocessing import OrdinalEncoder\n",
        "## Definindo as estrategias para imputing\n",
        "mean_imputer = SimpleImputer()\n",
        "most_frequent_imputer = SimpleImputer(strategy = 'most_frequent')\n",
        "median_imputer = SimpleImputer(strategy = 'median')\n",
        "zero_imputer = SimpleImputer(strategy = 'constant', fill_value = 0)\n",
        "imputers = [mean_imputer, most_frequent_imputer, median_imputer, zero_imputer]\n",
        "\n",
        "## Definindo as estrategias para encoding\n",
        "onehot_encoder = OneHotEncoder(sparse = False)\n",
        "ordinal_encoder = OrdinalEncoder()\n",
        "encoders = [onehot_encoder, ordinal_encoder]\n",
        "\n",
        "## Definindo Modelo\n",
        "randomforest = RandomForestClassifier(random_state = 0)\n",
        "\n",
        "## Criando loop que produz todas as combinações de estratégia possíveis\n",
        "for encoder in encoders:\n",
        "    for imputer in imputers:\n",
        "        accuracy,_ = pipeline_maker(train_copy2, encoder, randomforest, numerical_imputer = imputer)\n",
        "        print(\"pipe_\"+str(encoder)+'_'+str(imputer)+'='+str(accuracy))"
      ],
      "metadata": {
        "colab": {
          "base_uri": "https://localhost:8080/"
        },
        "id": "-kSEtATYf9DR",
        "outputId": "6033df68-175a-460b-8e06-ea01d76c895a"
      },
      "execution_count": null,
      "outputs": [
        {
          "output_type": "stream",
          "name": "stdout",
          "text": [
            "pipe_OneHotEncoder(sparse=False)_SimpleImputer()=78.21\n",
            "pipe_OneHotEncoder(sparse=False)_SimpleImputer(strategy='most_frequent')=77.65\n",
            "pipe_OneHotEncoder(sparse=False)_SimpleImputer(strategy='median')=76.54\n",
            "pipe_OneHotEncoder(sparse=False)_SimpleImputer(fill_value=0, strategy='constant')=77.09\n",
            "pipe_OrdinalEncoder()_SimpleImputer()=78.21\n",
            "pipe_OrdinalEncoder()_SimpleImputer(strategy='most_frequent')=78.21\n",
            "pipe_OrdinalEncoder()_SimpleImputer(strategy='median')=77.09\n",
            "pipe_OrdinalEncoder()_SimpleImputer(fill_value=0, strategy='constant')=78.77\n"
          ]
        }
      ]
    },
    {
      "cell_type": "markdown",
      "source": [
        "Note que nenhuma dessas estratégias usadas separadamente, gerou uma precisão do\n",
        "modelo maior que suas utilizações mescladas."
      ],
      "metadata": {
        "id": "wQorblU5idmx"
      }
    },
    {
      "cell_type": "markdown",
      "source": [
        "**Cross Validation e Gradient Boosting**"
      ],
      "metadata": {
        "id": "ttfRO8d7iscz"
      }
    },
    {
      "cell_type": "code",
      "source": [
        "## Avaliando modelo com cross validation\n",
        "from sklearn.model_selection import cross_val_score\n",
        "## Criando função para gerar avaliação\n",
        "def crossValidation(model, X, y):\n",
        "    scores = cross_val_score(model, X, y, cv = 5, scoring = 'accuracy')\n",
        "    return round(scores.mean()*100,2)\n",
        "\n",
        "## Avaliando modelo mesclado \n",
        "cv_accuracy = crossValidation(randomforest_model1, X_model1, y_model1)\n",
        "print(cv_accuracy)"
      ],
      "metadata": {
        "colab": {
          "base_uri": "https://localhost:8080/"
        },
        "id": "_Vju4T1jiw-x",
        "outputId": "c092b46c-0fb0-494f-9d8d-c908df6b70fb"
      },
      "execution_count": null,
      "outputs": [
        {
          "output_type": "stream",
          "name": "stdout",
          "text": [
            "80.93\n"
          ]
        }
      ]
    },
    {
      "cell_type": "code",
      "source": [
        "## Avaliando modelo com gradient boosting\n",
        "from sklearn.ensemble import GradientBoostingClassifier\n",
        "## Criando função para gerar avaliação \n",
        "def gradientBoosting(X,y):\n",
        "    gradientBoosting_class = GradientBoostingClassifier(random_state = 0, n_iter_no_change = 100) \n",
        "    gradientBoosting_class.fit(X,y)\n",
        "    score = crossValidation(gradientBoosting_class, X, y)\n",
        "    return score, gradientBoosting_class\n",
        "\n",
        "X_model2 = X_model1\n",
        "y_model2 = y_model1\n",
        "\n",
        "score,gradientBoosting_class = gradientBoosting(X_model2,y_model2)\n",
        "print(score)"
      ],
      "metadata": {
        "colab": {
          "base_uri": "https://localhost:8080/"
        },
        "id": "3f-20x5Jkb1p",
        "outputId": "54e42b26-f1d2-4b92-c8e3-aecb7bb7d109"
      },
      "execution_count": null,
      "outputs": [
        {
          "output_type": "stream",
          "name": "stderr",
          "text": [
            "/usr/local/lib/python3.7/dist-packages/sklearn/base.py:446: UserWarning: X does not have valid feature names, but GradientBoostingClassifier was fitted with feature names\n",
            "  \"X does not have valid feature names, but\"\n",
            "/usr/local/lib/python3.7/dist-packages/sklearn/base.py:446: UserWarning: X does not have valid feature names, but GradientBoostingClassifier was fitted with feature names\n",
            "  \"X does not have valid feature names, but\"\n",
            "/usr/local/lib/python3.7/dist-packages/sklearn/base.py:446: UserWarning: X does not have valid feature names, but GradientBoostingClassifier was fitted with feature names\n",
            "  \"X does not have valid feature names, but\"\n",
            "/usr/local/lib/python3.7/dist-packages/sklearn/base.py:446: UserWarning: X does not have valid feature names, but GradientBoostingClassifier was fitted with feature names\n",
            "  \"X does not have valid feature names, but\"\n",
            "/usr/local/lib/python3.7/dist-packages/sklearn/base.py:446: UserWarning: X does not have valid feature names, but GradientBoostingClassifier was fitted with feature names\n",
            "  \"X does not have valid feature names, but\"\n",
            "/usr/local/lib/python3.7/dist-packages/sklearn/base.py:446: UserWarning: X does not have valid feature names, but GradientBoostingClassifier was fitted with feature names\n",
            "  \"X does not have valid feature names, but\"\n"
          ]
        },
        {
          "output_type": "stream",
          "name": "stdout",
          "text": [
            "78.47\n"
          ]
        }
      ]
    },
    {
      "cell_type": "code",
      "source": [
        ""
      ],
      "metadata": {
        "id": "MTxhQiFgmPa3"
      },
      "execution_count": null,
      "outputs": []
    }
  ]
}