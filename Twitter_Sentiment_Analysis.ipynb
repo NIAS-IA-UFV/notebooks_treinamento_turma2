{
 "cells": [
  {
   "cell_type": "code",
   "execution_count": 3,
   "id": "ecd13e6d-d444-4e9f-900a-c667acecb584",
   "metadata": {},
   "outputs": [],
   "source": [
    "tweets = [\n",
    "\"Wow, what a great day today!! #sunshine\",\n",
    "\"I feel sad about the things going on around us. #covid19\",\n",
    "\"I'm really excited to learn Python with @JovianML #zerotopandas\",\n",
    "\"This is a really nice song. #linkinpark\",\n",
    "\"The python programming language is useful for data science\",\n",
    "\"Why do bad things happen to me?\",\n",
    "\"Apple announces the release of the new iPhone 12. Fans are excited.\",\n",
    "\"Spent my day with family!! #happy\",\n",
    "\"Check out my blog post on common string operations in Python. #zerotopandas\", \"Freecodecamp has great coding tutorials. #skillup\"\n",
    "]"
   ]
  },
  {
   "cell_type": "code",
   "execution_count": 4,
   "id": "869fbeee-1267-4609-8ff7-2c39463bff2c",
   "metadata": {},
   "outputs": [
    {
     "name": "stdout",
     "output_type": "stream",
     "text": [
      "10\n"
     ]
    }
   ],
   "source": [
    "number_of_tweets = len (tweets)\n",
    "print (number_of_tweets)"
   ]
  },
  {
   "cell_type": "code",
   "execution_count": 5,
   "id": "754f8034-a422-490f-bea9-60a51691d5b0",
   "metadata": {},
   "outputs": [],
   "source": [
    "happy_words = ['great', 'excited', 'happy', 'nice', 'wonderful', 'amazing', 'good', 'best'] \n",
    "sad_words = ['sad', 'bad', 'tragic', 'unhappy', 'worst']"
   ]
  },
  {
   "cell_type": "code",
   "execution_count": 6,
   "id": "a1adc485-1883-4e23-80af-795687f59651",
   "metadata": {},
   "outputs": [],
   "source": [
    "sample_tweet = tweets[0]"
   ]
  },
  {
   "cell_type": "code",
   "execution_count": 7,
   "id": "7a7962c1-daa6-4f63-a51b-1f0aec9291de",
   "metadata": {},
   "outputs": [],
   "source": [
    "is_happy_tweet = False\n",
    "\n",
    "for word in happy_words:\n",
    "    if word in sample_tweet:\n",
    "        is_happy_tweet = True"
   ]
  },
  {
   "cell_type": "code",
   "execution_count": 8,
   "id": "b2b4e8c6-1278-458c-b219-d5856ebaaf21",
   "metadata": {},
   "outputs": [
    {
     "data": {
      "text/plain": [
       "True"
      ]
     },
     "execution_count": 8,
     "metadata": {},
     "output_type": "execute_result"
    }
   ],
   "source": [
    "is_happy_tweet"
   ]
  },
  {
   "cell_type": "code",
   "execution_count": 9,
   "id": "7346df33-11a0-4ad8-9222-ce77f1664f81",
   "metadata": {},
   "outputs": [
    {
     "name": "stdout",
     "output_type": "stream",
     "text": [
      "Número de tweets felizes é 6\n",
      "Número de tweets tristes é 2\n"
     ]
    }
   ],
   "source": [
    "number_of_happy = 0\n",
    "number_of_sad = 0\n",
    "\n",
    "for tweet in tweets: \n",
    "    for word_happy in happy_words:\n",
    "        if word_happy in tweet:\n",
    "            number_of_happy += 1\n",
    "    for word_sad in sad_words:\n",
    "        if word_sad in tweet:\n",
    "            number_of_sad += 1\n",
    "            \n",
    "print(\"Número de tweets felizes é {}\".format(number_of_happy))\n",
    "print(\"Número de tweets tristes é {}\".format(number_of_sad))"
   ]
  },
  {
   "cell_type": "code",
   "execution_count": null,
   "id": "a976be9a-65b4-4654-acdb-464ff52b98ff",
   "metadata": {},
   "outputs": [],
   "source": []
  }
 ],
 "metadata": {
  "kernelspec": {
   "display_name": "Python 3",
   "language": "python",
   "name": "python3"
  },
  "language_info": {
   "codemirror_mode": {
    "name": "ipython",
    "version": 3
   },
   "file_extension": ".py",
   "mimetype": "text/x-python",
   "name": "python",
   "nbconvert_exporter": "python",
   "pygments_lexer": "ipython3",
   "version": "3.8.8"
  }
 },
 "nbformat": 4,
 "nbformat_minor": 5
}
