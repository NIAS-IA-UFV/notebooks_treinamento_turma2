{
 "cells": [
  {
   "cell_type": "markdown",
   "id": "022a4217",
   "metadata": {},
   "source": [
    "Parte 1"
   ]
  },
  {
   "cell_type": "code",
   "execution_count": 47,
   "id": "1df4487d",
   "metadata": {},
   "outputs": [
    {
     "name": "stdout",
     "output_type": "stream",
     "text": [
      "A quantidade de tweets é: 10\n"
     ]
    }
   ],
   "source": [
    "tweets = [\n",
    "\"Wow, what a great day today!! #sunshine\",\n",
    "\"I feel sad about the things going on around us. #covid19\",\n",
    "\"I'm really excited to learn Python with @JovianML #zerotopandas\",\n",
    "\"This is a really nice song. #linkinpark\",\n",
    "\"The python programming language is useful for data science\",\n",
    "\"Why do bad things happen to me?\",\n",
    "\"Apple announces the release of the new iPhone 12. Fans are excited.\",\n",
    "\"Spent my day with family!! #happy\",\n",
    "\"Check out my blog post on common string operations in Python. #zerotopandas\",\n",
    "\"Freecodecamp has great coding tutorials. #skillup\"\n",
    "]\n",
    "quantidade = len(tweets)\n",
    "print(\"A quantidade de tweets é:\",quantidade)"
   ]
  },
  {
   "cell_type": "markdown",
   "id": "efd35e4c",
   "metadata": {},
   "source": [
    "Parte 2"
   ]
  },
  {
   "cell_type": "code",
   "execution_count": 43,
   "id": "14bafd88",
   "metadata": {},
   "outputs": [],
   "source": [
    "happy_words = ['great', 'excited', 'happy', 'nice', 'wonderful', 'amazing', 'good', 'best']\n",
    "sad_words = ['sad', 'bad', 'tragic', 'unhappy', 'worst']"
   ]
  },
  {
   "cell_type": "code",
   "execution_count": 45,
   "id": "ebe0a754",
   "metadata": {},
   "outputs": [
    {
     "data": {
      "text/plain": [
       "True"
      ]
     },
     "execution_count": 45,
     "metadata": {},
     "output_type": "execute_result"
    }
   ],
   "source": [
    "def confereHumor(tweet):\n",
    "    is_happy = False\n",
    "    for word in happy_words:\n",
    "        if word in tweet:\n",
    "            is_happy = True\n",
    "    return is_happy \n",
    "\n",
    "confereHumor(tweets[0])"
   ]
  },
  {
   "cell_type": "markdown",
   "id": "a6ba3560",
   "metadata": {},
   "source": [
    "Parte 3"
   ]
  },
  {
   "cell_type": "code",
   "execution_count": 46,
   "id": "6f2f96bf",
   "metadata": {},
   "outputs": [
    {
     "name": "stdout",
     "output_type": "stream",
     "text": [
      "A lista possui 6 tweets felizes e 2 tweets tristes\n"
     ]
    }
   ],
   "source": [
    "def contaTweetPorHumor(tweets):\n",
    "    happy_tweets = sad_tweets = 0\n",
    "    for tweet in tweets:\n",
    "        confereHumor(tweet)\n",
    "        for word in happy_words:\n",
    "            if word in tweet:\n",
    "                happy_tweets+=1\n",
    "        for word in sad_words:\n",
    "            if word in tweet:\n",
    "                sad_tweets+=1\n",
    "    print(\"A lista possui {} tweets felizes e {} tweets tristes\".format(happy_tweets,sad_tweets))\n",
    "\n",
    "contaTweetPorHumor(tweets)"
   ]
  }
 ],
 "metadata": {
  "kernelspec": {
   "display_name": "Python 3",
   "language": "python",
   "name": "python3"
  },
  "language_info": {
   "codemirror_mode": {
    "name": "ipython",
    "version": 3
   },
   "file_extension": ".py",
   "mimetype": "text/x-python",
   "name": "python",
   "nbconvert_exporter": "python",
   "pygments_lexer": "ipython3",
   "version": "3.8.8"
  }
 },
 "nbformat": 4,
 "nbformat_minor": 5
}
