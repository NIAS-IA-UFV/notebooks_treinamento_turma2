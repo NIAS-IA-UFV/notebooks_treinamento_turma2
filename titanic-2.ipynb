{
 "cells": [
  {
   "cell_type": "markdown",
   "id": "0fe29bec",
   "metadata": {
    "papermill": {
     "duration": 0.038755,
     "end_time": "2021-11-29T21:59:10.940145",
     "exception": false,
     "start_time": "2021-11-29T21:59:10.901390",
     "status": "completed"
    },
    "tags": []
   },
   "source": [
    "# Machine Learning Clássico"
   ]
  },
  {
   "cell_type": "markdown",
   "id": "50213b51",
   "metadata": {
    "papermill": {
     "duration": 0.036606,
     "end_time": "2021-11-29T21:59:11.013971",
     "exception": false,
     "start_time": "2021-11-29T21:59:10.977365",
     "status": "completed"
    },
    "tags": []
   },
   "source": [
    "## Data Cleaning"
   ]
  },
  {
   "cell_type": "markdown",
   "id": "55b7e2c3",
   "metadata": {
    "papermill": {
     "duration": 0.037012,
     "end_time": "2021-11-29T21:59:11.088837",
     "exception": false,
     "start_time": "2021-11-29T21:59:11.051825",
     "status": "completed"
    },
    "tags": []
   },
   "source": [
    "### Importando bibliotecas "
   ]
  },
  {
   "cell_type": "code",
   "execution_count": 1,
   "id": "222921a9",
   "metadata": {
    "execution": {
     "iopub.execute_input": "2021-11-29T21:59:11.168261Z",
     "iopub.status.busy": "2021-11-29T21:59:11.167052Z",
     "iopub.status.idle": "2021-11-29T21:59:11.176449Z",
     "shell.execute_reply": "2021-11-29T21:59:11.176964Z",
     "shell.execute_reply.started": "2021-11-29T20:48:00.940605Z"
    },
    "papermill": {
     "duration": 0.0512,
     "end_time": "2021-11-29T21:59:11.177235",
     "exception": false,
     "start_time": "2021-11-29T21:59:11.126035",
     "status": "completed"
    },
    "tags": []
   },
   "outputs": [],
   "source": [
    "import pandas as pd\n",
    "import numpy as np\n"
   ]
  },
  {
   "cell_type": "code",
   "execution_count": 2,
   "id": "381f118e",
   "metadata": {
    "execution": {
     "iopub.execute_input": "2021-11-29T21:59:11.255272Z",
     "iopub.status.busy": "2021-11-29T21:59:11.254614Z",
     "iopub.status.idle": "2021-11-29T21:59:12.183551Z",
     "shell.execute_reply": "2021-11-29T21:59:12.182893Z",
     "shell.execute_reply.started": "2021-11-29T20:49:04.872657Z"
    },
    "papermill": {
     "duration": 0.968734,
     "end_time": "2021-11-29T21:59:12.183691",
     "exception": false,
     "start_time": "2021-11-29T21:59:11.214957",
     "status": "completed"
    },
    "tags": []
   },
   "outputs": [],
   "source": [
    "import seaborn as sns"
   ]
  },
  {
   "cell_type": "code",
   "execution_count": 3,
   "id": "1144c7ae",
   "metadata": {
    "execution": {
     "iopub.execute_input": "2021-11-29T21:59:12.265629Z",
     "iopub.status.busy": "2021-11-29T21:59:12.264983Z",
     "iopub.status.idle": "2021-11-29T21:59:12.272878Z",
     "shell.execute_reply": "2021-11-29T21:59:12.273466Z",
     "shell.execute_reply.started": "2021-11-29T20:49:07.709042Z"
    },
    "papermill": {
     "duration": 0.052629,
     "end_time": "2021-11-29T21:59:12.273628",
     "exception": false,
     "start_time": "2021-11-29T21:59:12.220999",
     "status": "completed"
    },
    "tags": []
   },
   "outputs": [
    {
     "name": "stdout",
     "output_type": "stream",
     "text": [
      "/kaggle/input/titanic/train.csv\n",
      "/kaggle/input/titanic/test.csv\n",
      "/kaggle/input/titanic/gender_submission.csv\n"
     ]
    }
   ],
   "source": [
    "\n",
    "\n",
    "import os\n",
    "for dirname, _, filenames in os.walk('/kaggle/input'):\n",
    "    for filename in filenames:\n",
    "        print(os.path.join(dirname, filename))\n",
    "\n",
    "\n",
    "import matplotlib.pyplot as plt\n",
    "import seaborn as sns\n",
    "%matplotlib inline\n",
    "\n",
    "\n",
    "\n",
    "import warnings\n",
    "warnings.filterwarnings('ignore')"
   ]
  },
  {
   "cell_type": "markdown",
   "id": "ff7025a8",
   "metadata": {
    "papermill": {
     "duration": 0.03698,
     "end_time": "2021-11-29T21:59:12.348576",
     "exception": false,
     "start_time": "2021-11-29T21:59:12.311596",
     "status": "completed"
    },
    "tags": []
   },
   "source": [
    "### Importando dados"
   ]
  },
  {
   "cell_type": "code",
   "execution_count": 4,
   "id": "5e20d18d",
   "metadata": {
    "execution": {
     "iopub.execute_input": "2021-11-29T21:59:12.428193Z",
     "iopub.status.busy": "2021-11-29T21:59:12.427549Z",
     "iopub.status.idle": "2021-11-29T21:59:12.512012Z",
     "shell.execute_reply": "2021-11-29T21:59:12.512502Z"
    },
    "papermill": {
     "duration": 0.126973,
     "end_time": "2021-11-29T21:59:12.512677",
     "exception": false,
     "start_time": "2021-11-29T21:59:12.385704",
     "status": "completed"
    },
    "tags": []
   },
   "outputs": [
    {
     "data": {
      "text/html": [
       "<div>\n",
       "<style scoped>\n",
       "    .dataframe tbody tr th:only-of-type {\n",
       "        vertical-align: middle;\n",
       "    }\n",
       "\n",
       "    .dataframe tbody tr th {\n",
       "        vertical-align: top;\n",
       "    }\n",
       "\n",
       "    .dataframe thead th {\n",
       "        text-align: right;\n",
       "    }\n",
       "</style>\n",
       "<table border=\"1\" class=\"dataframe\">\n",
       "  <thead>\n",
       "    <tr style=\"text-align: right;\">\n",
       "      <th></th>\n",
       "      <th>PassengerId</th>\n",
       "      <th>Survived</th>\n",
       "      <th>Pclass</th>\n",
       "      <th>Name</th>\n",
       "      <th>Sex</th>\n",
       "      <th>Age</th>\n",
       "      <th>SibSp</th>\n",
       "      <th>Parch</th>\n",
       "      <th>Ticket</th>\n",
       "      <th>Fare</th>\n",
       "      <th>Cabin</th>\n",
       "      <th>Embarked</th>\n",
       "    </tr>\n",
       "  </thead>\n",
       "  <tbody>\n",
       "    <tr>\n",
       "      <th>count</th>\n",
       "      <td>891.000000</td>\n",
       "      <td>891.000000</td>\n",
       "      <td>891.000000</td>\n",
       "      <td>891</td>\n",
       "      <td>891</td>\n",
       "      <td>714.000000</td>\n",
       "      <td>891.000000</td>\n",
       "      <td>891.000000</td>\n",
       "      <td>891</td>\n",
       "      <td>891.000000</td>\n",
       "      <td>204</td>\n",
       "      <td>889</td>\n",
       "    </tr>\n",
       "    <tr>\n",
       "      <th>unique</th>\n",
       "      <td>NaN</td>\n",
       "      <td>NaN</td>\n",
       "      <td>NaN</td>\n",
       "      <td>891</td>\n",
       "      <td>2</td>\n",
       "      <td>NaN</td>\n",
       "      <td>NaN</td>\n",
       "      <td>NaN</td>\n",
       "      <td>681</td>\n",
       "      <td>NaN</td>\n",
       "      <td>147</td>\n",
       "      <td>3</td>\n",
       "    </tr>\n",
       "    <tr>\n",
       "      <th>top</th>\n",
       "      <td>NaN</td>\n",
       "      <td>NaN</td>\n",
       "      <td>NaN</td>\n",
       "      <td>Braund, Mr. Owen Harris</td>\n",
       "      <td>male</td>\n",
       "      <td>NaN</td>\n",
       "      <td>NaN</td>\n",
       "      <td>NaN</td>\n",
       "      <td>347082</td>\n",
       "      <td>NaN</td>\n",
       "      <td>B96 B98</td>\n",
       "      <td>S</td>\n",
       "    </tr>\n",
       "    <tr>\n",
       "      <th>freq</th>\n",
       "      <td>NaN</td>\n",
       "      <td>NaN</td>\n",
       "      <td>NaN</td>\n",
       "      <td>1</td>\n",
       "      <td>577</td>\n",
       "      <td>NaN</td>\n",
       "      <td>NaN</td>\n",
       "      <td>NaN</td>\n",
       "      <td>7</td>\n",
       "      <td>NaN</td>\n",
       "      <td>4</td>\n",
       "      <td>644</td>\n",
       "    </tr>\n",
       "    <tr>\n",
       "      <th>mean</th>\n",
       "      <td>446.000000</td>\n",
       "      <td>0.383838</td>\n",
       "      <td>2.308642</td>\n",
       "      <td>NaN</td>\n",
       "      <td>NaN</td>\n",
       "      <td>29.699118</td>\n",
       "      <td>0.523008</td>\n",
       "      <td>0.381594</td>\n",
       "      <td>NaN</td>\n",
       "      <td>32.204208</td>\n",
       "      <td>NaN</td>\n",
       "      <td>NaN</td>\n",
       "    </tr>\n",
       "    <tr>\n",
       "      <th>std</th>\n",
       "      <td>257.353842</td>\n",
       "      <td>0.486592</td>\n",
       "      <td>0.836071</td>\n",
       "      <td>NaN</td>\n",
       "      <td>NaN</td>\n",
       "      <td>14.526497</td>\n",
       "      <td>1.102743</td>\n",
       "      <td>0.806057</td>\n",
       "      <td>NaN</td>\n",
       "      <td>49.693429</td>\n",
       "      <td>NaN</td>\n",
       "      <td>NaN</td>\n",
       "    </tr>\n",
       "    <tr>\n",
       "      <th>min</th>\n",
       "      <td>1.000000</td>\n",
       "      <td>0.000000</td>\n",
       "      <td>1.000000</td>\n",
       "      <td>NaN</td>\n",
       "      <td>NaN</td>\n",
       "      <td>0.420000</td>\n",
       "      <td>0.000000</td>\n",
       "      <td>0.000000</td>\n",
       "      <td>NaN</td>\n",
       "      <td>0.000000</td>\n",
       "      <td>NaN</td>\n",
       "      <td>NaN</td>\n",
       "    </tr>\n",
       "    <tr>\n",
       "      <th>25%</th>\n",
       "      <td>223.500000</td>\n",
       "      <td>0.000000</td>\n",
       "      <td>2.000000</td>\n",
       "      <td>NaN</td>\n",
       "      <td>NaN</td>\n",
       "      <td>20.125000</td>\n",
       "      <td>0.000000</td>\n",
       "      <td>0.000000</td>\n",
       "      <td>NaN</td>\n",
       "      <td>7.910400</td>\n",
       "      <td>NaN</td>\n",
       "      <td>NaN</td>\n",
       "    </tr>\n",
       "    <tr>\n",
       "      <th>50%</th>\n",
       "      <td>446.000000</td>\n",
       "      <td>0.000000</td>\n",
       "      <td>3.000000</td>\n",
       "      <td>NaN</td>\n",
       "      <td>NaN</td>\n",
       "      <td>28.000000</td>\n",
       "      <td>0.000000</td>\n",
       "      <td>0.000000</td>\n",
       "      <td>NaN</td>\n",
       "      <td>14.454200</td>\n",
       "      <td>NaN</td>\n",
       "      <td>NaN</td>\n",
       "    </tr>\n",
       "    <tr>\n",
       "      <th>75%</th>\n",
       "      <td>668.500000</td>\n",
       "      <td>1.000000</td>\n",
       "      <td>3.000000</td>\n",
       "      <td>NaN</td>\n",
       "      <td>NaN</td>\n",
       "      <td>38.000000</td>\n",
       "      <td>1.000000</td>\n",
       "      <td>0.000000</td>\n",
       "      <td>NaN</td>\n",
       "      <td>31.000000</td>\n",
       "      <td>NaN</td>\n",
       "      <td>NaN</td>\n",
       "    </tr>\n",
       "    <tr>\n",
       "      <th>max</th>\n",
       "      <td>891.000000</td>\n",
       "      <td>1.000000</td>\n",
       "      <td>3.000000</td>\n",
       "      <td>NaN</td>\n",
       "      <td>NaN</td>\n",
       "      <td>80.000000</td>\n",
       "      <td>8.000000</td>\n",
       "      <td>6.000000</td>\n",
       "      <td>NaN</td>\n",
       "      <td>512.329200</td>\n",
       "      <td>NaN</td>\n",
       "      <td>NaN</td>\n",
       "    </tr>\n",
       "  </tbody>\n",
       "</table>\n",
       "</div>"
      ],
      "text/plain": [
       "        PassengerId    Survived      Pclass                     Name   Sex  \\\n",
       "count    891.000000  891.000000  891.000000                      891   891   \n",
       "unique          NaN         NaN         NaN                      891     2   \n",
       "top             NaN         NaN         NaN  Braund, Mr. Owen Harris  male   \n",
       "freq            NaN         NaN         NaN                        1   577   \n",
       "mean     446.000000    0.383838    2.308642                      NaN   NaN   \n",
       "std      257.353842    0.486592    0.836071                      NaN   NaN   \n",
       "min        1.000000    0.000000    1.000000                      NaN   NaN   \n",
       "25%      223.500000    0.000000    2.000000                      NaN   NaN   \n",
       "50%      446.000000    0.000000    3.000000                      NaN   NaN   \n",
       "75%      668.500000    1.000000    3.000000                      NaN   NaN   \n",
       "max      891.000000    1.000000    3.000000                      NaN   NaN   \n",
       "\n",
       "               Age       SibSp       Parch  Ticket        Fare    Cabin  \\\n",
       "count   714.000000  891.000000  891.000000     891  891.000000      204   \n",
       "unique         NaN         NaN         NaN     681         NaN      147   \n",
       "top            NaN         NaN         NaN  347082         NaN  B96 B98   \n",
       "freq           NaN         NaN         NaN       7         NaN        4   \n",
       "mean     29.699118    0.523008    0.381594     NaN   32.204208      NaN   \n",
       "std      14.526497    1.102743    0.806057     NaN   49.693429      NaN   \n",
       "min       0.420000    0.000000    0.000000     NaN    0.000000      NaN   \n",
       "25%      20.125000    0.000000    0.000000     NaN    7.910400      NaN   \n",
       "50%      28.000000    0.000000    0.000000     NaN   14.454200      NaN   \n",
       "75%      38.000000    1.000000    0.000000     NaN   31.000000      NaN   \n",
       "max      80.000000    8.000000    6.000000     NaN  512.329200      NaN   \n",
       "\n",
       "       Embarked  \n",
       "count       889  \n",
       "unique        3  \n",
       "top           S  \n",
       "freq        644  \n",
       "mean        NaN  \n",
       "std         NaN  \n",
       "min         NaN  \n",
       "25%         NaN  \n",
       "50%         NaN  \n",
       "75%         NaN  \n",
       "max         NaN  "
      ]
     },
     "execution_count": 4,
     "metadata": {},
     "output_type": "execute_result"
    }
   ],
   "source": [
    "titanic_test = pd.read_csv('/kaggle/input/titanic/test.csv')\n",
    "titanic_train = pd.read_csv('/kaggle/input/titanic/train.csv')\n",
    "\n",
    "\n",
    "titanic_train_c = titanic_train.copy()\n",
    "\n",
    "titanic_train.describe(include = 'all')"
   ]
  },
  {
   "cell_type": "markdown",
   "id": "bd9a3b70",
   "metadata": {
    "papermill": {
     "duration": 0.038859,
     "end_time": "2021-11-29T21:59:12.592520",
     "exception": false,
     "start_time": "2021-11-29T21:59:12.553661",
     "status": "completed"
    },
    "tags": []
   },
   "source": [
    "Informações"
   ]
  },
  {
   "cell_type": "code",
   "execution_count": 5,
   "id": "e1642707",
   "metadata": {
    "execution": {
     "iopub.execute_input": "2021-11-29T21:59:12.678451Z",
     "iopub.status.busy": "2021-11-29T21:59:12.677403Z",
     "iopub.status.idle": "2021-11-29T21:59:12.697293Z",
     "shell.execute_reply": "2021-11-29T21:59:12.698092Z"
    },
    "papermill": {
     "duration": 0.066357,
     "end_time": "2021-11-29T21:59:12.698313",
     "exception": false,
     "start_time": "2021-11-29T21:59:12.631956",
     "status": "completed"
    },
    "tags": []
   },
   "outputs": [
    {
     "name": "stdout",
     "output_type": "stream",
     "text": [
      "Titanic Train data types\n",
      "<class 'pandas.core.frame.DataFrame'>\n",
      "RangeIndex: 891 entries, 0 to 890\n",
      "Data columns (total 12 columns):\n",
      " #   Column       Non-Null Count  Dtype  \n",
      "---  ------       --------------  -----  \n",
      " 0   PassengerId  891 non-null    int64  \n",
      " 1   Survived     891 non-null    int64  \n",
      " 2   Pclass       891 non-null    int64  \n",
      " 3   Name         891 non-null    object \n",
      " 4   Sex          891 non-null    object \n",
      " 5   Age          714 non-null    float64\n",
      " 6   SibSp        891 non-null    int64  \n",
      " 7   Parch        891 non-null    int64  \n",
      " 8   Ticket       891 non-null    object \n",
      " 9   Fare         891 non-null    float64\n",
      " 10  Cabin        204 non-null    object \n",
      " 11  Embarked     889 non-null    object \n",
      "dtypes: float64(2), int64(5), object(5)\n",
      "memory usage: 83.7+ KB\n",
      "None\n",
      "--------------------------------------------------\n",
      "Titanic Test data types\n",
      "<class 'pandas.core.frame.DataFrame'>\n",
      "RangeIndex: 418 entries, 0 to 417\n",
      "Data columns (total 11 columns):\n",
      " #   Column       Non-Null Count  Dtype  \n",
      "---  ------       --------------  -----  \n",
      " 0   PassengerId  418 non-null    int64  \n",
      " 1   Pclass       418 non-null    int64  \n",
      " 2   Name         418 non-null    object \n",
      " 3   Sex          418 non-null    object \n",
      " 4   Age          332 non-null    float64\n",
      " 5   SibSp        418 non-null    int64  \n",
      " 6   Parch        418 non-null    int64  \n",
      " 7   Ticket       418 non-null    object \n",
      " 8   Fare         417 non-null    float64\n",
      " 9   Cabin        91 non-null     object \n",
      " 10  Embarked     418 non-null    object \n",
      "dtypes: float64(2), int64(4), object(5)\n",
      "memory usage: 36.0+ KB\n",
      "None\n"
     ]
    }
   ],
   "source": [
    "print('Titanic Train data types')\n",
    "print(titanic_train.info())\n",
    "print('-'*50)\n",
    "print('Titanic Test data types')\n",
    "print(titanic_test.info())"
   ]
  },
  {
   "cell_type": "markdown",
   "id": "c8433f29",
   "metadata": {
    "papermill": {
     "duration": 0.039027,
     "end_time": "2021-11-29T21:59:12.836880",
     "exception": false,
     "start_time": "2021-11-29T21:59:12.797853",
     "status": "completed"
    },
    "tags": []
   },
   "source": [
    "Valores \"NAn\""
   ]
  },
  {
   "cell_type": "code",
   "execution_count": 6,
   "id": "049acd39",
   "metadata": {
    "execution": {
     "iopub.execute_input": "2021-11-29T21:59:12.920046Z",
     "iopub.status.busy": "2021-11-29T21:59:12.919057Z",
     "iopub.status.idle": "2021-11-29T21:59:12.930063Z",
     "shell.execute_reply": "2021-11-29T21:59:12.930662Z"
    },
    "papermill": {
     "duration": 0.05443,
     "end_time": "2021-11-29T21:59:12.930828",
     "exception": false,
     "start_time": "2021-11-29T21:59:12.876398",
     "status": "completed"
    },
    "tags": []
   },
   "outputs": [
    {
     "name": "stdout",
     "output_type": "stream",
     "text": [
      "Titanic Train data NaN Values\n",
      "PassengerId      0\n",
      "Survived         0\n",
      "Pclass           0\n",
      "Name             0\n",
      "Sex              0\n",
      "Age            177\n",
      "SibSp            0\n",
      "Parch            0\n",
      "Ticket           0\n",
      "Fare             0\n",
      "Cabin          687\n",
      "Embarked         2\n",
      "dtype: int64\n",
      "--------------------------------------------------\n",
      "Titanic Test data NaN Values\n",
      "PassengerId      0\n",
      "Pclass           0\n",
      "Name             0\n",
      "Sex              0\n",
      "Age             86\n",
      "SibSp            0\n",
      "Parch            0\n",
      "Ticket           0\n",
      "Fare             1\n",
      "Cabin          327\n",
      "Embarked         0\n",
      "dtype: int64\n"
     ]
    }
   ],
   "source": [
    "print('Titanic Train data NaN Values')\n",
    "print(titanic_train.isnull().sum())\n",
    "print('-'*50)\n",
    "print('Titanic Test data NaN Values')\n",
    "print(titanic_test.isnull().sum())"
   ]
  },
  {
   "cell_type": "markdown",
   "id": "e1cf76f3",
   "metadata": {
    "papermill": {
     "duration": 0.039231,
     "end_time": "2021-11-29T21:59:13.010008",
     "exception": false,
     "start_time": "2021-11-29T21:59:12.970777",
     "status": "completed"
    },
    "tags": []
   },
   "source": [
    "Retirar valores não uteis (Cabin e Ticket)"
   ]
  },
  {
   "cell_type": "code",
   "execution_count": 7,
   "id": "5303aff7",
   "metadata": {
    "execution": {
     "iopub.execute_input": "2021-11-29T21:59:13.097531Z",
     "iopub.status.busy": "2021-11-29T21:59:13.096488Z",
     "iopub.status.idle": "2021-11-29T21:59:13.100660Z",
     "shell.execute_reply": "2021-11-29T21:59:13.100169Z",
     "shell.execute_reply.started": "2021-11-29T20:51:20.433311Z"
    },
    "papermill": {
     "duration": 0.050836,
     "end_time": "2021-11-29T21:59:13.100800",
     "exception": false,
     "start_time": "2021-11-29T21:59:13.049964",
     "status": "completed"
    },
    "tags": []
   },
   "outputs": [],
   "source": [
    "for data in [titanic_train_c, titanic_test]:\n",
    "    data = data.drop([\"Cabin\",\"Ticket\"],axis=1, inplace = True)"
   ]
  },
  {
   "cell_type": "markdown",
   "id": "fcbf8d38",
   "metadata": {
    "papermill": {
     "duration": 0.039181,
     "end_time": "2021-11-29T21:59:13.179433",
     "exception": false,
     "start_time": "2021-11-29T21:59:13.140252",
     "status": "completed"
    },
    "tags": []
   },
   "source": [
    "Retiando \"PassengerID\"do data frame de teste"
   ]
  },
  {
   "cell_type": "code",
   "execution_count": 8,
   "id": "63ecb4f5",
   "metadata": {
    "execution": {
     "iopub.execute_input": "2021-11-29T21:59:13.263444Z",
     "iopub.status.busy": "2021-11-29T21:59:13.262450Z",
     "iopub.status.idle": "2021-11-29T21:59:13.267276Z",
     "shell.execute_reply": "2021-11-29T21:59:13.267727Z",
     "shell.execute_reply.started": "2021-11-29T20:53:26.699467Z"
    },
    "papermill": {
     "duration": 0.048485,
     "end_time": "2021-11-29T21:59:13.267911",
     "exception": false,
     "start_time": "2021-11-29T21:59:13.219426",
     "status": "completed"
    },
    "tags": []
   },
   "outputs": [],
   "source": [
    "titanic_train_c = titanic_train_c.drop([\"PassengerId\"], axis = 1)"
   ]
  },
  {
   "cell_type": "code",
   "execution_count": 9,
   "id": "2c5026cb",
   "metadata": {
    "execution": {
     "iopub.execute_input": "2021-11-29T21:59:13.355802Z",
     "iopub.status.busy": "2021-11-29T21:59:13.354838Z",
     "iopub.status.idle": "2021-11-29T21:59:13.480259Z",
     "shell.execute_reply": "2021-11-29T21:59:13.479557Z",
     "shell.execute_reply.started": "2021-11-29T20:53:11.095730Z"
    },
    "papermill": {
     "duration": 0.170611,
     "end_time": "2021-11-29T21:59:13.480523",
     "exception": true,
     "start_time": "2021-11-29T21:59:13.309912",
     "status": "failed"
    },
    "tags": []
   },
   "outputs": [
    {
     "ename": "KeyError",
     "evalue": "\"['PassengerId'] not found in axis\"",
     "output_type": "error",
     "traceback": [
      "\u001b[0;31m---------------------------------------------------------------------------\u001b[0m",
      "\u001b[0;31mKeyError\u001b[0m                                  Traceback (most recent call last)",
      "\u001b[0;32m/tmp/ipykernel_21/2332208523.py\u001b[0m in \u001b[0;36m<module>\u001b[0;34m\u001b[0m\n\u001b[0;32m----> 1\u001b[0;31m \u001b[0mtitanic_train_c\u001b[0m \u001b[0;34m=\u001b[0m \u001b[0mtitanic_train_c\u001b[0m\u001b[0;34m.\u001b[0m\u001b[0mdrop\u001b[0m\u001b[0;34m(\u001b[0m\u001b[0;34m[\u001b[0m\u001b[0;34m\"PassengerId\"\u001b[0m\u001b[0;34m]\u001b[0m\u001b[0;34m,\u001b[0m \u001b[0maxis\u001b[0m \u001b[0;34m=\u001b[0m \u001b[0;36m1\u001b[0m\u001b[0;34m)\u001b[0m\u001b[0;34m\u001b[0m\u001b[0;34m\u001b[0m\u001b[0m\n\u001b[0m",
      "\u001b[0;32m/opt/conda/lib/python3.7/site-packages/pandas/util/_decorators.py\u001b[0m in \u001b[0;36mwrapper\u001b[0;34m(*args, **kwargs)\u001b[0m\n\u001b[1;32m    309\u001b[0m                     \u001b[0mstacklevel\u001b[0m\u001b[0;34m=\u001b[0m\u001b[0mstacklevel\u001b[0m\u001b[0;34m,\u001b[0m\u001b[0;34m\u001b[0m\u001b[0;34m\u001b[0m\u001b[0m\n\u001b[1;32m    310\u001b[0m                 )\n\u001b[0;32m--> 311\u001b[0;31m             \u001b[0;32mreturn\u001b[0m \u001b[0mfunc\u001b[0m\u001b[0;34m(\u001b[0m\u001b[0;34m*\u001b[0m\u001b[0margs\u001b[0m\u001b[0;34m,\u001b[0m \u001b[0;34m**\u001b[0m\u001b[0mkwargs\u001b[0m\u001b[0;34m)\u001b[0m\u001b[0;34m\u001b[0m\u001b[0;34m\u001b[0m\u001b[0m\n\u001b[0m\u001b[1;32m    312\u001b[0m \u001b[0;34m\u001b[0m\u001b[0m\n\u001b[1;32m    313\u001b[0m         \u001b[0;32mreturn\u001b[0m \u001b[0mwrapper\u001b[0m\u001b[0;34m\u001b[0m\u001b[0;34m\u001b[0m\u001b[0m\n",
      "\u001b[0;32m/opt/conda/lib/python3.7/site-packages/pandas/core/frame.py\u001b[0m in \u001b[0;36mdrop\u001b[0;34m(self, labels, axis, index, columns, level, inplace, errors)\u001b[0m\n\u001b[1;32m   4911\u001b[0m             \u001b[0mlevel\u001b[0m\u001b[0;34m=\u001b[0m\u001b[0mlevel\u001b[0m\u001b[0;34m,\u001b[0m\u001b[0;34m\u001b[0m\u001b[0;34m\u001b[0m\u001b[0m\n\u001b[1;32m   4912\u001b[0m             \u001b[0minplace\u001b[0m\u001b[0;34m=\u001b[0m\u001b[0minplace\u001b[0m\u001b[0;34m,\u001b[0m\u001b[0;34m\u001b[0m\u001b[0;34m\u001b[0m\u001b[0m\n\u001b[0;32m-> 4913\u001b[0;31m             \u001b[0merrors\u001b[0m\u001b[0;34m=\u001b[0m\u001b[0merrors\u001b[0m\u001b[0;34m,\u001b[0m\u001b[0;34m\u001b[0m\u001b[0;34m\u001b[0m\u001b[0m\n\u001b[0m\u001b[1;32m   4914\u001b[0m         )\n\u001b[1;32m   4915\u001b[0m \u001b[0;34m\u001b[0m\u001b[0m\n",
      "\u001b[0;32m/opt/conda/lib/python3.7/site-packages/pandas/core/generic.py\u001b[0m in \u001b[0;36mdrop\u001b[0;34m(self, labels, axis, index, columns, level, inplace, errors)\u001b[0m\n\u001b[1;32m   4148\u001b[0m         \u001b[0;32mfor\u001b[0m \u001b[0maxis\u001b[0m\u001b[0;34m,\u001b[0m \u001b[0mlabels\u001b[0m \u001b[0;32min\u001b[0m \u001b[0maxes\u001b[0m\u001b[0;34m.\u001b[0m\u001b[0mitems\u001b[0m\u001b[0;34m(\u001b[0m\u001b[0;34m)\u001b[0m\u001b[0;34m:\u001b[0m\u001b[0;34m\u001b[0m\u001b[0;34m\u001b[0m\u001b[0m\n\u001b[1;32m   4149\u001b[0m             \u001b[0;32mif\u001b[0m \u001b[0mlabels\u001b[0m \u001b[0;32mis\u001b[0m \u001b[0;32mnot\u001b[0m \u001b[0;32mNone\u001b[0m\u001b[0;34m:\u001b[0m\u001b[0;34m\u001b[0m\u001b[0;34m\u001b[0m\u001b[0m\n\u001b[0;32m-> 4150\u001b[0;31m                 \u001b[0mobj\u001b[0m \u001b[0;34m=\u001b[0m \u001b[0mobj\u001b[0m\u001b[0;34m.\u001b[0m\u001b[0m_drop_axis\u001b[0m\u001b[0;34m(\u001b[0m\u001b[0mlabels\u001b[0m\u001b[0;34m,\u001b[0m \u001b[0maxis\u001b[0m\u001b[0;34m,\u001b[0m \u001b[0mlevel\u001b[0m\u001b[0;34m=\u001b[0m\u001b[0mlevel\u001b[0m\u001b[0;34m,\u001b[0m \u001b[0merrors\u001b[0m\u001b[0;34m=\u001b[0m\u001b[0merrors\u001b[0m\u001b[0;34m)\u001b[0m\u001b[0;34m\u001b[0m\u001b[0;34m\u001b[0m\u001b[0m\n\u001b[0m\u001b[1;32m   4151\u001b[0m \u001b[0;34m\u001b[0m\u001b[0m\n\u001b[1;32m   4152\u001b[0m         \u001b[0;32mif\u001b[0m \u001b[0minplace\u001b[0m\u001b[0;34m:\u001b[0m\u001b[0;34m\u001b[0m\u001b[0;34m\u001b[0m\u001b[0m\n",
      "\u001b[0;32m/opt/conda/lib/python3.7/site-packages/pandas/core/generic.py\u001b[0m in \u001b[0;36m_drop_axis\u001b[0;34m(self, labels, axis, level, errors)\u001b[0m\n\u001b[1;32m   4183\u001b[0m                 \u001b[0mnew_axis\u001b[0m \u001b[0;34m=\u001b[0m \u001b[0maxis\u001b[0m\u001b[0;34m.\u001b[0m\u001b[0mdrop\u001b[0m\u001b[0;34m(\u001b[0m\u001b[0mlabels\u001b[0m\u001b[0;34m,\u001b[0m \u001b[0mlevel\u001b[0m\u001b[0;34m=\u001b[0m\u001b[0mlevel\u001b[0m\u001b[0;34m,\u001b[0m \u001b[0merrors\u001b[0m\u001b[0;34m=\u001b[0m\u001b[0merrors\u001b[0m\u001b[0;34m)\u001b[0m\u001b[0;34m\u001b[0m\u001b[0;34m\u001b[0m\u001b[0m\n\u001b[1;32m   4184\u001b[0m             \u001b[0;32melse\u001b[0m\u001b[0;34m:\u001b[0m\u001b[0;34m\u001b[0m\u001b[0;34m\u001b[0m\u001b[0m\n\u001b[0;32m-> 4185\u001b[0;31m                 \u001b[0mnew_axis\u001b[0m \u001b[0;34m=\u001b[0m \u001b[0maxis\u001b[0m\u001b[0;34m.\u001b[0m\u001b[0mdrop\u001b[0m\u001b[0;34m(\u001b[0m\u001b[0mlabels\u001b[0m\u001b[0;34m,\u001b[0m \u001b[0merrors\u001b[0m\u001b[0;34m=\u001b[0m\u001b[0merrors\u001b[0m\u001b[0;34m)\u001b[0m\u001b[0;34m\u001b[0m\u001b[0;34m\u001b[0m\u001b[0m\n\u001b[0m\u001b[1;32m   4186\u001b[0m             \u001b[0mresult\u001b[0m \u001b[0;34m=\u001b[0m \u001b[0mself\u001b[0m\u001b[0;34m.\u001b[0m\u001b[0mreindex\u001b[0m\u001b[0;34m(\u001b[0m\u001b[0;34m**\u001b[0m\u001b[0;34m{\u001b[0m\u001b[0maxis_name\u001b[0m\u001b[0;34m:\u001b[0m \u001b[0mnew_axis\u001b[0m\u001b[0;34m}\u001b[0m\u001b[0;34m)\u001b[0m\u001b[0;34m\u001b[0m\u001b[0;34m\u001b[0m\u001b[0m\n\u001b[1;32m   4187\u001b[0m \u001b[0;34m\u001b[0m\u001b[0m\n",
      "\u001b[0;32m/opt/conda/lib/python3.7/site-packages/pandas/core/indexes/base.py\u001b[0m in \u001b[0;36mdrop\u001b[0;34m(self, labels, errors)\u001b[0m\n\u001b[1;32m   6015\u001b[0m         \u001b[0;32mif\u001b[0m \u001b[0mmask\u001b[0m\u001b[0;34m.\u001b[0m\u001b[0many\u001b[0m\u001b[0;34m(\u001b[0m\u001b[0;34m)\u001b[0m\u001b[0;34m:\u001b[0m\u001b[0;34m\u001b[0m\u001b[0;34m\u001b[0m\u001b[0m\n\u001b[1;32m   6016\u001b[0m             \u001b[0;32mif\u001b[0m \u001b[0merrors\u001b[0m \u001b[0;34m!=\u001b[0m \u001b[0;34m\"ignore\"\u001b[0m\u001b[0;34m:\u001b[0m\u001b[0;34m\u001b[0m\u001b[0;34m\u001b[0m\u001b[0m\n\u001b[0;32m-> 6017\u001b[0;31m                 \u001b[0;32mraise\u001b[0m \u001b[0mKeyError\u001b[0m\u001b[0;34m(\u001b[0m\u001b[0;34mf\"{labels[mask]} not found in axis\"\u001b[0m\u001b[0;34m)\u001b[0m\u001b[0;34m\u001b[0m\u001b[0;34m\u001b[0m\u001b[0m\n\u001b[0m\u001b[1;32m   6018\u001b[0m             \u001b[0mindexer\u001b[0m \u001b[0;34m=\u001b[0m \u001b[0mindexer\u001b[0m\u001b[0;34m[\u001b[0m\u001b[0;34m~\u001b[0m\u001b[0mmask\u001b[0m\u001b[0;34m]\u001b[0m\u001b[0;34m\u001b[0m\u001b[0;34m\u001b[0m\u001b[0m\n\u001b[1;32m   6019\u001b[0m         \u001b[0;32mreturn\u001b[0m \u001b[0mself\u001b[0m\u001b[0;34m.\u001b[0m\u001b[0mdelete\u001b[0m\u001b[0;34m(\u001b[0m\u001b[0mindexer\u001b[0m\u001b[0;34m)\u001b[0m\u001b[0;34m\u001b[0m\u001b[0;34m\u001b[0m\u001b[0m\n",
      "\u001b[0;31mKeyError\u001b[0m: \"['PassengerId'] not found in axis\""
     ]
    }
   ],
   "source": [
    "titanic_train_c = titanic_train_c.drop([\"PassengerId\"], axis = 1)"
   ]
  },
  {
   "cell_type": "markdown",
   "id": "1544473f",
   "metadata": {
    "papermill": {
     "duration": null,
     "end_time": null,
     "exception": null,
     "start_time": null,
     "status": "pending"
    },
    "tags": []
   },
   "source": [
    "Preenchendo valores Nulos"
   ]
  },
  {
   "cell_type": "markdown",
   "id": "95c4a999",
   "metadata": {
    "papermill": {
     "duration": null,
     "end_time": null,
     "exception": null,
     "start_time": null,
     "status": "pending"
    },
    "tags": []
   },
   "source": [
    "Preenchendo os valores nulos da coluna \"Age\", com a mediana"
   ]
  },
  {
   "cell_type": "code",
   "execution_count": null,
   "id": "a4a0c555",
   "metadata": {
    "execution": {
     "iopub.execute_input": "2021-11-29T20:54:06.992578Z",
     "iopub.status.busy": "2021-11-29T20:54:06.992200Z",
     "iopub.status.idle": "2021-11-29T20:54:07.001235Z",
     "shell.execute_reply": "2021-11-29T20:54:07.000186Z",
     "shell.execute_reply.started": "2021-11-29T20:54:06.992529Z"
    },
    "papermill": {
     "duration": null,
     "end_time": null,
     "exception": null,
     "start_time": null,
     "status": "pending"
    },
    "tags": []
   },
   "outputs": [],
   "source": [
    "for data in [titanic_train_c, titanic_test]:\n",
    "    data['Age'].fillna(data['Age'].median(), inplace = True)"
   ]
  },
  {
   "cell_type": "markdown",
   "id": "fa03725d",
   "metadata": {
    "papermill": {
     "duration": null,
     "end_time": null,
     "exception": null,
     "start_time": null,
     "status": "pending"
    },
    "tags": []
   },
   "source": [
    "Preenchendo os valores nulos da coluna \"Fare\", coma mediana"
   ]
  },
  {
   "cell_type": "code",
   "execution_count": null,
   "id": "d43682cc",
   "metadata": {
    "execution": {
     "iopub.execute_input": "2021-11-29T20:54:19.076979Z",
     "iopub.status.busy": "2021-11-29T20:54:19.076295Z",
     "iopub.status.idle": "2021-11-29T20:54:19.083132Z",
     "shell.execute_reply": "2021-11-29T20:54:19.082323Z",
     "shell.execute_reply.started": "2021-11-29T20:54:19.076938Z"
    },
    "papermill": {
     "duration": null,
     "end_time": null,
     "exception": null,
     "start_time": null,
     "status": "pending"
    },
    "tags": []
   },
   "outputs": [],
   "source": [
    "for data in [titanic_train_c, titanic_test]:\n",
    "    data['Fare'].fillna(data['Fare'].median(), inplace = True)\n",
    "   "
   ]
  },
  {
   "cell_type": "markdown",
   "id": "0db8aac9",
   "metadata": {
    "papermill": {
     "duration": null,
     "end_time": null,
     "exception": null,
     "start_time": null,
     "status": "pending"
    },
    "tags": []
   },
   "source": [
    "Preenchendo os valores nulos da coluna \"Embarked\", com a moda"
   ]
  },
  {
   "cell_type": "code",
   "execution_count": null,
   "id": "b2122667",
   "metadata": {
    "execution": {
     "iopub.execute_input": "2021-11-29T20:54:23.770302Z",
     "iopub.status.busy": "2021-11-29T20:54:23.769702Z",
     "iopub.status.idle": "2021-11-29T20:54:23.778183Z",
     "shell.execute_reply": "2021-11-29T20:54:23.777404Z",
     "shell.execute_reply.started": "2021-11-29T20:54:23.770254Z"
    },
    "papermill": {
     "duration": null,
     "end_time": null,
     "exception": null,
     "start_time": null,
     "status": "pending"
    },
    "tags": []
   },
   "outputs": [],
   "source": [
    "for data in [titanic_train_c, titanic_test]:\n",
    "     data['Embarked'].fillna(data['Embarked'].mode()[0], inplace = True)"
   ]
  },
  {
   "cell_type": "code",
   "execution_count": null,
   "id": "92a732b6",
   "metadata": {
    "execution": {
     "iopub.execute_input": "2021-11-29T20:54:28.226642Z",
     "iopub.status.busy": "2021-11-29T20:54:28.225386Z",
     "iopub.status.idle": "2021-11-29T20:54:28.235728Z",
     "shell.execute_reply": "2021-11-29T20:54:28.234447Z",
     "shell.execute_reply.started": "2021-11-29T20:54:28.226584Z"
    },
    "papermill": {
     "duration": null,
     "end_time": null,
     "exception": null,
     "start_time": null,
     "status": "pending"
    },
    "tags": []
   },
   "outputs": [],
   "source": [
    "print('Titanic Train data NaN Values')\n",
    "print(titanic_train_c.isnull().sum())\n"
   ]
  },
  {
   "cell_type": "code",
   "execution_count": null,
   "id": "c9bb5bbb",
   "metadata": {
    "execution": {
     "iopub.execute_input": "2021-11-29T20:54:32.277879Z",
     "iopub.status.busy": "2021-11-29T20:54:32.277355Z",
     "iopub.status.idle": "2021-11-29T20:54:32.286297Z",
     "shell.execute_reply": "2021-11-29T20:54:32.285333Z",
     "shell.execute_reply.started": "2021-11-29T20:54:32.277824Z"
    },
    "papermill": {
     "duration": null,
     "end_time": null,
     "exception": null,
     "start_time": null,
     "status": "pending"
    },
    "tags": []
   },
   "outputs": [],
   "source": [
    "print('Titanic Test data NaN Values')\n",
    "print(titanic_test.isnull().sum())"
   ]
  },
  {
   "cell_type": "code",
   "execution_count": null,
   "id": "c4d2fa96",
   "metadata": {
    "execution": {
     "iopub.execute_input": "2021-11-29T20:59:02.513713Z",
     "iopub.status.busy": "2021-11-29T20:59:02.513238Z",
     "iopub.status.idle": "2021-11-29T20:59:02.537252Z",
     "shell.execute_reply": "2021-11-29T20:59:02.536426Z",
     "shell.execute_reply.started": "2021-11-29T20:59:02.513675Z"
    },
    "papermill": {
     "duration": null,
     "end_time": null,
     "exception": null,
     "start_time": null,
     "status": "pending"
    },
    "tags": []
   },
   "outputs": [],
   "source": [
    "pd.qcut(titanic_test[\"Age\"], 5).value_counts()\n"
   ]
  },
  {
   "cell_type": "code",
   "execution_count": null,
   "id": "7ada8c53",
   "metadata": {
    "execution": {
     "iopub.execute_input": "2021-11-29T21:23:59.652144Z",
     "iopub.status.busy": "2021-11-29T21:23:59.651819Z",
     "iopub.status.idle": "2021-11-29T21:23:59.664687Z",
     "shell.execute_reply": "2021-11-29T21:23:59.663912Z",
     "shell.execute_reply.started": "2021-11-29T21:23:59.652112Z"
    },
    "papermill": {
     "duration": null,
     "end_time": null,
     "exception": null,
     "start_time": null,
     "status": "pending"
    },
    "tags": []
   },
   "outputs": [],
   "source": [
    "for data in [titanic_train_c,titanic_test]:\n",
    "    data['Age_group'] = pd.cut(data['Age'].astype(int), 5)\n",
    "    \n",
    "\n",
    "    "
   ]
  },
  {
   "cell_type": "code",
   "execution_count": null,
   "id": "044bd7b4",
   "metadata": {
    "papermill": {
     "duration": null,
     "end_time": null,
     "exception": null,
     "start_time": null,
     "status": "pending"
    },
    "tags": []
   },
   "outputs": [],
   "source": [
    "for data in [titanic_train_c,titanic_test]:\n",
    "    data['Fare_group'] = pd.qcut(data['Fare'], 6)"
   ]
  },
  {
   "cell_type": "markdown",
   "id": "7ec5774c",
   "metadata": {
    "papermill": {
     "duration": null,
     "end_time": null,
     "exception": null,
     "start_time": null,
     "status": "pending"
    },
    "tags": []
   },
   "source": [
    "### Encoding de Variáveis Categóricas"
   ]
  },
  {
   "cell_type": "markdown",
   "id": "b9bc9ec5",
   "metadata": {
    "papermill": {
     "duration": null,
     "end_time": null,
     "exception": null,
     "start_time": null,
     "status": "pending"
    },
    "tags": []
   },
   "source": [
    "#### Variáveis aleatórias"
   ]
  },
  {
   "cell_type": "code",
   "execution_count": null,
   "id": "e2fe19ed",
   "metadata": {
    "execution": {
     "iopub.execute_input": "2021-11-29T21:34:26.855629Z",
     "iopub.status.busy": "2021-11-29T21:34:26.855302Z",
     "iopub.status.idle": "2021-11-29T21:34:26.872957Z",
     "shell.execute_reply": "2021-11-29T21:34:26.871964Z",
     "shell.execute_reply.started": "2021-11-29T21:34:26.855597Z"
    },
    "papermill": {
     "duration": null,
     "end_time": null,
     "exception": null,
     "start_time": null,
     "status": "pending"
    },
    "tags": []
   },
   "outputs": [],
   "source": [
    "titanic_train_c.info()"
   ]
  },
  {
   "cell_type": "markdown",
   "id": "a11330b9",
   "metadata": {
    "papermill": {
     "duration": null,
     "end_time": null,
     "exception": null,
     "start_time": null,
     "status": "pending"
    },
    "tags": []
   },
   "source": [
    "### identificar o nome das colunas numéricas e categóricas"
   ]
  },
  {
   "cell_type": "code",
   "execution_count": null,
   "id": "29af76b1",
   "metadata": {
    "execution": {
     "iopub.execute_input": "2021-11-29T21:39:51.822879Z",
     "iopub.status.busy": "2021-11-29T21:39:51.822562Z",
     "iopub.status.idle": "2021-11-29T21:39:51.840106Z",
     "shell.execute_reply": "2021-11-29T21:39:51.839425Z",
     "shell.execute_reply.started": "2021-11-29T21:39:51.822848Z"
    },
    "papermill": {
     "duration": null,
     "end_time": null,
     "exception": null,
     "start_time": null,
     "status": "pending"
    },
    "tags": []
   },
   "outputs": [],
   "source": [
    "titanic_train_c.select_dtypes(include=['float64'])"
   ]
  },
  {
   "cell_type": "code",
   "execution_count": null,
   "id": "264411dc",
   "metadata": {
    "execution": {
     "iopub.execute_input": "2021-11-29T21:40:21.108561Z",
     "iopub.status.busy": "2021-11-29T21:40:21.107825Z",
     "iopub.status.idle": "2021-11-29T21:40:21.123530Z",
     "shell.execute_reply": "2021-11-29T21:40:21.122577Z",
     "shell.execute_reply.started": "2021-11-29T21:40:21.108494Z"
    },
    "papermill": {
     "duration": null,
     "end_time": null,
     "exception": null,
     "start_time": null,
     "status": "pending"
    },
    "tags": []
   },
   "outputs": [],
   "source": [
    "titanic_train_c.select_dtypes(include=['int64'])"
   ]
  },
  {
   "cell_type": "code",
   "execution_count": null,
   "id": "2535f237",
   "metadata": {
    "execution": {
     "iopub.execute_input": "2021-11-29T21:41:04.764539Z",
     "iopub.status.busy": "2021-11-29T21:41:04.764257Z",
     "iopub.status.idle": "2021-11-29T21:41:04.781928Z",
     "shell.execute_reply": "2021-11-29T21:41:04.781051Z",
     "shell.execute_reply.started": "2021-11-29T21:41:04.764507Z"
    },
    "papermill": {
     "duration": null,
     "end_time": null,
     "exception": null,
     "start_time": null,
     "status": "pending"
    },
    "tags": []
   },
   "outputs": [],
   "source": [
    "titanic_train_c.select_dtypes(include=['object'])"
   ]
  },
  {
   "cell_type": "markdown",
   "id": "0896aadd",
   "metadata": {
    "papermill": {
     "duration": null,
     "end_time": null,
     "exception": null,
     "start_time": null,
     "status": "pending"
    },
    "tags": []
   },
   "source": [
    "One-hot"
   ]
  },
  {
   "cell_type": "code",
   "execution_count": null,
   "id": "301cd8bf",
   "metadata": {
    "execution": {
     "iopub.execute_input": "2021-11-29T21:26:00.611839Z",
     "iopub.status.busy": "2021-11-29T21:26:00.611559Z",
     "iopub.status.idle": "2021-11-29T21:26:00.636943Z",
     "shell.execute_reply": "2021-11-29T21:26:00.636346Z",
     "shell.execute_reply.started": "2021-11-29T21:26:00.611809Z"
    },
    "papermill": {
     "duration": null,
     "end_time": null,
     "exception": null,
     "start_time": null,
     "status": "pending"
    },
    "tags": []
   },
   "outputs": [],
   "source": [
    "from sklearn.preprocessing import OneHotEncoder\n",
    "\n",
    "onehot = OneHotEncoder(sparse = False)\n",
    "\n",
    "def OH_encoder(data,cols):\n",
    "    data_encoded = data.copy()\n",
    "    for col in cols:      \n",
    " \n",
    "        OH_cols = pd.DataFrame(onehot.fit_transform(data[[col]]),dtype = 'int')\n",
    "        \n",
    " \n",
    "        OH_cols.columns = onehot.get_feature_names([col])\n",
    "        \n",
    " \n",
    "        data_encoded = data_encoded.drop([col], axis = 1)\n",
    "        data_encoded = pd.concat([data_encoded,OH_cols], axis = 1)\n",
    "    return data_encoded\n",
    "\n",
    "\n",
    "train_encoded = OH_encoder(titanic_train_c,[\"Sex\",\"Embarked\"])\n",
    "test_encoded = OH_encoder(titanic_test,[\"Sex\",\"Embarked\"])"
   ]
  },
  {
   "cell_type": "code",
   "execution_count": null,
   "id": "38c5a82a",
   "metadata": {
    "execution": {
     "iopub.execute_input": "2021-11-29T21:26:03.748392Z",
     "iopub.status.busy": "2021-11-29T21:26:03.748036Z",
     "iopub.status.idle": "2021-11-29T21:26:03.784117Z",
     "shell.execute_reply": "2021-11-29T21:26:03.783113Z",
     "shell.execute_reply.started": "2021-11-29T21:26:03.748355Z"
    },
    "papermill": {
     "duration": null,
     "end_time": null,
     "exception": null,
     "start_time": null,
     "status": "pending"
    },
    "tags": []
   },
   "outputs": [],
   "source": [
    "\n",
    "from sklearn.preprocessing import LabelEncoder\n",
    "\n",
    "label = LabelEncoder()\n",
    "\n",
    "for data in [train_encoded,test_encoded]:\n",
    "    data[\"Age_group_code\"] = label.fit_transform(data[\"Age_group\"])\n",
    "    data[\"Fare_group_code\"] = label.fit_transform(data[\"Fare_group\"])\n",
    "    data = data.drop([\"Age_group\",\"Fare_group\",\"Name\"], axis = 1, inplace = True)\n",
    "    \n",
    "train_encoded.head()"
   ]
  },
  {
   "cell_type": "markdown",
   "id": "4e2407aa",
   "metadata": {
    "papermill": {
     "duration": null,
     "end_time": null,
     "exception": null,
     "start_time": null,
     "status": "pending"
    },
    "tags": []
   },
   "source": [
    "### Precisão do Modelo"
   ]
  },
  {
   "cell_type": "code",
   "execution_count": null,
   "id": "41da1425",
   "metadata": {
    "execution": {
     "iopub.execute_input": "2021-11-29T21:42:32.975015Z",
     "iopub.status.busy": "2021-11-29T21:42:32.974697Z",
     "iopub.status.idle": "2021-11-29T21:42:33.507916Z",
     "shell.execute_reply": "2021-11-29T21:42:33.506807Z",
     "shell.execute_reply.started": "2021-11-29T21:42:32.974983Z"
    },
    "papermill": {
     "duration": null,
     "end_time": null,
     "exception": null,
     "start_time": null,
     "status": "pending"
    },
    "tags": []
   },
   "outputs": [],
   "source": [
    "\n",
    "from sklearn.ensemble import RandomForestClassifier\n",
    "from sklearn.metrics import accuracy_score\n",
    "from sklearn.model_selection import train_test_split\n",
    "\n",
    "randomforest_model1 = RandomForestClassifier(random_state = 0)\n",
    "\n",
    "X_model1 = train_encoded.drop('Survived', axis = 1)\n",
    "y_model1 = train_encoded['Survived']\n",
    "\n",
    "X_train,X_valid,y_train,y_valid = train_test_split(X_model1,y_model1,test_size = 0.2,random_state = 0)\n",
    "\n",
    "randomforest_model1.fit(X_train,y_train)\n",
    "preds = randomforest_model1.predict(X_valid)\n",
    "\n",
    "accuracy = round(accuracy_score(preds,y_valid)*100,2)\n",
    "print(accuracy)"
   ]
  },
  {
   "cell_type": "markdown",
   "id": "edd1a0f9",
   "metadata": {
    "papermill": {
     "duration": null,
     "end_time": null,
     "exception": null,
     "start_time": null,
     "status": "pending"
    },
    "tags": []
   },
   "source": [
    "## Pipilines"
   ]
  },
  {
   "cell_type": "code",
   "execution_count": null,
   "id": "cff5f431",
   "metadata": {
    "execution": {
     "iopub.execute_input": "2021-11-29T21:46:42.375911Z",
     "iopub.status.busy": "2021-11-29T21:46:42.375632Z",
     "iopub.status.idle": "2021-11-29T21:46:42.391529Z",
     "shell.execute_reply": "2021-11-29T21:46:42.390474Z",
     "shell.execute_reply.started": "2021-11-29T21:46:42.375881Z"
    },
    "papermill": {
     "duration": null,
     "end_time": null,
     "exception": null,
     "start_time": null,
     "status": "pending"
    },
    "tags": []
   },
   "outputs": [],
   "source": [
    "titanic_train_c_na = titanic_train_c.copy()\n",
    "titanic_train_c_na = titanic_train_c_na.drop([\"Age\",\"Embarked\"], axis = 1)\n",
    "titanic_train_c_na = pd.concat([titanic_train_c_na,titanic_train[[\"Age\",\"Embarked\"]]],axis = 1)\n",
    "\n",
    "titanic_train_c_na.isnull().sum()"
   ]
  },
  {
   "cell_type": "markdown",
   "id": "679d736a",
   "metadata": {
    "papermill": {
     "duration": null,
     "end_time": null,
     "exception": null,
     "start_time": null,
     "status": "pending"
    },
    "tags": []
   },
   "source": [
    "Função para avaliar estratégias"
   ]
  },
  {
   "cell_type": "markdown",
   "id": "4398bc4b",
   "metadata": {
    "papermill": {
     "duration": null,
     "end_time": null,
     "exception": null,
     "start_time": null,
     "status": "pending"
    },
    "tags": []
   },
   "source": [
    "Argumentos:\n",
    "\n",
    "● data: Banco de dados a partir do qual será produzido o modelo.\n",
    "\n",
    "● encoder: a estratégia de encoding de variáveis categóricas,\n",
    "como one-hot ou label encoder.\n",
    "\n",
    "● model: o algoritmo que irá produzir o modelo, inicialmente será\n",
    "o random forest classifier.\n",
    "\n",
    "● numerical_imputer: a estratégia usada para substituir valores\n",
    "nulos nas features numéricas, como \"mean\" ou \"median\".\n",
    "\n",
    "● categorical_imputer: estratégia para preencher valores nulos nas features categóricas, aqui será usada apenas \"most frequent\", que é substituir pelo valor que mais aparece no banco de dados."
   ]
  },
  {
   "cell_type": "code",
   "execution_count": null,
   "id": "60c885a9",
   "metadata": {
    "execution": {
     "iopub.execute_input": "2021-11-29T21:49:25.173756Z",
     "iopub.status.busy": "2021-11-29T21:49:25.172672Z",
     "iopub.status.idle": "2021-11-29T21:49:25.183633Z",
     "shell.execute_reply": "2021-11-29T21:49:25.182918Z",
     "shell.execute_reply.started": "2021-11-29T21:49:25.173693Z"
    },
    "papermill": {
     "duration": null,
     "end_time": null,
     "exception": null,
     "start_time": null,
     "status": "pending"
    },
    "tags": []
   },
   "outputs": [],
   "source": [
    "from sklearn.compose import ColumnTransformer\n",
    "from sklearn.pipeline import Pipeline\n",
    "from sklearn.impute import SimpleImputer\n",
    "\n",
    "def pipeline_maker(data, encoder, model, numerical_imputer = SimpleImputer(),\n",
    "                   categorical_imputer = SimpleImputer(strategy = 'most_frequent')):\n",
    "    \n",
    "    X_pipe = data.drop('Survived', axis = 1)\n",
    "    y_pipe = data['Survived']\n",
    "\n",
    "    X_train_pipe,X_valid_pipe,y_train_pipe,y_valid_pipe = train_test_split(X_pipe,y_pipe,\n",
    "                                                                           test_size = 0.2,\n",
    "                                                                           random_state = 0)\n",
    "\n",
    "    \n",
    "    num_transf = numerical_imputer\n",
    "    cat_transf = Pipeline(steps = [('imputer', categorical_imputer),\n",
    "                                               ('encoder',encoder)])\n",
    "    preprocessor = ColumnTransformer(transformers = [\n",
    "                                                ('num',num_transf,['Age']),\n",
    "                                                ('cat',cat_transf,['Age_group','Fare_group',\n",
    "                                                                          'Sex','Embarked'])])\n",
    "    \n",
    "\n",
    "    pipe = Pipeline(steps = [('preprocessor', preprocessor),\n",
    "                                         ('model', model)])\n",
    "    pipe.fit(X_train_pipe,y_train_pipe)\n",
    "    preds_pipe = pipe.predict(X_valid_pipe)\n",
    "\n",
    "   \n",
    "    accuracy = round(accuracy_score(preds_pipe,y_valid_pipe)*100,2)\n",
    "    return accuracy, preds_pipe"
   ]
  },
  {
   "cell_type": "markdown",
   "id": "027dc2d3",
   "metadata": {
    "papermill": {
     "duration": null,
     "end_time": null,
     "exception": null,
     "start_time": null,
     "status": "pending"
    },
    "tags": []
   },
   "source": [
    "Definindo estratégias\n",
    "\n"
   ]
  },
  {
   "cell_type": "markdown",
   "id": "b01f0b69",
   "metadata": {
    "papermill": {
     "duration": null,
     "end_time": null,
     "exception": null,
     "start_time": null,
     "status": "pending"
    },
    "tags": []
   },
   "source": [
    "### Imputers"
   ]
  },
  {
   "cell_type": "code",
   "execution_count": null,
   "id": "c112c861",
   "metadata": {
    "execution": {
     "iopub.execute_input": "2021-11-29T21:49:58.981615Z",
     "iopub.status.busy": "2021-11-29T21:49:58.981325Z",
     "iopub.status.idle": "2021-11-29T21:49:58.987123Z",
     "shell.execute_reply": "2021-11-29T21:49:58.986178Z",
     "shell.execute_reply.started": "2021-11-29T21:49:58.981586Z"
    },
    "papermill": {
     "duration": null,
     "end_time": null,
     "exception": null,
     "start_time": null,
     "status": "pending"
    },
    "tags": []
   },
   "outputs": [],
   "source": [
    "mean_imputer = SimpleImputer()\n",
    "mostfreq_imputer = SimpleImputer(strategy = 'most_frequent')\n",
    "median_imputer = SimpleImputer(strategy = 'median')\n",
    "zero_imputer = SimpleImputer(strategy = 'constant', fill_value = 0)\n",
    "imputers = [mean_imputer, mostfreq_imputer, median_imputer, zero_imputer]"
   ]
  },
  {
   "cell_type": "markdown",
   "id": "20078c37",
   "metadata": {
    "papermill": {
     "duration": null,
     "end_time": null,
     "exception": null,
     "start_time": null,
     "status": "pending"
    },
    "tags": []
   },
   "source": [
    "### Encoders"
   ]
  },
  {
   "cell_type": "code",
   "execution_count": null,
   "id": "ea058780",
   "metadata": {
    "papermill": {
     "duration": null,
     "end_time": null,
     "exception": null,
     "start_time": null,
     "status": "pending"
    },
    "tags": []
   },
   "outputs": [],
   "source": [
    "from sklearn.preprocessing import OrdinalEncoder\n",
    "onehot_encoder = OneHotEncoder(sparse = False)\n",
    "ordinal_encoder = OrdinalEncoder()\n",
    "encoders = [onehot_encoder, ordinal_encoder]\n",
    "\n"
   ]
  },
  {
   "cell_type": "markdown",
   "id": "d652e5e4",
   "metadata": {
    "papermill": {
     "duration": null,
     "end_time": null,
     "exception": null,
     "start_time": null,
     "status": "pending"
    },
    "tags": []
   },
   "source": [
    "### Model"
   ]
  },
  {
   "cell_type": "code",
   "execution_count": null,
   "id": "9e0285de",
   "metadata": {
    "execution": {
     "iopub.execute_input": "2021-11-29T21:56:28.108806Z",
     "iopub.status.busy": "2021-11-29T21:56:28.108308Z",
     "iopub.status.idle": "2021-11-29T21:56:28.114511Z",
     "shell.execute_reply": "2021-11-29T21:56:28.113670Z",
     "shell.execute_reply.started": "2021-11-29T21:56:28.108772Z"
    },
    "papermill": {
     "duration": null,
     "end_time": null,
     "exception": null,
     "start_time": null,
     "status": "pending"
    },
    "tags": []
   },
   "outputs": [],
   "source": [
    "randomforest = RandomForestClassifier(random_state = 0)"
   ]
  },
  {
   "cell_type": "code",
   "execution_count": null,
   "id": "c7178d78",
   "metadata": {
    "execution": {
     "iopub.execute_input": "2021-11-29T21:53:00.468783Z",
     "iopub.status.busy": "2021-11-29T21:53:00.468251Z",
     "iopub.status.idle": "2021-11-29T21:53:02.756448Z",
     "shell.execute_reply": "2021-11-29T21:53:02.755420Z",
     "shell.execute_reply.started": "2021-11-29T21:53:00.468749Z"
    },
    "papermill": {
     "duration": null,
     "end_time": null,
     "exception": null,
     "start_time": null,
     "status": "pending"
    },
    "tags": []
   },
   "outputs": [],
   "source": [
    "for encoder in encoders:\n",
    "    for imputer in imputers:\n",
    "        accuracy,_ = pipeline_maker(titanic_train_c_na, encoder, randomforest, numerical_imputer = imputer)\n",
    "        print(\"pipe_\"+str(encoder)+'_'+str(imputer)+'='+str(accuracy))"
   ]
  },
  {
   "cell_type": "markdown",
   "id": "48c24a43",
   "metadata": {
    "papermill": {
     "duration": null,
     "end_time": null,
     "exception": null,
     "start_time": null,
     "status": "pending"
    },
    "tags": []
   },
   "source": [
    "### Cross Validation e Gradient Boosting"
   ]
  },
  {
   "cell_type": "code",
   "execution_count": null,
   "id": "1b2313c5",
   "metadata": {
    "execution": {
     "iopub.execute_input": "2021-11-29T21:55:42.479559Z",
     "iopub.status.busy": "2021-11-29T21:55:42.479157Z",
     "iopub.status.idle": "2021-11-29T21:55:43.674900Z",
     "shell.execute_reply": "2021-11-29T21:55:43.674095Z",
     "shell.execute_reply.started": "2021-11-29T21:55:42.479527Z"
    },
    "papermill": {
     "duration": null,
     "end_time": null,
     "exception": null,
     "start_time": null,
     "status": "pending"
    },
    "tags": []
   },
   "outputs": [],
   "source": [
    "from sklearn.model_selection import cross_val_score\n",
    "\n",
    "def cross_validation(model, X, y):\n",
    "    scores = cross_val_score(model, X, y, cv = 5, scoring = 'accuracy')\n",
    "    return round(scores.mean()*100,2)\n",
    "\n",
    "\n",
    "accuracy_crossval = cross_validation(randomforest_model1, X_model1, y_model1)\n",
    "print(accuracy_crossval)"
   ]
  },
  {
   "cell_type": "markdown",
   "id": "07894b97",
   "metadata": {
    "papermill": {
     "duration": null,
     "end_time": null,
     "exception": null,
     "start_time": null,
     "status": "pending"
    },
    "tags": []
   },
   "source": [
    "Gradient Boosting"
   ]
  },
  {
   "cell_type": "code",
   "execution_count": null,
   "id": "13d0c586",
   "metadata": {
    "execution": {
     "iopub.execute_input": "2021-11-29T21:55:58.748261Z",
     "iopub.status.busy": "2021-11-29T21:55:58.747952Z",
     "iopub.status.idle": "2021-11-29T21:55:59.540901Z",
     "shell.execute_reply": "2021-11-29T21:55:59.540099Z",
     "shell.execute_reply.started": "2021-11-29T21:55:58.748228Z"
    },
    "papermill": {
     "duration": null,
     "end_time": null,
     "exception": null,
     "start_time": null,
     "status": "pending"
    },
    "tags": []
   },
   "outputs": [],
   "source": [
    "from sklearn.ensemble import GradientBoostingClassifier\n",
    "\n",
    "\n",
    "def make_gbc(X,y):\n",
    "    gbclass = GradientBoostingClassifier(random_state = 0, n_iter_no_change = 100) \n",
    "    gbclass.fit(X,y)\n",
    "    score = cross_validation(gbclass, X, y)\n",
    "    return score, gbclass\n",
    "\n",
    "X_model2 = X_model1\n",
    "y_model2 = y_model1\n",
    "\n",
    "score,gbclass = make_gbc(X_model2,y_model2)\n",
    "print(score)"
   ]
  }
 ],
 "metadata": {
  "kernelspec": {
   "display_name": "Python 3",
   "language": "python",
   "name": "python3"
  },
  "language_info": {
   "codemirror_mode": {
    "name": "ipython",
    "version": 3
   },
   "file_extension": ".py",
   "mimetype": "text/x-python",
   "name": "python",
   "nbconvert_exporter": "python",
   "pygments_lexer": "ipython3",
   "version": "3.7.10"
  },
  "papermill": {
   "default_parameters": {},
   "duration": 12.587322,
   "end_time": "2021-11-29T21:59:14.130284",
   "environment_variables": {},
   "exception": true,
   "input_path": "__notebook__.ipynb",
   "output_path": "__notebook__.ipynb",
   "parameters": {},
   "start_time": "2021-11-29T21:59:01.542962",
   "version": "2.3.3"
  }
 },
 "nbformat": 4,
 "nbformat_minor": 5
}
