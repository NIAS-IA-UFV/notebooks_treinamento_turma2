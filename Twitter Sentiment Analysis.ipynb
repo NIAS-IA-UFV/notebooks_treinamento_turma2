{
 "cells": [
  {
   "cell_type": "code",
   "execution_count": 1,
   "id": "43ad9a5c",
   "metadata": {},
   "outputs": [],
   "source": [
    "tweets = [\n",
    "\"Wow, what a great day today!! #sunshine\",\n",
    "\"I feel sad about the things going on around us. #covid19\",\n",
    "\"I'm really excited to learn Python with @JovianML #zerotopandas\",\n",
    "\"This is a really nice song. #linkinpark\",\n",
    "\"The python programming language is useful for data science\",\n",
    "\"Why do bad things happen to me?\",\n",
    "\"Apple announces the release of the new iPhone 12. Fans are excited.\",\n",
    "\"Spent my day with family!! #happy\",\n",
    "\"Check out my blog post on common string operations in Python. #zerotopandas\",\n",
    "\"Freecodecamp has great coding tutorials. #skillup\"\n",
    "]"
   ]
  },
  {
   "cell_type": "code",
   "execution_count": 3,
   "id": "0dd83c9a",
   "metadata": {},
   "outputs": [
    {
     "name": "stdout",
     "output_type": "stream",
     "text": [
      "Existem 10 tweets no banco de dados\n"
     ]
    }
   ],
   "source": [
    "# 1. Quantos tweets existem nesse banco de dados?\n",
    "num_tweets = len(tweets)\n",
    "print('Existem {} tweets no banco de dados'.format(num_tweets))"
   ]
  },
  {
   "cell_type": "code",
   "execution_count": 7,
   "id": "e4103dfd",
   "metadata": {},
   "outputs": [
    {
     "name": "stdout",
     "output_type": "stream",
     "text": [
      "O tweet é feliz\n"
     ]
    }
   ],
   "source": [
    "# 2. A partir das listas de palavras apresentadas abaixo, tome o primeiro tweet como \n",
    "# amostra e identifique se é feliz ou não.\n",
    "\n",
    "happy_words = ['great', 'excited', 'happy', 'nice', 'wonderful', 'amazing', 'good', 'best']\n",
    "sad_words = ['sad', 'bad', 'tragic', 'unhappy', 'worst']\n",
    "\n",
    "is_happy = [word in tweets[0] for word in happy_words]\n",
    "\n",
    "if is_happy:\n",
    "    print('O tweet é feliz')\n",
    "else:\n",
    "    print('O tweet não é feliz')"
   ]
  },
  {
   "cell_type": "code",
   "execution_count": 28,
   "id": "861836a4",
   "metadata": {},
   "outputs": [
    {
     "data": {
      "text/plain": [
       "(6, 2)"
      ]
     },
     "execution_count": 28,
     "metadata": {},
     "output_type": "execute_result"
    }
   ],
   "source": [
    "# 3. A partir do item “b)”, crie uma nova variável que conte quantos tweets felizes estão\n",
    "# contidos na lista “tweets”, crie também outra variável que conte o número de tweets\n",
    "# tristes. Exiba os número encontrados com um texto que os defina\n",
    "\n",
    "count_happy = 0\n",
    "count_sad = 0\n",
    "\n",
    "for tweet in tweets:\n",
    "    is_happy = 0\n",
    "    \n",
    "    for h_word in happy_words:\n",
    "        if h_word in tweet:\n",
    "            count_happy += 1\n",
    "            is_happy = 1\n",
    "            break\n",
    "            \n",
    "    if not is_happy:\n",
    "        for s_word in sad_words:\n",
    "            if s_word in tweet:\n",
    "                count_sad += 1\n",
    "                break\n",
    "    \n",
    "count_happy,count_sad"
   ]
  }
 ],
 "metadata": {
  "kernelspec": {
   "display_name": "Python 3",
   "language": "python",
   "name": "python3"
  },
  "language_info": {
   "codemirror_mode": {
    "name": "ipython",
    "version": 3
   },
   "file_extension": ".py",
   "mimetype": "text/x-python",
   "name": "python",
   "nbconvert_exporter": "python",
   "pygments_lexer": "ipython3",
   "version": "3.8.8"
  }
 },
 "nbformat": 4,
 "nbformat_minor": 5
}
