{
 "cells": [
  {
   "cell_type": "markdown",
   "id": "6f95eaf9",
   "metadata": {
    "papermill": {
     "duration": 0.069631,
     "end_time": "2021-12-20T22:28:31.483266",
     "exception": false,
     "start_time": "2021-12-20T22:28:31.413635",
     "status": "completed"
    },
    "tags": []
   },
   "source": [
    "# Machine Learning Clássico"
   ]
  },
  {
   "cell_type": "markdown",
   "id": "93d0cf94",
   "metadata": {
    "papermill": {
     "duration": 0.064627,
     "end_time": "2021-12-20T22:28:31.615623",
     "exception": false,
     "start_time": "2021-12-20T22:28:31.550996",
     "status": "completed"
    },
    "tags": []
   },
   "source": [
    "## Data Cleaning"
   ]
  },
  {
   "cell_type": "markdown",
   "id": "f7ed62b2",
   "metadata": {
    "papermill": {
     "duration": 0.064628,
     "end_time": "2021-12-20T22:28:31.805374",
     "exception": false,
     "start_time": "2021-12-20T22:28:31.740746",
     "status": "completed"
    },
    "tags": []
   },
   "source": [
    "### Importando bibliotecas "
   ]
  },
  {
   "cell_type": "code",
   "execution_count": 1,
   "id": "be7e4941",
   "metadata": {
    "execution": {
     "iopub.execute_input": "2021-12-20T22:28:31.940318Z",
     "iopub.status.busy": "2021-12-20T22:28:31.938521Z",
     "iopub.status.idle": "2021-12-20T22:28:31.949957Z",
     "shell.execute_reply": "2021-12-20T22:28:31.950465Z",
     "shell.execute_reply.started": "2021-12-20T21:38:01.139648Z"
    },
    "papermill": {
     "duration": 0.081303,
     "end_time": "2021-12-20T22:28:31.950758",
     "exception": false,
     "start_time": "2021-12-20T22:28:31.869455",
     "status": "completed"
    },
    "tags": []
   },
   "outputs": [],
   "source": [
    "import pandas as pd\n",
    "import numpy as np\n"
   ]
  },
  {
   "cell_type": "code",
   "execution_count": 2,
   "id": "7af746d2",
   "metadata": {
    "execution": {
     "iopub.execute_input": "2021-12-20T22:28:32.087254Z",
     "iopub.status.busy": "2021-12-20T22:28:32.086579Z",
     "iopub.status.idle": "2021-12-20T22:28:33.068773Z",
     "shell.execute_reply": "2021-12-20T22:28:33.068075Z",
     "shell.execute_reply.started": "2021-12-20T21:38:03.013778Z"
    },
    "papermill": {
     "duration": 1.052387,
     "end_time": "2021-12-20T22:28:33.068920",
     "exception": false,
     "start_time": "2021-12-20T22:28:32.016533",
     "status": "completed"
    },
    "tags": []
   },
   "outputs": [],
   "source": [
    "import seaborn as sns"
   ]
  },
  {
   "cell_type": "code",
   "execution_count": 3,
   "id": "d973a793",
   "metadata": {
    "execution": {
     "iopub.execute_input": "2021-12-20T22:28:33.206343Z",
     "iopub.status.busy": "2021-12-20T22:28:33.205596Z",
     "iopub.status.idle": "2021-12-20T22:28:33.213412Z",
     "shell.execute_reply": "2021-12-20T22:28:33.213986Z",
     "shell.execute_reply.started": "2021-12-20T21:38:05.390643Z"
    },
    "papermill": {
     "duration": 0.080743,
     "end_time": "2021-12-20T22:28:33.214168",
     "exception": false,
     "start_time": "2021-12-20T22:28:33.133425",
     "status": "completed"
    },
    "tags": []
   },
   "outputs": [
    {
     "name": "stdout",
     "output_type": "stream",
     "text": [
      "/kaggle/input/titanic/train.csv\n",
      "/kaggle/input/titanic/test.csv\n",
      "/kaggle/input/titanic/gender_submission.csv\n"
     ]
    }
   ],
   "source": [
    "\n",
    "\n",
    "import os\n",
    "for dirname, _, filenames in os.walk('/kaggle/input'):\n",
    "    for filename in filenames:\n",
    "        print(os.path.join(dirname, filename))\n",
    "\n",
    "\n",
    "import matplotlib.pyplot as plt\n",
    "import seaborn as sns\n",
    "%matplotlib inline\n",
    "\n",
    "\n",
    "\n",
    "import warnings\n",
    "warnings.filterwarnings('ignore')"
   ]
  },
  {
   "cell_type": "markdown",
   "id": "95838a62",
   "metadata": {
    "papermill": {
     "duration": 0.065056,
     "end_time": "2021-12-20T22:28:33.344533",
     "exception": false,
     "start_time": "2021-12-20T22:28:33.279477",
     "status": "completed"
    },
    "tags": []
   },
   "source": [
    "### Importando dados"
   ]
  },
  {
   "cell_type": "code",
   "execution_count": 4,
   "id": "d3d24355",
   "metadata": {
    "execution": {
     "iopub.execute_input": "2021-12-20T22:28:33.480676Z",
     "iopub.status.busy": "2021-12-20T22:28:33.479998Z",
     "iopub.status.idle": "2021-12-20T22:28:33.575296Z",
     "shell.execute_reply": "2021-12-20T22:28:33.575808Z",
     "shell.execute_reply.started": "2021-12-20T21:38:09.040810Z"
    },
    "papermill": {
     "duration": 0.165898,
     "end_time": "2021-12-20T22:28:33.575977",
     "exception": false,
     "start_time": "2021-12-20T22:28:33.410079",
     "status": "completed"
    },
    "tags": []
   },
   "outputs": [
    {
     "data": {
      "text/html": [
       "<div>\n",
       "<style scoped>\n",
       "    .dataframe tbody tr th:only-of-type {\n",
       "        vertical-align: middle;\n",
       "    }\n",
       "\n",
       "    .dataframe tbody tr th {\n",
       "        vertical-align: top;\n",
       "    }\n",
       "\n",
       "    .dataframe thead th {\n",
       "        text-align: right;\n",
       "    }\n",
       "</style>\n",
       "<table border=\"1\" class=\"dataframe\">\n",
       "  <thead>\n",
       "    <tr style=\"text-align: right;\">\n",
       "      <th></th>\n",
       "      <th>PassengerId</th>\n",
       "      <th>Survived</th>\n",
       "      <th>Pclass</th>\n",
       "      <th>Name</th>\n",
       "      <th>Sex</th>\n",
       "      <th>Age</th>\n",
       "      <th>SibSp</th>\n",
       "      <th>Parch</th>\n",
       "      <th>Ticket</th>\n",
       "      <th>Fare</th>\n",
       "      <th>Cabin</th>\n",
       "      <th>Embarked</th>\n",
       "    </tr>\n",
       "  </thead>\n",
       "  <tbody>\n",
       "    <tr>\n",
       "      <th>count</th>\n",
       "      <td>891.000000</td>\n",
       "      <td>891.000000</td>\n",
       "      <td>891.000000</td>\n",
       "      <td>891</td>\n",
       "      <td>891</td>\n",
       "      <td>714.000000</td>\n",
       "      <td>891.000000</td>\n",
       "      <td>891.000000</td>\n",
       "      <td>891</td>\n",
       "      <td>891.000000</td>\n",
       "      <td>204</td>\n",
       "      <td>889</td>\n",
       "    </tr>\n",
       "    <tr>\n",
       "      <th>unique</th>\n",
       "      <td>NaN</td>\n",
       "      <td>NaN</td>\n",
       "      <td>NaN</td>\n",
       "      <td>891</td>\n",
       "      <td>2</td>\n",
       "      <td>NaN</td>\n",
       "      <td>NaN</td>\n",
       "      <td>NaN</td>\n",
       "      <td>681</td>\n",
       "      <td>NaN</td>\n",
       "      <td>147</td>\n",
       "      <td>3</td>\n",
       "    </tr>\n",
       "    <tr>\n",
       "      <th>top</th>\n",
       "      <td>NaN</td>\n",
       "      <td>NaN</td>\n",
       "      <td>NaN</td>\n",
       "      <td>Braund, Mr. Owen Harris</td>\n",
       "      <td>male</td>\n",
       "      <td>NaN</td>\n",
       "      <td>NaN</td>\n",
       "      <td>NaN</td>\n",
       "      <td>347082</td>\n",
       "      <td>NaN</td>\n",
       "      <td>B96 B98</td>\n",
       "      <td>S</td>\n",
       "    </tr>\n",
       "    <tr>\n",
       "      <th>freq</th>\n",
       "      <td>NaN</td>\n",
       "      <td>NaN</td>\n",
       "      <td>NaN</td>\n",
       "      <td>1</td>\n",
       "      <td>577</td>\n",
       "      <td>NaN</td>\n",
       "      <td>NaN</td>\n",
       "      <td>NaN</td>\n",
       "      <td>7</td>\n",
       "      <td>NaN</td>\n",
       "      <td>4</td>\n",
       "      <td>644</td>\n",
       "    </tr>\n",
       "    <tr>\n",
       "      <th>mean</th>\n",
       "      <td>446.000000</td>\n",
       "      <td>0.383838</td>\n",
       "      <td>2.308642</td>\n",
       "      <td>NaN</td>\n",
       "      <td>NaN</td>\n",
       "      <td>29.699118</td>\n",
       "      <td>0.523008</td>\n",
       "      <td>0.381594</td>\n",
       "      <td>NaN</td>\n",
       "      <td>32.204208</td>\n",
       "      <td>NaN</td>\n",
       "      <td>NaN</td>\n",
       "    </tr>\n",
       "    <tr>\n",
       "      <th>std</th>\n",
       "      <td>257.353842</td>\n",
       "      <td>0.486592</td>\n",
       "      <td>0.836071</td>\n",
       "      <td>NaN</td>\n",
       "      <td>NaN</td>\n",
       "      <td>14.526497</td>\n",
       "      <td>1.102743</td>\n",
       "      <td>0.806057</td>\n",
       "      <td>NaN</td>\n",
       "      <td>49.693429</td>\n",
       "      <td>NaN</td>\n",
       "      <td>NaN</td>\n",
       "    </tr>\n",
       "    <tr>\n",
       "      <th>min</th>\n",
       "      <td>1.000000</td>\n",
       "      <td>0.000000</td>\n",
       "      <td>1.000000</td>\n",
       "      <td>NaN</td>\n",
       "      <td>NaN</td>\n",
       "      <td>0.420000</td>\n",
       "      <td>0.000000</td>\n",
       "      <td>0.000000</td>\n",
       "      <td>NaN</td>\n",
       "      <td>0.000000</td>\n",
       "      <td>NaN</td>\n",
       "      <td>NaN</td>\n",
       "    </tr>\n",
       "    <tr>\n",
       "      <th>25%</th>\n",
       "      <td>223.500000</td>\n",
       "      <td>0.000000</td>\n",
       "      <td>2.000000</td>\n",
       "      <td>NaN</td>\n",
       "      <td>NaN</td>\n",
       "      <td>20.125000</td>\n",
       "      <td>0.000000</td>\n",
       "      <td>0.000000</td>\n",
       "      <td>NaN</td>\n",
       "      <td>7.910400</td>\n",
       "      <td>NaN</td>\n",
       "      <td>NaN</td>\n",
       "    </tr>\n",
       "    <tr>\n",
       "      <th>50%</th>\n",
       "      <td>446.000000</td>\n",
       "      <td>0.000000</td>\n",
       "      <td>3.000000</td>\n",
       "      <td>NaN</td>\n",
       "      <td>NaN</td>\n",
       "      <td>28.000000</td>\n",
       "      <td>0.000000</td>\n",
       "      <td>0.000000</td>\n",
       "      <td>NaN</td>\n",
       "      <td>14.454200</td>\n",
       "      <td>NaN</td>\n",
       "      <td>NaN</td>\n",
       "    </tr>\n",
       "    <tr>\n",
       "      <th>75%</th>\n",
       "      <td>668.500000</td>\n",
       "      <td>1.000000</td>\n",
       "      <td>3.000000</td>\n",
       "      <td>NaN</td>\n",
       "      <td>NaN</td>\n",
       "      <td>38.000000</td>\n",
       "      <td>1.000000</td>\n",
       "      <td>0.000000</td>\n",
       "      <td>NaN</td>\n",
       "      <td>31.000000</td>\n",
       "      <td>NaN</td>\n",
       "      <td>NaN</td>\n",
       "    </tr>\n",
       "    <tr>\n",
       "      <th>max</th>\n",
       "      <td>891.000000</td>\n",
       "      <td>1.000000</td>\n",
       "      <td>3.000000</td>\n",
       "      <td>NaN</td>\n",
       "      <td>NaN</td>\n",
       "      <td>80.000000</td>\n",
       "      <td>8.000000</td>\n",
       "      <td>6.000000</td>\n",
       "      <td>NaN</td>\n",
       "      <td>512.329200</td>\n",
       "      <td>NaN</td>\n",
       "      <td>NaN</td>\n",
       "    </tr>\n",
       "  </tbody>\n",
       "</table>\n",
       "</div>"
      ],
      "text/plain": [
       "        PassengerId    Survived      Pclass                     Name   Sex  \\\n",
       "count    891.000000  891.000000  891.000000                      891   891   \n",
       "unique          NaN         NaN         NaN                      891     2   \n",
       "top             NaN         NaN         NaN  Braund, Mr. Owen Harris  male   \n",
       "freq            NaN         NaN         NaN                        1   577   \n",
       "mean     446.000000    0.383838    2.308642                      NaN   NaN   \n",
       "std      257.353842    0.486592    0.836071                      NaN   NaN   \n",
       "min        1.000000    0.000000    1.000000                      NaN   NaN   \n",
       "25%      223.500000    0.000000    2.000000                      NaN   NaN   \n",
       "50%      446.000000    0.000000    3.000000                      NaN   NaN   \n",
       "75%      668.500000    1.000000    3.000000                      NaN   NaN   \n",
       "max      891.000000    1.000000    3.000000                      NaN   NaN   \n",
       "\n",
       "               Age       SibSp       Parch  Ticket        Fare    Cabin  \\\n",
       "count   714.000000  891.000000  891.000000     891  891.000000      204   \n",
       "unique         NaN         NaN         NaN     681         NaN      147   \n",
       "top            NaN         NaN         NaN  347082         NaN  B96 B98   \n",
       "freq           NaN         NaN         NaN       7         NaN        4   \n",
       "mean     29.699118    0.523008    0.381594     NaN   32.204208      NaN   \n",
       "std      14.526497    1.102743    0.806057     NaN   49.693429      NaN   \n",
       "min       0.420000    0.000000    0.000000     NaN    0.000000      NaN   \n",
       "25%      20.125000    0.000000    0.000000     NaN    7.910400      NaN   \n",
       "50%      28.000000    0.000000    0.000000     NaN   14.454200      NaN   \n",
       "75%      38.000000    1.000000    0.000000     NaN   31.000000      NaN   \n",
       "max      80.000000    8.000000    6.000000     NaN  512.329200      NaN   \n",
       "\n",
       "       Embarked  \n",
       "count       889  \n",
       "unique        3  \n",
       "top           S  \n",
       "freq        644  \n",
       "mean        NaN  \n",
       "std         NaN  \n",
       "min         NaN  \n",
       "25%         NaN  \n",
       "50%         NaN  \n",
       "75%         NaN  \n",
       "max         NaN  "
      ]
     },
     "execution_count": 4,
     "metadata": {},
     "output_type": "execute_result"
    }
   ],
   "source": [
    "titanic_test = pd.read_csv('/kaggle/input/titanic/test.csv')\n",
    "titanic_train = pd.read_csv('/kaggle/input/titanic/train.csv')\n",
    "\n",
    "\n",
    "titanic_train_c = titanic_train.copy()\n",
    "\n",
    "titanic_train.describe(include = 'all')"
   ]
  },
  {
   "cell_type": "markdown",
   "id": "32066f94",
   "metadata": {
    "papermill": {
     "duration": 0.065327,
     "end_time": "2021-12-20T22:28:33.707348",
     "exception": false,
     "start_time": "2021-12-20T22:28:33.642021",
     "status": "completed"
    },
    "tags": []
   },
   "source": [
    "Informações"
   ]
  },
  {
   "cell_type": "code",
   "execution_count": 5,
   "id": "43586c46",
   "metadata": {
    "execution": {
     "iopub.execute_input": "2021-12-20T22:28:33.842766Z",
     "iopub.status.busy": "2021-12-20T22:28:33.842072Z",
     "iopub.status.idle": "2021-12-20T22:28:33.866784Z",
     "shell.execute_reply": "2021-12-20T22:28:33.865703Z",
     "shell.execute_reply.started": "2021-12-20T21:38:12.372767Z"
    },
    "papermill": {
     "duration": 0.093319,
     "end_time": "2021-12-20T22:28:33.867010",
     "exception": false,
     "start_time": "2021-12-20T22:28:33.773691",
     "status": "completed"
    },
    "tags": []
   },
   "outputs": [
    {
     "name": "stdout",
     "output_type": "stream",
     "text": [
      "Titanic Train data types\n",
      "<class 'pandas.core.frame.DataFrame'>\n",
      "RangeIndex: 891 entries, 0 to 890\n",
      "Data columns (total 12 columns):\n",
      " #   Column       Non-Null Count  Dtype  \n",
      "---  ------       --------------  -----  \n",
      " 0   PassengerId  891 non-null    int64  \n",
      " 1   Survived     891 non-null    int64  \n",
      " 2   Pclass       891 non-null    int64  \n",
      " 3   Name         891 non-null    object \n",
      " 4   Sex          891 non-null    object \n",
      " 5   Age          714 non-null    float64\n",
      " 6   SibSp        891 non-null    int64  \n",
      " 7   Parch        891 non-null    int64  \n",
      " 8   Ticket       891 non-null    object \n",
      " 9   Fare         891 non-null    float64\n",
      " 10  Cabin        204 non-null    object \n",
      " 11  Embarked     889 non-null    object \n",
      "dtypes: float64(2), int64(5), object(5)\n",
      "memory usage: 83.7+ KB\n",
      "None\n",
      "--------------------------------------------------\n",
      "Titanic Test data types\n",
      "<class 'pandas.core.frame.DataFrame'>\n",
      "RangeIndex: 418 entries, 0 to 417\n",
      "Data columns (total 11 columns):\n",
      " #   Column       Non-Null Count  Dtype  \n",
      "---  ------       --------------  -----  \n",
      " 0   PassengerId  418 non-null    int64  \n",
      " 1   Pclass       418 non-null    int64  \n",
      " 2   Name         418 non-null    object \n",
      " 3   Sex          418 non-null    object \n",
      " 4   Age          332 non-null    float64\n",
      " 5   SibSp        418 non-null    int64  \n",
      " 6   Parch        418 non-null    int64  \n",
      " 7   Ticket       418 non-null    object \n",
      " 8   Fare         417 non-null    float64\n",
      " 9   Cabin        91 non-null     object \n",
      " 10  Embarked     418 non-null    object \n",
      "dtypes: float64(2), int64(4), object(5)\n",
      "memory usage: 36.0+ KB\n",
      "None\n"
     ]
    }
   ],
   "source": [
    "print('Titanic Train data types')\n",
    "print(titanic_train.info())\n",
    "print('-'*50)\n",
    "print('Titanic Test data types')\n",
    "print(titanic_test.info())"
   ]
  },
  {
   "cell_type": "markdown",
   "id": "c9712119",
   "metadata": {
    "papermill": {
     "duration": 0.066491,
     "end_time": "2021-12-20T22:28:34.001150",
     "exception": false,
     "start_time": "2021-12-20T22:28:33.934659",
     "status": "completed"
    },
    "tags": []
   },
   "source": [
    "Valores \"NAn\""
   ]
  },
  {
   "cell_type": "code",
   "execution_count": 6,
   "id": "1bfb8f61",
   "metadata": {
    "execution": {
     "iopub.execute_input": "2021-12-20T22:28:34.138171Z",
     "iopub.status.busy": "2021-12-20T22:28:34.137545Z",
     "iopub.status.idle": "2021-12-20T22:28:34.149403Z",
     "shell.execute_reply": "2021-12-20T22:28:34.148302Z",
     "shell.execute_reply.started": "2021-12-20T21:38:39.838123Z"
    },
    "papermill": {
     "duration": 0.082148,
     "end_time": "2021-12-20T22:28:34.149624",
     "exception": false,
     "start_time": "2021-12-20T22:28:34.067476",
     "status": "completed"
    },
    "tags": []
   },
   "outputs": [
    {
     "name": "stdout",
     "output_type": "stream",
     "text": [
      "Titanic Train data NaN Values\n",
      "PassengerId      0\n",
      "Survived         0\n",
      "Pclass           0\n",
      "Name             0\n",
      "Sex              0\n",
      "Age            177\n",
      "SibSp            0\n",
      "Parch            0\n",
      "Ticket           0\n",
      "Fare             0\n",
      "Cabin          687\n",
      "Embarked         2\n",
      "dtype: int64\n",
      "--------------------------------------------------\n",
      "Titanic Test data NaN Values\n",
      "PassengerId      0\n",
      "Pclass           0\n",
      "Name             0\n",
      "Sex              0\n",
      "Age             86\n",
      "SibSp            0\n",
      "Parch            0\n",
      "Ticket           0\n",
      "Fare             1\n",
      "Cabin          327\n",
      "Embarked         0\n",
      "dtype: int64\n"
     ]
    }
   ],
   "source": [
    "print('Titanic Train data NaN Values')\n",
    "print(titanic_train.isnull().sum())\n",
    "print('-'*50)\n",
    "print('Titanic Test data NaN Values')\n",
    "print(titanic_test.isnull().sum())"
   ]
  },
  {
   "cell_type": "markdown",
   "id": "82a082c8",
   "metadata": {
    "papermill": {
     "duration": 0.067112,
     "end_time": "2021-12-20T22:28:34.286196",
     "exception": false,
     "start_time": "2021-12-20T22:28:34.219084",
     "status": "completed"
    },
    "tags": []
   },
   "source": [
    "Retirar valores não uteis (Cabin e Ticket)"
   ]
  },
  {
   "cell_type": "code",
   "execution_count": 7,
   "id": "d20c527c",
   "metadata": {
    "execution": {
     "iopub.execute_input": "2021-12-20T22:28:34.425611Z",
     "iopub.status.busy": "2021-12-20T22:28:34.424595Z",
     "iopub.status.idle": "2021-12-20T22:28:34.431897Z",
     "shell.execute_reply": "2021-12-20T22:28:34.432385Z",
     "shell.execute_reply.started": "2021-12-20T21:38:42.834718Z"
    },
    "papermill": {
     "duration": 0.079323,
     "end_time": "2021-12-20T22:28:34.432566",
     "exception": false,
     "start_time": "2021-12-20T22:28:34.353243",
     "status": "completed"
    },
    "tags": []
   },
   "outputs": [],
   "source": [
    "for data in [titanic_train_c, titanic_test]:\n",
    "    data = data.drop([\"Cabin\",\"Ticket\"],axis=1, inplace = True)"
   ]
  },
  {
   "cell_type": "markdown",
   "id": "b702e6f6",
   "metadata": {
    "papermill": {
     "duration": 0.067244,
     "end_time": "2021-12-20T22:28:34.567438",
     "exception": false,
     "start_time": "2021-12-20T22:28:34.500194",
     "status": "completed"
    },
    "tags": []
   },
   "source": [
    "Retiando \"PassengerID\"do data frame de teste"
   ]
  },
  {
   "cell_type": "code",
   "execution_count": 8,
   "id": "e06bb6b0",
   "metadata": {
    "execution": {
     "iopub.execute_input": "2021-12-20T22:28:34.704558Z",
     "iopub.status.busy": "2021-12-20T22:28:34.703646Z",
     "iopub.status.idle": "2021-12-20T22:28:34.708078Z",
     "shell.execute_reply": "2021-12-20T22:28:34.708585Z",
     "shell.execute_reply.started": "2021-12-20T21:38:33.369119Z"
    },
    "papermill": {
     "duration": 0.074747,
     "end_time": "2021-12-20T22:28:34.708746",
     "exception": false,
     "start_time": "2021-12-20T22:28:34.633999",
     "status": "completed"
    },
    "tags": []
   },
   "outputs": [],
   "source": [
    "titanic_train_c = titanic_train_c.drop([\"PassengerId\"], axis = 1)"
   ]
  },
  {
   "cell_type": "code",
   "execution_count": 9,
   "id": "dafe6f87",
   "metadata": {
    "execution": {
     "iopub.execute_input": "2021-12-20T22:28:34.845954Z",
     "iopub.status.busy": "2021-12-20T22:28:34.844987Z",
     "iopub.status.idle": "2021-12-20T22:28:34.973467Z",
     "shell.execute_reply": "2021-12-20T22:28:34.972781Z",
     "shell.execute_reply.started": "2021-12-20T21:38:49.444365Z"
    },
    "papermill": {
     "duration": 0.198569,
     "end_time": "2021-12-20T22:28:34.973752",
     "exception": true,
     "start_time": "2021-12-20T22:28:34.775183",
     "status": "failed"
    },
    "tags": []
   },
   "outputs": [
    {
     "ename": "KeyError",
     "evalue": "\"['PassengerId'] not found in axis\"",
     "output_type": "error",
     "traceback": [
      "\u001b[0;31m---------------------------------------------------------------------------\u001b[0m",
      "\u001b[0;31mKeyError\u001b[0m                                  Traceback (most recent call last)",
      "\u001b[0;32m/tmp/ipykernel_19/2332208523.py\u001b[0m in \u001b[0;36m<module>\u001b[0;34m\u001b[0m\n\u001b[0;32m----> 1\u001b[0;31m \u001b[0mtitanic_train_c\u001b[0m \u001b[0;34m=\u001b[0m \u001b[0mtitanic_train_c\u001b[0m\u001b[0;34m.\u001b[0m\u001b[0mdrop\u001b[0m\u001b[0;34m(\u001b[0m\u001b[0;34m[\u001b[0m\u001b[0;34m\"PassengerId\"\u001b[0m\u001b[0;34m]\u001b[0m\u001b[0;34m,\u001b[0m \u001b[0maxis\u001b[0m \u001b[0;34m=\u001b[0m \u001b[0;36m1\u001b[0m\u001b[0;34m)\u001b[0m\u001b[0;34m\u001b[0m\u001b[0;34m\u001b[0m\u001b[0m\n\u001b[0m",
      "\u001b[0;32m/opt/conda/lib/python3.7/site-packages/pandas/util/_decorators.py\u001b[0m in \u001b[0;36mwrapper\u001b[0;34m(*args, **kwargs)\u001b[0m\n\u001b[1;32m    309\u001b[0m                     \u001b[0mstacklevel\u001b[0m\u001b[0;34m=\u001b[0m\u001b[0mstacklevel\u001b[0m\u001b[0;34m,\u001b[0m\u001b[0;34m\u001b[0m\u001b[0;34m\u001b[0m\u001b[0m\n\u001b[1;32m    310\u001b[0m                 )\n\u001b[0;32m--> 311\u001b[0;31m             \u001b[0;32mreturn\u001b[0m \u001b[0mfunc\u001b[0m\u001b[0;34m(\u001b[0m\u001b[0;34m*\u001b[0m\u001b[0margs\u001b[0m\u001b[0;34m,\u001b[0m \u001b[0;34m**\u001b[0m\u001b[0mkwargs\u001b[0m\u001b[0;34m)\u001b[0m\u001b[0;34m\u001b[0m\u001b[0;34m\u001b[0m\u001b[0m\n\u001b[0m\u001b[1;32m    312\u001b[0m \u001b[0;34m\u001b[0m\u001b[0m\n\u001b[1;32m    313\u001b[0m         \u001b[0;32mreturn\u001b[0m \u001b[0mwrapper\u001b[0m\u001b[0;34m\u001b[0m\u001b[0;34m\u001b[0m\u001b[0m\n",
      "\u001b[0;32m/opt/conda/lib/python3.7/site-packages/pandas/core/frame.py\u001b[0m in \u001b[0;36mdrop\u001b[0;34m(self, labels, axis, index, columns, level, inplace, errors)\u001b[0m\n\u001b[1;32m   4911\u001b[0m             \u001b[0mlevel\u001b[0m\u001b[0;34m=\u001b[0m\u001b[0mlevel\u001b[0m\u001b[0;34m,\u001b[0m\u001b[0;34m\u001b[0m\u001b[0;34m\u001b[0m\u001b[0m\n\u001b[1;32m   4912\u001b[0m             \u001b[0minplace\u001b[0m\u001b[0;34m=\u001b[0m\u001b[0minplace\u001b[0m\u001b[0;34m,\u001b[0m\u001b[0;34m\u001b[0m\u001b[0;34m\u001b[0m\u001b[0m\n\u001b[0;32m-> 4913\u001b[0;31m             \u001b[0merrors\u001b[0m\u001b[0;34m=\u001b[0m\u001b[0merrors\u001b[0m\u001b[0;34m,\u001b[0m\u001b[0;34m\u001b[0m\u001b[0;34m\u001b[0m\u001b[0m\n\u001b[0m\u001b[1;32m   4914\u001b[0m         )\n\u001b[1;32m   4915\u001b[0m \u001b[0;34m\u001b[0m\u001b[0m\n",
      "\u001b[0;32m/opt/conda/lib/python3.7/site-packages/pandas/core/generic.py\u001b[0m in \u001b[0;36mdrop\u001b[0;34m(self, labels, axis, index, columns, level, inplace, errors)\u001b[0m\n\u001b[1;32m   4148\u001b[0m         \u001b[0;32mfor\u001b[0m \u001b[0maxis\u001b[0m\u001b[0;34m,\u001b[0m \u001b[0mlabels\u001b[0m \u001b[0;32min\u001b[0m \u001b[0maxes\u001b[0m\u001b[0;34m.\u001b[0m\u001b[0mitems\u001b[0m\u001b[0;34m(\u001b[0m\u001b[0;34m)\u001b[0m\u001b[0;34m:\u001b[0m\u001b[0;34m\u001b[0m\u001b[0;34m\u001b[0m\u001b[0m\n\u001b[1;32m   4149\u001b[0m             \u001b[0;32mif\u001b[0m \u001b[0mlabels\u001b[0m \u001b[0;32mis\u001b[0m \u001b[0;32mnot\u001b[0m \u001b[0;32mNone\u001b[0m\u001b[0;34m:\u001b[0m\u001b[0;34m\u001b[0m\u001b[0;34m\u001b[0m\u001b[0m\n\u001b[0;32m-> 4150\u001b[0;31m                 \u001b[0mobj\u001b[0m \u001b[0;34m=\u001b[0m \u001b[0mobj\u001b[0m\u001b[0;34m.\u001b[0m\u001b[0m_drop_axis\u001b[0m\u001b[0;34m(\u001b[0m\u001b[0mlabels\u001b[0m\u001b[0;34m,\u001b[0m \u001b[0maxis\u001b[0m\u001b[0;34m,\u001b[0m \u001b[0mlevel\u001b[0m\u001b[0;34m=\u001b[0m\u001b[0mlevel\u001b[0m\u001b[0;34m,\u001b[0m \u001b[0merrors\u001b[0m\u001b[0;34m=\u001b[0m\u001b[0merrors\u001b[0m\u001b[0;34m)\u001b[0m\u001b[0;34m\u001b[0m\u001b[0;34m\u001b[0m\u001b[0m\n\u001b[0m\u001b[1;32m   4151\u001b[0m \u001b[0;34m\u001b[0m\u001b[0m\n\u001b[1;32m   4152\u001b[0m         \u001b[0;32mif\u001b[0m \u001b[0minplace\u001b[0m\u001b[0;34m:\u001b[0m\u001b[0;34m\u001b[0m\u001b[0;34m\u001b[0m\u001b[0m\n",
      "\u001b[0;32m/opt/conda/lib/python3.7/site-packages/pandas/core/generic.py\u001b[0m in \u001b[0;36m_drop_axis\u001b[0;34m(self, labels, axis, level, errors)\u001b[0m\n\u001b[1;32m   4183\u001b[0m                 \u001b[0mnew_axis\u001b[0m \u001b[0;34m=\u001b[0m \u001b[0maxis\u001b[0m\u001b[0;34m.\u001b[0m\u001b[0mdrop\u001b[0m\u001b[0;34m(\u001b[0m\u001b[0mlabels\u001b[0m\u001b[0;34m,\u001b[0m \u001b[0mlevel\u001b[0m\u001b[0;34m=\u001b[0m\u001b[0mlevel\u001b[0m\u001b[0;34m,\u001b[0m \u001b[0merrors\u001b[0m\u001b[0;34m=\u001b[0m\u001b[0merrors\u001b[0m\u001b[0;34m)\u001b[0m\u001b[0;34m\u001b[0m\u001b[0;34m\u001b[0m\u001b[0m\n\u001b[1;32m   4184\u001b[0m             \u001b[0;32melse\u001b[0m\u001b[0;34m:\u001b[0m\u001b[0;34m\u001b[0m\u001b[0;34m\u001b[0m\u001b[0m\n\u001b[0;32m-> 4185\u001b[0;31m                 \u001b[0mnew_axis\u001b[0m \u001b[0;34m=\u001b[0m \u001b[0maxis\u001b[0m\u001b[0;34m.\u001b[0m\u001b[0mdrop\u001b[0m\u001b[0;34m(\u001b[0m\u001b[0mlabels\u001b[0m\u001b[0;34m,\u001b[0m \u001b[0merrors\u001b[0m\u001b[0;34m=\u001b[0m\u001b[0merrors\u001b[0m\u001b[0;34m)\u001b[0m\u001b[0;34m\u001b[0m\u001b[0;34m\u001b[0m\u001b[0m\n\u001b[0m\u001b[1;32m   4186\u001b[0m             \u001b[0mresult\u001b[0m \u001b[0;34m=\u001b[0m \u001b[0mself\u001b[0m\u001b[0;34m.\u001b[0m\u001b[0mreindex\u001b[0m\u001b[0;34m(\u001b[0m\u001b[0;34m**\u001b[0m\u001b[0;34m{\u001b[0m\u001b[0maxis_name\u001b[0m\u001b[0;34m:\u001b[0m \u001b[0mnew_axis\u001b[0m\u001b[0;34m}\u001b[0m\u001b[0;34m)\u001b[0m\u001b[0;34m\u001b[0m\u001b[0;34m\u001b[0m\u001b[0m\n\u001b[1;32m   4187\u001b[0m \u001b[0;34m\u001b[0m\u001b[0m\n",
      "\u001b[0;32m/opt/conda/lib/python3.7/site-packages/pandas/core/indexes/base.py\u001b[0m in \u001b[0;36mdrop\u001b[0;34m(self, labels, errors)\u001b[0m\n\u001b[1;32m   6015\u001b[0m         \u001b[0;32mif\u001b[0m \u001b[0mmask\u001b[0m\u001b[0;34m.\u001b[0m\u001b[0many\u001b[0m\u001b[0;34m(\u001b[0m\u001b[0;34m)\u001b[0m\u001b[0;34m:\u001b[0m\u001b[0;34m\u001b[0m\u001b[0;34m\u001b[0m\u001b[0m\n\u001b[1;32m   6016\u001b[0m             \u001b[0;32mif\u001b[0m \u001b[0merrors\u001b[0m \u001b[0;34m!=\u001b[0m \u001b[0;34m\"ignore\"\u001b[0m\u001b[0;34m:\u001b[0m\u001b[0;34m\u001b[0m\u001b[0;34m\u001b[0m\u001b[0m\n\u001b[0;32m-> 6017\u001b[0;31m                 \u001b[0;32mraise\u001b[0m \u001b[0mKeyError\u001b[0m\u001b[0;34m(\u001b[0m\u001b[0;34mf\"{labels[mask]} not found in axis\"\u001b[0m\u001b[0;34m)\u001b[0m\u001b[0;34m\u001b[0m\u001b[0;34m\u001b[0m\u001b[0m\n\u001b[0m\u001b[1;32m   6018\u001b[0m             \u001b[0mindexer\u001b[0m \u001b[0;34m=\u001b[0m \u001b[0mindexer\u001b[0m\u001b[0;34m[\u001b[0m\u001b[0;34m~\u001b[0m\u001b[0mmask\u001b[0m\u001b[0;34m]\u001b[0m\u001b[0;34m\u001b[0m\u001b[0;34m\u001b[0m\u001b[0m\n\u001b[1;32m   6019\u001b[0m         \u001b[0;32mreturn\u001b[0m \u001b[0mself\u001b[0m\u001b[0;34m.\u001b[0m\u001b[0mdelete\u001b[0m\u001b[0;34m(\u001b[0m\u001b[0mindexer\u001b[0m\u001b[0;34m)\u001b[0m\u001b[0;34m\u001b[0m\u001b[0;34m\u001b[0m\u001b[0m\n",
      "\u001b[0;31mKeyError\u001b[0m: \"['PassengerId'] not found in axis\""
     ]
    }
   ],
   "source": [
    "titanic_train_c = titanic_train_c.drop([\"PassengerId\"], axis = 1)"
   ]
  },
  {
   "cell_type": "markdown",
   "id": "6548239d",
   "metadata": {
    "papermill": {
     "duration": null,
     "end_time": null,
     "exception": null,
     "start_time": null,
     "status": "pending"
    },
    "tags": []
   },
   "source": [
    "Preenchendo valores Nulos"
   ]
  },
  {
   "cell_type": "markdown",
   "id": "568e5493",
   "metadata": {
    "papermill": {
     "duration": null,
     "end_time": null,
     "exception": null,
     "start_time": null,
     "status": "pending"
    },
    "tags": []
   },
   "source": [
    "Preenchendo os valores nulos da coluna \"Age\", com a mediana"
   ]
  },
  {
   "cell_type": "code",
   "execution_count": null,
   "id": "29ac565c",
   "metadata": {
    "execution": {
     "iopub.execute_input": "2021-12-20T21:38:53.038253Z",
     "iopub.status.busy": "2021-12-20T21:38:53.037812Z",
     "iopub.status.idle": "2021-12-20T21:38:53.043890Z",
     "shell.execute_reply": "2021-12-20T21:38:53.043202Z",
     "shell.execute_reply.started": "2021-12-20T21:38:53.038219Z"
    },
    "papermill": {
     "duration": null,
     "end_time": null,
     "exception": null,
     "start_time": null,
     "status": "pending"
    },
    "tags": []
   },
   "outputs": [],
   "source": [
    "for data in [titanic_train_c, titanic_test]:\n",
    "    data['Age'].fillna(data['Age'].median(), inplace = True)"
   ]
  },
  {
   "cell_type": "markdown",
   "id": "470bbdfc",
   "metadata": {
    "papermill": {
     "duration": null,
     "end_time": null,
     "exception": null,
     "start_time": null,
     "status": "pending"
    },
    "tags": []
   },
   "source": [
    "Preenchendo os valores nulos da coluna \"Fare\", coma mediana"
   ]
  },
  {
   "cell_type": "code",
   "execution_count": null,
   "id": "722be77b",
   "metadata": {
    "execution": {
     "iopub.execute_input": "2021-12-20T21:38:55.731054Z",
     "iopub.status.busy": "2021-12-20T21:38:55.730749Z",
     "iopub.status.idle": "2021-12-20T21:38:55.737790Z",
     "shell.execute_reply": "2021-12-20T21:38:55.737064Z",
     "shell.execute_reply.started": "2021-12-20T21:38:55.731022Z"
    },
    "papermill": {
     "duration": null,
     "end_time": null,
     "exception": null,
     "start_time": null,
     "status": "pending"
    },
    "tags": []
   },
   "outputs": [],
   "source": [
    "for data in [titanic_train_c, titanic_test]:\n",
    "    data['Fare'].fillna(data['Fare'].median(), inplace = True)\n",
    "   "
   ]
  },
  {
   "cell_type": "markdown",
   "id": "20b91a86",
   "metadata": {
    "papermill": {
     "duration": null,
     "end_time": null,
     "exception": null,
     "start_time": null,
     "status": "pending"
    },
    "tags": []
   },
   "source": [
    "Preenchendo os valores nulos da coluna \"Embarked\", com a moda"
   ]
  },
  {
   "cell_type": "code",
   "execution_count": null,
   "id": "e93034ea",
   "metadata": {
    "execution": {
     "iopub.execute_input": "2021-12-20T21:38:58.175951Z",
     "iopub.status.busy": "2021-12-20T21:38:58.175609Z",
     "iopub.status.idle": "2021-12-20T21:38:58.184375Z",
     "shell.execute_reply": "2021-12-20T21:38:58.183438Z",
     "shell.execute_reply.started": "2021-12-20T21:38:58.175915Z"
    },
    "papermill": {
     "duration": null,
     "end_time": null,
     "exception": null,
     "start_time": null,
     "status": "pending"
    },
    "tags": []
   },
   "outputs": [],
   "source": [
    "for data in [titanic_train_c, titanic_test]:\n",
    "     data['Embarked'].fillna(data['Embarked'].mode()[0], inplace = True)"
   ]
  },
  {
   "cell_type": "code",
   "execution_count": null,
   "id": "14ad5c9c",
   "metadata": {
    "execution": {
     "iopub.execute_input": "2021-12-20T21:39:00.531790Z",
     "iopub.status.busy": "2021-12-20T21:39:00.530927Z",
     "iopub.status.idle": "2021-12-20T21:39:00.540568Z",
     "shell.execute_reply": "2021-12-20T21:39:00.539870Z",
     "shell.execute_reply.started": "2021-12-20T21:39:00.531740Z"
    },
    "papermill": {
     "duration": null,
     "end_time": null,
     "exception": null,
     "start_time": null,
     "status": "pending"
    },
    "tags": []
   },
   "outputs": [],
   "source": [
    "print('Titanic Train data NaN Values')\n",
    "print(titanic_train_c.isnull().sum())\n"
   ]
  },
  {
   "cell_type": "code",
   "execution_count": null,
   "id": "9b5b7ab1",
   "metadata": {
    "execution": {
     "iopub.execute_input": "2021-12-20T21:39:02.466019Z",
     "iopub.status.busy": "2021-12-20T21:39:02.465694Z",
     "iopub.status.idle": "2021-12-20T21:39:02.475696Z",
     "shell.execute_reply": "2021-12-20T21:39:02.474836Z",
     "shell.execute_reply.started": "2021-12-20T21:39:02.465985Z"
    },
    "papermill": {
     "duration": null,
     "end_time": null,
     "exception": null,
     "start_time": null,
     "status": "pending"
    },
    "tags": []
   },
   "outputs": [],
   "source": [
    "print('Titanic Test data NaN Values')\n",
    "print(titanic_test.isnull().sum())"
   ]
  },
  {
   "cell_type": "code",
   "execution_count": null,
   "id": "6e4f0c56",
   "metadata": {
    "execution": {
     "iopub.execute_input": "2021-12-20T21:39:07.871718Z",
     "iopub.status.busy": "2021-12-20T21:39:07.871033Z",
     "iopub.status.idle": "2021-12-20T21:39:07.897154Z",
     "shell.execute_reply": "2021-12-20T21:39:07.895757Z",
     "shell.execute_reply.started": "2021-12-20T21:39:07.871670Z"
    },
    "papermill": {
     "duration": null,
     "end_time": null,
     "exception": null,
     "start_time": null,
     "status": "pending"
    },
    "tags": []
   },
   "outputs": [],
   "source": [
    "pd.qcut(titanic_test[\"Age\"], 5).value_counts()\n"
   ]
  },
  {
   "cell_type": "code",
   "execution_count": null,
   "id": "b47f9d24",
   "metadata": {
    "execution": {
     "iopub.execute_input": "2021-12-20T21:39:10.749955Z",
     "iopub.status.busy": "2021-12-20T21:39:10.749176Z",
     "iopub.status.idle": "2021-12-20T21:39:10.763157Z",
     "shell.execute_reply": "2021-12-20T21:39:10.762279Z",
     "shell.execute_reply.started": "2021-12-20T21:39:10.749911Z"
    },
    "papermill": {
     "duration": null,
     "end_time": null,
     "exception": null,
     "start_time": null,
     "status": "pending"
    },
    "tags": []
   },
   "outputs": [],
   "source": [
    "for data in [titanic_train_c,titanic_test]:\n",
    "    data['Age_group'] = pd.cut(data['Age'].astype(int), 5)\n",
    "    \n",
    "\n",
    "    "
   ]
  },
  {
   "cell_type": "code",
   "execution_count": null,
   "id": "2a6f19cd",
   "metadata": {
    "execution": {
     "iopub.execute_input": "2021-12-20T21:39:13.247484Z",
     "iopub.status.busy": "2021-12-20T21:39:13.247163Z",
     "iopub.status.idle": "2021-12-20T21:39:13.260587Z",
     "shell.execute_reply": "2021-12-20T21:39:13.259719Z",
     "shell.execute_reply.started": "2021-12-20T21:39:13.247446Z"
    },
    "papermill": {
     "duration": null,
     "end_time": null,
     "exception": null,
     "start_time": null,
     "status": "pending"
    },
    "tags": []
   },
   "outputs": [],
   "source": [
    "for data in [titanic_train_c,titanic_test]:\n",
    "    data['Fare_group'] = pd.qcut(data['Fare'], 6)"
   ]
  },
  {
   "cell_type": "markdown",
   "id": "81f364e7",
   "metadata": {
    "papermill": {
     "duration": null,
     "end_time": null,
     "exception": null,
     "start_time": null,
     "status": "pending"
    },
    "tags": []
   },
   "source": [
    "### Encoding de Variáveis Categóricas"
   ]
  },
  {
   "cell_type": "markdown",
   "id": "ce426c73",
   "metadata": {
    "papermill": {
     "duration": null,
     "end_time": null,
     "exception": null,
     "start_time": null,
     "status": "pending"
    },
    "tags": []
   },
   "source": [
    "#### Variáveis aleatórias"
   ]
  },
  {
   "cell_type": "code",
   "execution_count": null,
   "id": "ecb438b6",
   "metadata": {
    "execution": {
     "iopub.execute_input": "2021-12-20T21:39:16.236019Z",
     "iopub.status.busy": "2021-12-20T21:39:16.234880Z",
     "iopub.status.idle": "2021-12-20T21:39:16.252041Z",
     "shell.execute_reply": "2021-12-20T21:39:16.251034Z",
     "shell.execute_reply.started": "2021-12-20T21:39:16.235972Z"
    },
    "papermill": {
     "duration": null,
     "end_time": null,
     "exception": null,
     "start_time": null,
     "status": "pending"
    },
    "tags": []
   },
   "outputs": [],
   "source": [
    "titanic_train_c.info()"
   ]
  },
  {
   "cell_type": "markdown",
   "id": "e9e721f4",
   "metadata": {
    "papermill": {
     "duration": null,
     "end_time": null,
     "exception": null,
     "start_time": null,
     "status": "pending"
    },
    "tags": []
   },
   "source": [
    "### identificar o nome das colunas numéricas e categóricas"
   ]
  },
  {
   "cell_type": "code",
   "execution_count": null,
   "id": "8735ec20",
   "metadata": {
    "execution": {
     "iopub.execute_input": "2021-12-20T21:39:19.422677Z",
     "iopub.status.busy": "2021-12-20T21:39:19.422204Z",
     "iopub.status.idle": "2021-12-20T21:39:19.438796Z",
     "shell.execute_reply": "2021-12-20T21:39:19.437706Z",
     "shell.execute_reply.started": "2021-12-20T21:39:19.422628Z"
    },
    "papermill": {
     "duration": null,
     "end_time": null,
     "exception": null,
     "start_time": null,
     "status": "pending"
    },
    "tags": []
   },
   "outputs": [],
   "source": [
    "titanic_train_c.select_dtypes(include=['float64'])"
   ]
  },
  {
   "cell_type": "code",
   "execution_count": null,
   "id": "a04d20b8",
   "metadata": {
    "execution": {
     "iopub.execute_input": "2021-12-20T21:39:23.913699Z",
     "iopub.status.busy": "2021-12-20T21:39:23.913373Z",
     "iopub.status.idle": "2021-12-20T21:39:23.927542Z",
     "shell.execute_reply": "2021-12-20T21:39:23.926942Z",
     "shell.execute_reply.started": "2021-12-20T21:39:23.913634Z"
    },
    "papermill": {
     "duration": null,
     "end_time": null,
     "exception": null,
     "start_time": null,
     "status": "pending"
    },
    "tags": []
   },
   "outputs": [],
   "source": [
    "titanic_train_c.select_dtypes(include=['int64'])"
   ]
  },
  {
   "cell_type": "code",
   "execution_count": null,
   "id": "af99aa6f",
   "metadata": {
    "execution": {
     "iopub.execute_input": "2021-12-20T21:39:34.598640Z",
     "iopub.status.busy": "2021-12-20T21:39:34.597610Z",
     "iopub.status.idle": "2021-12-20T21:39:34.614862Z",
     "shell.execute_reply": "2021-12-20T21:39:34.613920Z",
     "shell.execute_reply.started": "2021-12-20T21:39:34.598586Z"
    },
    "papermill": {
     "duration": null,
     "end_time": null,
     "exception": null,
     "start_time": null,
     "status": "pending"
    },
    "tags": []
   },
   "outputs": [],
   "source": [
    "titanic_train_c.select_dtypes(include=['object'])"
   ]
  },
  {
   "cell_type": "markdown",
   "id": "4f3edce7",
   "metadata": {
    "papermill": {
     "duration": null,
     "end_time": null,
     "exception": null,
     "start_time": null,
     "status": "pending"
    },
    "tags": []
   },
   "source": [
    "One-hot"
   ]
  },
  {
   "cell_type": "code",
   "execution_count": null,
   "id": "1d3bb29a",
   "metadata": {
    "execution": {
     "iopub.execute_input": "2021-12-20T21:39:37.861591Z",
     "iopub.status.busy": "2021-12-20T21:39:37.861131Z",
     "iopub.status.idle": "2021-12-20T21:39:37.894360Z",
     "shell.execute_reply": "2021-12-20T21:39:37.892956Z",
     "shell.execute_reply.started": "2021-12-20T21:39:37.861555Z"
    },
    "papermill": {
     "duration": null,
     "end_time": null,
     "exception": null,
     "start_time": null,
     "status": "pending"
    },
    "tags": []
   },
   "outputs": [],
   "source": [
    "from sklearn.preprocessing import OneHotEncoder\n",
    "\n",
    "onehot = OneHotEncoder(sparse = False)\n",
    "\n",
    "def OH_encoder(data,cols):\n",
    "    data_encoded = data.copy()\n",
    "    for col in cols:      \n",
    " \n",
    "        OH_cols = pd.DataFrame(onehot.fit_transform(data[[col]]),dtype = 'int')\n",
    "        \n",
    " \n",
    "        OH_cols.columns = onehot.get_feature_names([col])\n",
    "        \n",
    " \n",
    "        data_encoded = data_encoded.drop([col], axis = 1)\n",
    "        data_encoded = pd.concat([data_encoded,OH_cols], axis = 1)\n",
    "    return data_encoded\n",
    "\n",
    "\n",
    "train_encoded = OH_encoder(titanic_train_c,[\"Sex\",\"Embarked\"])\n",
    "test_encoded = OH_encoder(titanic_test,[\"Sex\",\"Embarked\"])"
   ]
  },
  {
   "cell_type": "code",
   "execution_count": null,
   "id": "e963dfaa",
   "metadata": {
    "execution": {
     "iopub.execute_input": "2021-12-20T21:39:40.921702Z",
     "iopub.status.busy": "2021-12-20T21:39:40.921374Z",
     "iopub.status.idle": "2021-12-20T21:39:40.958814Z",
     "shell.execute_reply": "2021-12-20T21:39:40.957686Z",
     "shell.execute_reply.started": "2021-12-20T21:39:40.921644Z"
    },
    "papermill": {
     "duration": null,
     "end_time": null,
     "exception": null,
     "start_time": null,
     "status": "pending"
    },
    "tags": []
   },
   "outputs": [],
   "source": [
    "\n",
    "from sklearn.preprocessing import LabelEncoder\n",
    "\n",
    "label = LabelEncoder()\n",
    "\n",
    "for data in [train_encoded,test_encoded]:\n",
    "    data[\"Age_group_code\"] = label.fit_transform(data[\"Age_group\"])\n",
    "    data[\"Fare_group_code\"] = label.fit_transform(data[\"Fare_group\"])\n",
    "    data = data.drop([\"Age_group\",\"Fare_group\",\"Name\"], axis = 1, inplace = True)\n",
    "    \n",
    "train_encoded.head()"
   ]
  },
  {
   "cell_type": "markdown",
   "id": "ab52b37f",
   "metadata": {
    "papermill": {
     "duration": null,
     "end_time": null,
     "exception": null,
     "start_time": null,
     "status": "pending"
    },
    "tags": []
   },
   "source": [
    "### Precisão do Modelo"
   ]
  },
  {
   "cell_type": "code",
   "execution_count": null,
   "id": "b409b526",
   "metadata": {
    "execution": {
     "iopub.execute_input": "2021-12-20T21:39:44.403837Z",
     "iopub.status.busy": "2021-12-20T21:39:44.402758Z",
     "iopub.status.idle": "2021-12-20T21:39:44.663049Z",
     "shell.execute_reply": "2021-12-20T21:39:44.662100Z",
     "shell.execute_reply.started": "2021-12-20T21:39:44.403777Z"
    },
    "papermill": {
     "duration": null,
     "end_time": null,
     "exception": null,
     "start_time": null,
     "status": "pending"
    },
    "tags": []
   },
   "outputs": [],
   "source": [
    "\n",
    "from sklearn.ensemble import RandomForestClassifier\n",
    "from sklearn.metrics import accuracy_score\n",
    "from sklearn.model_selection import train_test_split\n",
    "\n",
    "randomforest_model1 = RandomForestClassifier(random_state = 0)\n",
    "\n",
    "X_model1 = train_encoded.drop('Survived', axis = 1)\n",
    "y_model1 = train_encoded['Survived']\n",
    "\n",
    "X_train,X_valid,y_train,y_valid = train_test_split(X_model1,y_model1,test_size = 0.2,random_state = 0)\n",
    "\n",
    "randomforest_model1.fit(X_train,y_train)\n",
    "preds = randomforest_model1.predict(X_valid)\n",
    "\n",
    "accuracy = round(accuracy_score(preds,y_valid)*100,2)\n",
    "print(accuracy)"
   ]
  },
  {
   "cell_type": "markdown",
   "id": "6bd2d764",
   "metadata": {
    "papermill": {
     "duration": null,
     "end_time": null,
     "exception": null,
     "start_time": null,
     "status": "pending"
    },
    "tags": []
   },
   "source": [
    "## Pipilines"
   ]
  },
  {
   "cell_type": "code",
   "execution_count": null,
   "id": "7e34195f",
   "metadata": {
    "execution": {
     "iopub.execute_input": "2021-12-20T21:39:47.704873Z",
     "iopub.status.busy": "2021-12-20T21:39:47.704207Z",
     "iopub.status.idle": "2021-12-20T21:39:47.721319Z",
     "shell.execute_reply": "2021-12-20T21:39:47.720339Z",
     "shell.execute_reply.started": "2021-12-20T21:39:47.704817Z"
    },
    "papermill": {
     "duration": null,
     "end_time": null,
     "exception": null,
     "start_time": null,
     "status": "pending"
    },
    "tags": []
   },
   "outputs": [],
   "source": [
    "titanic_train_c_na = titanic_train_c.copy()\n",
    "titanic_train_c_na = titanic_train_c_na.drop([\"Age\",\"Embarked\"], axis = 1)\n",
    "titanic_train_c_na = pd.concat([titanic_train_c_na,titanic_train[[\"Age\",\"Embarked\"]]],axis = 1)\n",
    "\n",
    "titanic_train_c_na.isnull().sum()"
   ]
  },
  {
   "cell_type": "markdown",
   "id": "a79a6f93",
   "metadata": {
    "papermill": {
     "duration": null,
     "end_time": null,
     "exception": null,
     "start_time": null,
     "status": "pending"
    },
    "tags": []
   },
   "source": [
    "Função para avaliar estratégias"
   ]
  },
  {
   "cell_type": "markdown",
   "id": "a912dffe",
   "metadata": {
    "papermill": {
     "duration": null,
     "end_time": null,
     "exception": null,
     "start_time": null,
     "status": "pending"
    },
    "tags": []
   },
   "source": [
    "Argumentos:\n",
    "\n",
    "● data: Banco de dados a partir do qual será produzido o modelo.\n",
    "\n",
    "● encoder: a estratégia de encoding de variáveis categóricas,\n",
    "como one-hot ou label encoder.\n",
    "\n",
    "● model: o algoritmo que irá produzir o modelo, inicialmente será\n",
    "o random forest classifier.\n",
    "\n",
    "● numerical_imputer: a estratégia usada para substituir valores\n",
    "nulos nas features numéricas, como \"mean\" ou \"median\".\n",
    "\n",
    "● categorical_imputer: estratégia para preencher valores nulos nas features categóricas, aqui será usada apenas \"most frequent\", que é substituir pelo valor que mais aparece no banco de dados."
   ]
  },
  {
   "cell_type": "code",
   "execution_count": null,
   "id": "3eb039ff",
   "metadata": {
    "execution": {
     "iopub.execute_input": "2021-12-20T21:39:51.284223Z",
     "iopub.status.busy": "2021-12-20T21:39:51.283328Z",
     "iopub.status.idle": "2021-12-20T21:39:51.295567Z",
     "shell.execute_reply": "2021-12-20T21:39:51.294794Z",
     "shell.execute_reply.started": "2021-12-20T21:39:51.284176Z"
    },
    "papermill": {
     "duration": null,
     "end_time": null,
     "exception": null,
     "start_time": null,
     "status": "pending"
    },
    "tags": []
   },
   "outputs": [],
   "source": [
    "from sklearn.compose import ColumnTransformer\n",
    "from sklearn.pipeline import Pipeline\n",
    "from sklearn.impute import SimpleImputer\n",
    "\n",
    "def pipeline_maker(data, encoder, model, numerical_imputer = SimpleImputer(),\n",
    "                   categorical_imputer = SimpleImputer(strategy = 'most_frequent')):\n",
    "    \n",
    "    X_pipe = data.drop('Survived', axis = 1)\n",
    "    y_pipe = data['Survived']\n",
    "\n",
    "    X_train_pipe,X_valid_pipe,y_train_pipe,y_valid_pipe = train_test_split(X_pipe,y_pipe,\n",
    "                                                                           test_size = 0.2,\n",
    "                                                                           random_state = 0)\n",
    "\n",
    "    \n",
    "    num_transf = numerical_imputer\n",
    "    cat_transf = Pipeline(steps = [('imputer', categorical_imputer),\n",
    "                                               ('encoder',encoder)])\n",
    "    preprocessor = ColumnTransformer(transformers = [\n",
    "                                                ('num',num_transf,['Age']),\n",
    "                                                ('cat',cat_transf,['Age_group','Fare_group',\n",
    "                                                                          'Sex','Embarked'])])\n",
    "    \n",
    "\n",
    "    pipe = Pipeline(steps = [('preprocessor', preprocessor),\n",
    "                                         ('model', model)])\n",
    "    pipe.fit(X_train_pipe,y_train_pipe)\n",
    "    preds_pipe = pipe.predict(X_valid_pipe)\n",
    "\n",
    "   \n",
    "    accuracy = round(accuracy_score(preds_pipe,y_valid_pipe)*100,2)\n",
    "    return accuracy, preds_pipe"
   ]
  },
  {
   "cell_type": "markdown",
   "id": "647be395",
   "metadata": {
    "papermill": {
     "duration": null,
     "end_time": null,
     "exception": null,
     "start_time": null,
     "status": "pending"
    },
    "tags": []
   },
   "source": [
    "Definindo estratégias\n",
    "\n"
   ]
  },
  {
   "cell_type": "markdown",
   "id": "ff3a1196",
   "metadata": {
    "papermill": {
     "duration": null,
     "end_time": null,
     "exception": null,
     "start_time": null,
     "status": "pending"
    },
    "tags": []
   },
   "source": [
    "### Imputers"
   ]
  },
  {
   "cell_type": "code",
   "execution_count": null,
   "id": "a203bfd1",
   "metadata": {
    "execution": {
     "iopub.execute_input": "2021-12-20T21:39:55.564005Z",
     "iopub.status.busy": "2021-12-20T21:39:55.563518Z",
     "iopub.status.idle": "2021-12-20T21:39:55.571726Z",
     "shell.execute_reply": "2021-12-20T21:39:55.570604Z",
     "shell.execute_reply.started": "2021-12-20T21:39:55.563963Z"
    },
    "papermill": {
     "duration": null,
     "end_time": null,
     "exception": null,
     "start_time": null,
     "status": "pending"
    },
    "tags": []
   },
   "outputs": [],
   "source": [
    "mean_imputer = SimpleImputer()\n",
    "mostfreq_imputer = SimpleImputer(strategy = 'most_frequent')\n",
    "median_imputer = SimpleImputer(strategy = 'median')\n",
    "zero_imputer = SimpleImputer(strategy = 'constant', fill_value = 0)\n",
    "imputers = [mean_imputer, mostfreq_imputer, median_imputer, zero_imputer]"
   ]
  },
  {
   "cell_type": "markdown",
   "id": "37b260dc",
   "metadata": {
    "papermill": {
     "duration": null,
     "end_time": null,
     "exception": null,
     "start_time": null,
     "status": "pending"
    },
    "tags": []
   },
   "source": [
    "### Encoders"
   ]
  },
  {
   "cell_type": "code",
   "execution_count": null,
   "id": "f32fedd1",
   "metadata": {
    "execution": {
     "iopub.execute_input": "2021-12-20T21:39:58.642836Z",
     "iopub.status.busy": "2021-12-20T21:39:58.642124Z",
     "iopub.status.idle": "2021-12-20T21:39:58.648273Z",
     "shell.execute_reply": "2021-12-20T21:39:58.647004Z",
     "shell.execute_reply.started": "2021-12-20T21:39:58.642792Z"
    },
    "papermill": {
     "duration": null,
     "end_time": null,
     "exception": null,
     "start_time": null,
     "status": "pending"
    },
    "tags": []
   },
   "outputs": [],
   "source": [
    "from sklearn.preprocessing import OrdinalEncoder\n",
    "onehot_encoder = OneHotEncoder(sparse = False)\n",
    "ordinal_encoder = OrdinalEncoder()\n",
    "encoders = [onehot_encoder, ordinal_encoder]\n",
    "\n"
   ]
  },
  {
   "cell_type": "markdown",
   "id": "d128e824",
   "metadata": {
    "papermill": {
     "duration": null,
     "end_time": null,
     "exception": null,
     "start_time": null,
     "status": "pending"
    },
    "tags": []
   },
   "source": [
    "### Model"
   ]
  },
  {
   "cell_type": "code",
   "execution_count": null,
   "id": "2f67c1c6",
   "metadata": {
    "execution": {
     "iopub.execute_input": "2021-12-20T21:40:02.164227Z",
     "iopub.status.busy": "2021-12-20T21:40:02.163253Z",
     "iopub.status.idle": "2021-12-20T21:40:02.169564Z",
     "shell.execute_reply": "2021-12-20T21:40:02.168887Z",
     "shell.execute_reply.started": "2021-12-20T21:40:02.164159Z"
    },
    "papermill": {
     "duration": null,
     "end_time": null,
     "exception": null,
     "start_time": null,
     "status": "pending"
    },
    "tags": []
   },
   "outputs": [],
   "source": [
    "randomforest = RandomForestClassifier(random_state = 0)"
   ]
  },
  {
   "cell_type": "code",
   "execution_count": null,
   "id": "cbbccfe1",
   "metadata": {
    "execution": {
     "iopub.execute_input": "2021-12-20T21:40:04.506008Z",
     "iopub.status.busy": "2021-12-20T21:40:04.505389Z",
     "iopub.status.idle": "2021-12-20T21:40:06.955273Z",
     "shell.execute_reply": "2021-12-20T21:40:06.954038Z",
     "shell.execute_reply.started": "2021-12-20T21:40:04.505940Z"
    },
    "papermill": {
     "duration": null,
     "end_time": null,
     "exception": null,
     "start_time": null,
     "status": "pending"
    },
    "tags": []
   },
   "outputs": [],
   "source": [
    "for encoder in encoders:\n",
    "    for imputer in imputers:\n",
    "        accuracy,_ = pipeline_maker(titanic_train_c_na, encoder, randomforest, numerical_imputer = imputer)\n",
    "        print(\"pipe_\"+str(encoder)+'_'+str(imputer)+'='+str(accuracy))"
   ]
  },
  {
   "cell_type": "markdown",
   "id": "a56326d3",
   "metadata": {
    "papermill": {
     "duration": null,
     "end_time": null,
     "exception": null,
     "start_time": null,
     "status": "pending"
    },
    "tags": []
   },
   "source": [
    "### Cross Validation e Gradient Boosting"
   ]
  },
  {
   "cell_type": "code",
   "execution_count": null,
   "id": "d1ad36c7",
   "metadata": {
    "execution": {
     "iopub.execute_input": "2021-12-20T21:40:09.322673Z",
     "iopub.status.busy": "2021-12-20T21:40:09.322320Z",
     "iopub.status.idle": "2021-12-20T21:40:10.614844Z",
     "shell.execute_reply": "2021-12-20T21:40:10.613904Z",
     "shell.execute_reply.started": "2021-12-20T21:40:09.322626Z"
    },
    "papermill": {
     "duration": null,
     "end_time": null,
     "exception": null,
     "start_time": null,
     "status": "pending"
    },
    "tags": []
   },
   "outputs": [],
   "source": [
    "from sklearn.model_selection import cross_val_score\n",
    "\n",
    "def cross_validation(model, X, y):\n",
    "    scores = cross_val_score(model, X, y, cv = 5, scoring = 'accuracy')\n",
    "    return round(scores.mean()*100,2)\n",
    "\n",
    "\n",
    "accuracy_crossval = cross_validation(randomforest_model1, X_model1, y_model1)\n",
    "print(accuracy_crossval)"
   ]
  },
  {
   "cell_type": "markdown",
   "id": "46e6f925",
   "metadata": {
    "papermill": {
     "duration": null,
     "end_time": null,
     "exception": null,
     "start_time": null,
     "status": "pending"
    },
    "tags": []
   },
   "source": [
    "Gradient Boosting"
   ]
  },
  {
   "cell_type": "code",
   "execution_count": null,
   "id": "4855744a",
   "metadata": {
    "execution": {
     "iopub.execute_input": "2021-12-20T21:40:13.561286Z",
     "iopub.status.busy": "2021-12-20T21:40:13.560915Z",
     "iopub.status.idle": "2021-12-20T21:40:14.377047Z",
     "shell.execute_reply": "2021-12-20T21:40:14.376088Z",
     "shell.execute_reply.started": "2021-12-20T21:40:13.561235Z"
    },
    "papermill": {
     "duration": null,
     "end_time": null,
     "exception": null,
     "start_time": null,
     "status": "pending"
    },
    "tags": []
   },
   "outputs": [],
   "source": [
    "from sklearn.ensemble import GradientBoostingClassifier\n",
    "\n",
    "\n",
    "def make_gbc(X,y):\n",
    "    gbclass = GradientBoostingClassifier(random_state = 0, n_iter_no_change = 100) \n",
    "    gbclass.fit(X,y)\n",
    "    score = cross_validation(gbclass, X, y)\n",
    "    return score, gbclass\n",
    "\n",
    "X_model2 = X_model1\n",
    "y_model2 = y_model1\n",
    "\n",
    "score,gbclass = make_gbc(X_model2,y_model2)\n",
    "print(score)"
   ]
  },
  {
   "cell_type": "markdown",
   "id": "ae794077",
   "metadata": {
    "papermill": {
     "duration": null,
     "end_time": null,
     "exception": null,
     "start_time": null,
     "status": "pending"
    },
    "tags": []
   },
   "source": [
    "# Feature Engineering"
   ]
  },
  {
   "cell_type": "markdown",
   "id": "3d65cd0e",
   "metadata": {
    "papermill": {
     "duration": null,
     "end_time": null,
     "exception": null,
     "start_time": null,
     "status": "pending"
    },
    "tags": []
   },
   "source": [
    "Determinar quais são as features discretas (todas menos “Age” e “Fare”)"
   ]
  },
  {
   "cell_type": "code",
   "execution_count": null,
   "id": "09ee7c56",
   "metadata": {
    "execution": {
     "iopub.execute_input": "2021-12-20T21:40:17.227420Z",
     "iopub.status.busy": "2021-12-20T21:40:17.226464Z",
     "iopub.status.idle": "2021-12-20T21:40:17.234469Z",
     "shell.execute_reply": "2021-12-20T21:40:17.233723Z",
     "shell.execute_reply.started": "2021-12-20T21:40:17.227357Z"
    },
    "papermill": {
     "duration": null,
     "end_time": null,
     "exception": null,
     "start_time": null,
     "status": "pending"
    },
    "tags": []
   },
   "outputs": [],
   "source": [
    "from sklearn.feature_selection import mutual_info_classif\n",
    "\n",
    "discrete_features = train_encoded.drop(['Age','Fare'], axis = 1)"
   ]
  },
  {
   "cell_type": "markdown",
   "id": "f9aebcc7",
   "metadata": {
    "execution": {
     "iopub.execute_input": "2021-12-20T21:40:21.533841Z",
     "iopub.status.busy": "2021-12-20T21:40:21.533424Z",
     "iopub.status.idle": "2021-12-20T21:40:21.540363Z",
     "shell.execute_reply": "2021-12-20T21:40:21.539055Z",
     "shell.execute_reply.started": "2021-12-20T21:40:21.533804Z"
    },
    "papermill": {
     "duration": null,
     "end_time": null,
     "exception": null,
     "start_time": null,
     "status": "pending"
    },
    "tags": []
   },
   "source": [
    "Função para produzir o gráfico de MI score;\n",
    "Features que serão utilizados na função;\n",
    "Produzindo gráfico a partir das funções e argumentos necessários.\n"
   ]
  },
  {
   "cell_type": "code",
   "execution_count": null,
   "id": "197c93f2",
   "metadata": {
    "execution": {
     "iopub.execute_input": "2021-12-20T21:40:45.243552Z",
     "iopub.status.busy": "2021-12-20T21:40:45.243224Z",
     "iopub.status.idle": "2021-12-20T21:40:45.671086Z",
     "shell.execute_reply": "2021-12-20T21:40:45.670181Z",
     "shell.execute_reply.started": "2021-12-20T21:40:45.243514Z"
    },
    "papermill": {
     "duration": null,
     "end_time": null,
     "exception": null,
     "start_time": null,
     "status": "pending"
    },
    "tags": []
   },
   "outputs": [],
   "source": [
    "def make_MI (X, y, discrete_features):\n",
    "\n",
    "    mi_scores = mutual_info_classif(X, y, discrete_features = discrete_features )\n",
    "    mi_scores = pd.Series(mi_scores, index = X.columns)\n",
    "    mi_scores = mi_scores.sort_values(ascending = False)\n",
    "    \n",
    "    \n",
    "    sns.set_style('whitegrid')\n",
    "    scores = mi_scores.sort_values(ascending = True)\n",
    "    width = np.arange(len(scores))\n",
    "    ticks = list(scores.index)\n",
    "    plt.barh(width, scores)\n",
    "    plt.yticks(width, ticks)\n",
    "    plt.title(\"Mutual Information Scores\")\n",
    "    \n",
    "    return mi_scores\n",
    "\n",
    "X = train_encoded.drop(['Survived'],axis = 1)\n",
    "y = train_encoded['Survived']\n",
    "\n",
    "make_MI(X, y, discrete_features)"
   ]
  },
  {
   "cell_type": "markdown",
   "id": "afd8476a",
   "metadata": {
    "papermill": {
     "duration": null,
     "end_time": null,
     "exception": null,
     "start_time": null,
     "status": "pending"
    },
    "tags": []
   },
   "source": [
    "Construir dois gráficos do tipo sns.histplot para a análise de “Fare”."
   ]
  },
  {
   "cell_type": "code",
   "execution_count": null,
   "id": "2ba22701",
   "metadata": {
    "execution": {
     "iopub.execute_input": "2021-12-20T21:40:52.598092Z",
     "iopub.status.busy": "2021-12-20T21:40:52.597758Z",
     "iopub.status.idle": "2021-12-20T21:40:54.075816Z",
     "shell.execute_reply": "2021-12-20T21:40:54.074862Z",
     "shell.execute_reply.started": "2021-12-20T21:40:52.598052Z"
    },
    "papermill": {
     "duration": null,
     "end_time": null,
     "exception": null,
     "start_time": null,
     "status": "pending"
    },
    "tags": []
   },
   "outputs": [],
   "source": [
    "#Criando dois gráficos, plotados um ao lado do outro\n",
    "fig, axs = plt.subplots(1,2, figsize = (18,7))\n",
    "#Criando gráficos da distribuição de \"Fare\"\n",
    "axs[0].set_title('Distribuição Total das Taxas')\n",
    "sns.histplot(x = 'Fare', kde = True, data = titanic_train_c, ax = axs[0]);\n",
    "axs[1].set_title('Relação Entre Taxas e Sobreviventes ')\n",
    "sns.histplot(x = 'Fare',hue = 'Survived', kde = True, data = titanic_train_c, ax = axs[1]);"
   ]
  },
  {
   "cell_type": "markdown",
   "id": "cf3a27ed",
   "metadata": {
    "papermill": {
     "duration": null,
     "end_time": null,
     "exception": null,
     "start_time": null,
     "status": "pending"
    },
    "tags": []
   },
   "source": [
    "Pode-se notar que as tarifas, obteeram uma maior frequencia no valor de até 50 dólares. Contudo no gráfico \"Relação entre taxas e sobreviventes\", é que mesmo tendo poucas pessoas que pagaram taxas maiores que 50 dólares, nesses \"Setores\", houve um maior número de sobreviventes do que de mortes."
   ]
  },
  {
   "cell_type": "markdown",
   "id": "77cfbf46",
   "metadata": {
    "papermill": {
     "duration": null,
     "end_time": null,
     "exception": null,
     "start_time": null,
     "status": "pending"
    },
    "tags": []
   },
   "source": [
    "i. Distribuição da idade dos passageiros utilizando o sexo como camada.\n",
    "\n",
    "ii. A distribuição da idade dos passageiros, apenas entre os\n",
    "sobreviventes, utilizando o sexo como camada.\n",
    "\n",
    "iii. Distribuição da idade dos homens, utilizando “Survived” como camada.\n",
    "\n",
    "iv. Distribuição da idade das mulheres, utilizando “Survived”.\n",
    "\n",
    "v. Faça uma análise comparando a distribuição dos sobreviventes, comparando homens e mulheres e qual e como a idade influencia na chance de sobrevivência"
   ]
  },
  {
   "cell_type": "code",
   "execution_count": null,
   "id": "c330b82a",
   "metadata": {
    "execution": {
     "iopub.execute_input": "2021-12-20T21:40:57.599306Z",
     "iopub.status.busy": "2021-12-20T21:40:57.598963Z",
     "iopub.status.idle": "2021-12-20T21:40:59.437492Z",
     "shell.execute_reply": "2021-12-20T21:40:59.436779Z",
     "shell.execute_reply.started": "2021-12-20T21:40:57.599252Z"
    },
    "papermill": {
     "duration": null,
     "end_time": null,
     "exception": null,
     "start_time": null,
     "status": "pending"
    },
    "tags": []
   },
   "outputs": [],
   "source": [
    "#Organizando as plotagens para 4 gráficos.\n",
    "fig, axs = plt.subplots(2,2, figsize = (18,7), sharex = True, sharey = True)\n",
    "\n",
    "#Criando gráficos da distribuição de \"Fare\"\n",
    "axs[0,0].set_title('Sexo x idade')\n",
    "sns.histplot(x = 'Age',hue = 'Sex', kde = True, data = titanic_train_c, ax = axs[0,0], palette = \"YlOrRd\");\n",
    "\n",
    "axs[0,1].set_title('sobreviventes x idade')\n",
    "sns.histplot(data = titanic_train_c.loc[titanic_train_c['Survived']==1], x = 'Age', hue = 'Sex', kde = True, ax = axs[0,1], palette = \"YlOrRd_r\");\n",
    "\n",
    "axs[1,0].set_title('Sobreviventes x Homens ')\n",
    "sns.histplot(data = titanic_train_c.loc[titanic_train_c['Sex']=='male'], x = 'Age', hue = 'Survived', kde = True, ax = axs[1,0]);\n",
    "\n",
    "axs[1,1].set_title('Sobreviventes x Mulheres')\n",
    "sns.histplot(data = titanic_train_c.loc[titanic_train_c['Sex']=='female'], x = 'Age', hue = 'Survived', kde = True, ax = axs[1,1]);\n"
   ]
  },
  {
   "cell_type": "markdown",
   "id": "6efa57d7",
   "metadata": {
    "papermill": {
     "duration": null,
     "end_time": null,
     "exception": null,
     "start_time": null,
     "status": "pending"
    },
    "tags": []
   },
   "source": [
    "Observa-se que há uma maior relação de mulheres sobreviventes em relação a homens, idependente da idade."
   ]
  },
  {
   "cell_type": "markdown",
   "id": "7be8b391",
   "metadata": {
    "papermill": {
     "duration": null,
     "end_time": null,
     "exception": null,
     "start_time": null,
     "status": "pending"
    },
    "tags": []
   },
   "source": [
    "# Feature Construction"
   ]
  },
  {
   "cell_type": "markdown",
   "id": "2a83cbd9",
   "metadata": {
    "papermill": {
     "duration": null,
     "end_time": null,
     "exception": null,
     "start_time": null,
     "status": "pending"
    },
    "tags": []
   },
   "source": [
    "A partir de “Name” criar a feature “Title” para separar os valores, primeiramente, pela vírgula, e depois pelo ponto. Para isso deve-se utilizar o método str.split, lembre-se de criar uma nova coluna para armazenar estas informações, após isso, pode-se excluir a feature “Names”"
   ]
  },
  {
   "cell_type": "code",
   "execution_count": null,
   "id": "d1a84f5b",
   "metadata": {
    "execution": {
     "iopub.execute_input": "2021-12-20T21:43:37.318913Z",
     "iopub.status.busy": "2021-12-20T21:43:37.318096Z",
     "iopub.status.idle": "2021-12-20T21:43:37.415652Z",
     "shell.execute_reply": "2021-12-20T21:43:37.414157Z",
     "shell.execute_reply.started": "2021-12-20T21:43:37.318848Z"
    },
    "papermill": {
     "duration": null,
     "end_time": null,
     "exception": null,
     "start_time": null,
     "status": "pending"
    },
    "tags": []
   },
   "outputs": [],
   "source": [
    "# Adicionando \"Name\" à train_encoded\n",
    "train_encoded = pd.concat([train_encoded,titanic_train_c['Name']], axis = 1)\n",
    "\n",
    "for data in [train_encoded,titanic_test]:\n",
    "    #Utilizando o método string split do pandas para retirar informações de texto \n",
    "    #(https://pandas.pydata.org/docs/reference/api/pandas.Series.str.split.html)\n",
    "    data['Title'] = data['Name'].str.split(',',expand = True)[1].str.split('.',expand = True)[0]\n",
    "    data.drop(\"Name\", axis = 1, inplace = True)\n",
    "\n",
    "#Demonstrando quais os valores da coluna\n",
    "print(train_encoded['Title'].value_counts())"
   ]
  },
  {
   "cell_type": "code",
   "execution_count": null,
   "id": "2dd0a7df",
   "metadata": {
    "execution": {
     "iopub.execute_input": "2021-12-20T21:43:42.638010Z",
     "iopub.status.busy": "2021-12-20T21:43:42.637613Z",
     "iopub.status.idle": "2021-12-20T21:43:42.810064Z",
     "shell.execute_reply": "2021-12-20T21:43:42.809407Z",
     "shell.execute_reply.started": "2021-12-20T21:43:42.637971Z"
    },
    "papermill": {
     "duration": null,
     "end_time": null,
     "exception": null,
     "start_time": null,
     "status": "pending"
    },
    "tags": []
   },
   "outputs": [],
   "source": [
    "for data in [train_encoded,titanic_test]:\n",
    "    #Criando Feature para contar número de integrantes da família\n",
    "    data['Familysize'] = data['SibSp'] + data['Parch']\n",
    "    \n",
    "    #Criando Feature para identificar se a pessoa está ou não sozinha no navio\n",
    "    data['IsAlone'] = 1\n",
    "    for i in range(len(data.index)):\n",
    "        if data.loc[i,'Familysize'] != 0:\n",
    "            data.loc[i,'IsAlone'] = 0\n",
    "\n",
    "train_encoded.head()\n"
   ]
  },
  {
   "cell_type": "markdown",
   "id": "f5975a80",
   "metadata": {
    "papermill": {
     "duration": null,
     "end_time": null,
     "exception": null,
     "start_time": null,
     "status": "pending"
    },
    "tags": []
   },
   "source": [
    "# Feature Extraction"
   ]
  },
  {
   "cell_type": "markdown",
   "id": "354feda7",
   "metadata": {
    "papermill": {
     "duration": null,
     "end_time": null,
     "exception": null,
     "start_time": null,
     "status": "pending"
    },
    "tags": []
   },
   "source": [
    "O primeiro passo é analisar a distribuição dos passageiros levando em consideração “Fare” e “Age”"
   ]
  },
  {
   "cell_type": "code",
   "execution_count": null,
   "id": "65b7bc63",
   "metadata": {
    "execution": {
     "iopub.execute_input": "2021-12-20T21:51:35.909882Z",
     "iopub.status.busy": "2021-12-20T21:51:35.909188Z",
     "iopub.status.idle": "2021-12-20T21:51:36.200266Z",
     "shell.execute_reply": "2021-12-20T21:51:36.199188Z",
     "shell.execute_reply.started": "2021-12-20T21:51:35.909814Z"
    },
    "papermill": {
     "duration": null,
     "end_time": null,
     "exception": null,
     "start_time": null,
     "status": "pending"
    },
    "tags": []
   },
   "outputs": [],
   "source": [
    "sns.scatterplot(x='Fare',y='Age',data = titanic_train_c);"
   ]
  },
  {
   "cell_type": "markdown",
   "id": "6c228777",
   "metadata": {
    "papermill": {
     "duration": null,
     "end_time": null,
     "exception": null,
     "start_time": null,
     "status": "pending"
    },
    "tags": []
   },
   "source": [
    "criar os grupos utilizando a biblioteca K-means do sklearn"
   ]
  },
  {
   "cell_type": "code",
   "execution_count": null,
   "id": "b8d17473",
   "metadata": {
    "execution": {
     "iopub.execute_input": "2021-12-20T21:58:47.332898Z",
     "iopub.status.busy": "2021-12-20T21:58:47.332580Z",
     "iopub.status.idle": "2021-12-20T21:58:47.475925Z",
     "shell.execute_reply": "2021-12-20T21:58:47.475028Z",
     "shell.execute_reply.started": "2021-12-20T21:58:47.332865Z"
    },
    "papermill": {
     "duration": null,
     "end_time": null,
     "exception": null,
     "start_time": null,
     "status": "pending"
    },
    "tags": []
   },
   "outputs": [],
   "source": [
    "from sklearn.cluster import KMeans\n",
    "\n",
    "#Criando dataframe com \"Age\" e \"Fare\" sem outliers\n",
    "fare_age_group = titanic_train_c.loc[titanic_train_c['Fare'] < 500,['Fare','Age']]\n",
    "\n",
    "#Criando feature a partir da interação entre \"Age\" e \"Fare\"\n",
    "kmeans = KMeans(n_clusters = 6, random_state = 0)\n",
    "fare_age_group['Fare_age_group'] = kmeans.fit_predict(fare_age_group)\n",
    "fare_age_group['Fare_age_group'] = fare_age_group['Fare_age_group'].astype('int')\n",
    "\n",
    "fare_age_group"
   ]
  },
  {
   "cell_type": "markdown",
   "id": "206f380d",
   "metadata": {
    "papermill": {
     "duration": null,
     "end_time": null,
     "exception": null,
     "start_time": null,
     "status": "pending"
    },
    "tags": []
   },
   "source": [
    "Agora será útil entender quais as características de cada grupo criado pelo algoritmo, para isso serão utilizados dois gráficos, um para identificar os grupos na distribuição “Age” x “Fare”, outro para avaliá-los em relação à chance de sobrevivência."
   ]
  },
  {
   "cell_type": "code",
   "execution_count": null,
   "id": "b754bdf6",
   "metadata": {
    "execution": {
     "iopub.execute_input": "2021-12-20T22:02:48.530213Z",
     "iopub.status.busy": "2021-12-20T22:02:48.529904Z",
     "iopub.status.idle": "2021-12-20T22:02:49.540112Z",
     "shell.execute_reply": "2021-12-20T22:02:49.539164Z",
     "shell.execute_reply.started": "2021-12-20T22:02:48.530181Z"
    },
    "papermill": {
     "duration": null,
     "end_time": null,
     "exception": null,
     "start_time": null,
     "status": "pending"
    },
    "tags": []
   },
   "outputs": [],
   "source": [
    "#Adicionando feature criada ao banco de dados de treino\n",
    "titanic_train_c['Fare_age_group'] = fare_age_group['Fare_age_group']\n",
    "\n",
    "#Criando visualização para entendimento da nova feature\n",
    "fig, axs = plt.subplots(1,2, figsize = (15,7))\n",
    "sns.barplot(x = 'Fare_age_group', y = 'Survived', data = titanic_train_c, ax = axs[1], palette = \"rainbow_r\")\n",
    "sns.scatterplot(x='Fare',y='Age', hue = 'Fare_age_group', data = titanic_train_c, ax = axs[0],palette = \"rainbow_r\" )"
   ]
  },
  {
   "cell_type": "markdown",
   "id": "662f577c",
   "metadata": {
    "papermill": {
     "duration": null,
     "end_time": null,
     "exception": null,
     "start_time": null,
     "status": "pending"
    },
    "tags": []
   },
   "source": [
    "Como observado anteriormente os grupos que tiveram uma taxa menor que 50 apresentou uma menor chance de sobrevivência, e pode-se observar na figua acima que os grupos 0, 4 e 5 apresentaram uma taxa menor que 50, ou seja, a chance de sobrevivência desses grupos é menor em relação aos outros grupos."
   ]
  },
  {
   "cell_type": "markdown",
   "id": "c9fcf804",
   "metadata": {
    "papermill": {
     "duration": null,
     "end_time": null,
     "exception": null,
     "start_time": null,
     "status": "pending"
    },
    "tags": []
   },
   "source": [
    "Ao analisarmos a nova feature, é fácil notar que existem valores nulos, estes valores correspondem aos outliers que foram retirados para a construção dos grupos. Para substituir os NaN, deve-se identificar quem são esses outliers e designar, manualmente, seu grupo"
   ]
  },
  {
   "cell_type": "markdown",
   "id": "85bf2b83",
   "metadata": {
    "papermill": {
     "duration": null,
     "end_time": null,
     "exception": null,
     "start_time": null,
     "status": "pending"
    },
    "tags": []
   },
   "source": [
    "Descobrindo os outliers"
   ]
  },
  {
   "cell_type": "code",
   "execution_count": null,
   "id": "ba07cd05",
   "metadata": {
    "execution": {
     "iopub.execute_input": "2021-12-20T22:09:26.517895Z",
     "iopub.status.busy": "2021-12-20T22:09:26.517208Z",
     "iopub.status.idle": "2021-12-20T22:09:26.541512Z",
     "shell.execute_reply": "2021-12-20T22:09:26.540897Z",
     "shell.execute_reply.started": "2021-12-20T22:09:26.517849Z"
    },
    "papermill": {
     "duration": null,
     "end_time": null,
     "exception": null,
     "start_time": null,
     "status": "pending"
    },
    "tags": []
   },
   "outputs": [],
   "source": [
    "titanic_train_c.loc[titanic_train_c['Fare_age_group'].isnull() == True,:]"
   ]
  },
  {
   "cell_type": "markdown",
   "id": "fda90f24",
   "metadata": {
    "papermill": {
     "duration": null,
     "end_time": null,
     "exception": null,
     "start_time": null,
     "status": "pending"
    },
    "tags": []
   },
   "source": [
    "Grupo para os outiliers "
   ]
  },
  {
   "cell_type": "code",
   "execution_count": null,
   "id": "12cf20bf",
   "metadata": {
    "execution": {
     "iopub.execute_input": "2021-12-20T22:11:33.885140Z",
     "iopub.status.busy": "2021-12-20T22:11:33.884829Z",
     "iopub.status.idle": "2021-12-20T22:11:33.910646Z",
     "shell.execute_reply": "2021-12-20T22:11:33.909703Z",
     "shell.execute_reply.started": "2021-12-20T22:11:33.885104Z"
    },
    "papermill": {
     "duration": null,
     "end_time": null,
     "exception": null,
     "start_time": null,
     "status": "pending"
    },
    "tags": []
   },
   "outputs": [],
   "source": [
    "titanic_train_c.loc[titanic_train_c['Fare_age_group'].isnull() == True,['Fare_age_group']] = 1\n",
    "titanic_train_c.loc[[258,679,737]]"
   ]
  },
  {
   "cell_type": "markdown",
   "id": "79b5a6ea",
   "metadata": {
    "papermill": {
     "duration": null,
     "end_time": null,
     "exception": null,
     "start_time": null,
     "status": "pending"
    },
    "tags": []
   },
   "source": [
    "Nova feature sendo adicionado aos bancos de dados "
   ]
  },
  {
   "cell_type": "code",
   "execution_count": null,
   "id": "3d340fd7",
   "metadata": {
    "execution": {
     "iopub.execute_input": "2021-12-20T22:13:30.349492Z",
     "iopub.status.busy": "2021-12-20T22:13:30.349000Z",
     "iopub.status.idle": "2021-12-20T22:13:30.377156Z",
     "shell.execute_reply": "2021-12-20T22:13:30.376174Z",
     "shell.execute_reply.started": "2021-12-20T22:13:30.349452Z"
    },
    "papermill": {
     "duration": null,
     "end_time": null,
     "exception": null,
     "start_time": null,
     "status": "pending"
    },
    "tags": []
   },
   "outputs": [],
   "source": [
    "train_encoded['Fare_age_group'] = titanic_train_c['Fare_age_group']\n",
    "train_encoded"
   ]
  },
  {
   "cell_type": "markdown",
   "id": "799f3757",
   "metadata": {
    "papermill": {
     "duration": null,
     "end_time": null,
     "exception": null,
     "start_time": null,
     "status": "pending"
    },
    "tags": []
   },
   "source": [
    "## PCA"
   ]
  },
  {
   "cell_type": "markdown",
   "id": "4a64915b",
   "metadata": {
    "papermill": {
     "duration": null,
     "end_time": null,
     "exception": null,
     "start_time": null,
     "status": "pending"
    },
    "tags": []
   },
   "source": [
    "As features originais não representam a mesma grandeza, “Age” conta a idade em anos e “Fare” a taxa de embarque em dólares, portanto, para que seja possível utilizar o PCA, deve-se primeiramente realizar os scaling das variáveis. para esta etapa será utilizado o MinMax Scaler do scikit learn"
   ]
  },
  {
   "cell_type": "code",
   "execution_count": null,
   "id": "55659a1e",
   "metadata": {
    "execution": {
     "iopub.execute_input": "2021-12-20T22:15:48.665782Z",
     "iopub.status.busy": "2021-12-20T22:15:48.665112Z",
     "iopub.status.idle": "2021-12-20T22:15:49.535771Z",
     "shell.execute_reply": "2021-12-20T22:15:49.534624Z",
     "shell.execute_reply.started": "2021-12-20T22:15:48.665726Z"
    },
    "papermill": {
     "duration": null,
     "end_time": null,
     "exception": null,
     "start_time": null,
     "status": "pending"
    },
    "tags": []
   },
   "outputs": [],
   "source": [
    "from scipy import stats\n",
    "from sklearn.preprocessing import MinMaxScaler\n",
    "scaller = MinMaxScaler(copy = False)\n",
    "\n",
    "stand_data = pd.DataFrame()\n",
    "for column in ['Fare','Age']:\n",
    "    stand_data[[column]] = titanic_train_c[[column]]\n",
    "    stand_data[[column]] = scaller.fit_transform(stand_data[[column]])\n",
    "    \n",
    "fig, axs = plt.subplots(1,2, figsize = (18,7))\n",
    "\n",
    "sns.histplot(x = 'Age', kde = True, data = stand_data, ax = axs[0]);\n",
    "sns.histplot(x = 'Fare', kde = True, data = stand_data, ax = axs[1]);"
   ]
  },
  {
   "cell_type": "markdown",
   "id": "f60050f5",
   "metadata": {
    "papermill": {
     "duration": null,
     "end_time": null,
     "exception": null,
     "start_time": null,
     "status": "pending"
    },
    "tags": []
   },
   "source": [
    "Realizar o PCA no dataframe com features escaladas"
   ]
  },
  {
   "cell_type": "code",
   "execution_count": null,
   "id": "78ea1f65",
   "metadata": {
    "execution": {
     "iopub.execute_input": "2021-12-20T22:16:43.382674Z",
     "iopub.status.busy": "2021-12-20T22:16:43.382208Z",
     "iopub.status.idle": "2021-12-20T22:16:43.400623Z",
     "shell.execute_reply": "2021-12-20T22:16:43.399628Z",
     "shell.execute_reply.started": "2021-12-20T22:16:43.382624Z"
    },
    "papermill": {
     "duration": null,
     "end_time": null,
     "exception": null,
     "start_time": null,
     "status": "pending"
    },
    "tags": []
   },
   "outputs": [],
   "source": [
    "from sklearn.decomposition import PCA\n",
    "\n",
    "pca = PCA()\n",
    "pca_data = pca.fit_transform(stand_data)\n",
    "\n",
    "columns = ['PC1','PC2']\n",
    "pca_data = pd.DataFrame(pca_data, columns = columns)\n",
    "\n",
    "loadings = pd.DataFrame(pca.components_.T, columns = columns, index = [\"Fare\",\"Age\"])\n",
    "loadings"
   ]
  },
  {
   "cell_type": "markdown",
   "id": "ad48c975",
   "metadata": {
    "papermill": {
     "duration": null,
     "end_time": null,
     "exception": null,
     "start_time": null,
     "status": "pending"
    },
    "tags": []
   },
   "source": [
    "MI scores do PC1 e PC2"
   ]
  },
  {
   "cell_type": "code",
   "execution_count": null,
   "id": "5447f540",
   "metadata": {
    "execution": {
     "iopub.execute_input": "2021-12-20T22:18:04.060092Z",
     "iopub.status.busy": "2021-12-20T22:18:04.059780Z",
     "iopub.status.idle": "2021-12-20T22:18:04.329113Z",
     "shell.execute_reply": "2021-12-20T22:18:04.328202Z",
     "shell.execute_reply.started": "2021-12-20T22:18:04.060058Z"
    },
    "papermill": {
     "duration": null,
     "end_time": null,
     "exception": null,
     "start_time": null,
     "status": "pending"
    },
    "tags": []
   },
   "outputs": [],
   "source": [
    "make_MI(pca_data, titanic_train_c[\"Survived\"], discrete_features = False)"
   ]
  },
  {
   "cell_type": "markdown",
   "id": "f5588e8e",
   "metadata": {
    "papermill": {
     "duration": null,
     "end_time": null,
     "exception": null,
     "start_time": null,
     "status": "pending"
    },
    "tags": []
   },
   "source": [
    "É viável, com essas técnicas, a substituição das features “Fare” e “Age” por apenas uma?\n",
    "Como observado acima, não é viável utilizar nem a PC1 e nem a PC2 ao banco de dados, mesmo o PC2 sendo um pouco melhor que o PC1"
   ]
  },
  {
   "cell_type": "markdown",
   "id": "43307734",
   "metadata": {
    "papermill": {
     "duration": null,
     "end_time": null,
     "exception": null,
     "start_time": null,
     "status": "pending"
    },
    "tags": []
   },
   "source": [
    "## Target Encoding"
   ]
  },
  {
   "cell_type": "markdown",
   "id": "4c874547",
   "metadata": {
    "papermill": {
     "duration": null,
     "end_time": null,
     "exception": null,
     "start_time": null,
     "status": "pending"
    },
    "tags": []
   },
   "source": [
    "Realizar o encoding da feature “Title”, após isso será interessante analisar a distribuição dos valores resultantes e compará-los com o target"
   ]
  },
  {
   "cell_type": "code",
   "execution_count": null,
   "id": "e0b5cba5",
   "metadata": {
    "execution": {
     "iopub.execute_input": "2021-12-20T22:23:53.460346Z",
     "iopub.status.busy": "2021-12-20T22:23:53.459560Z",
     "iopub.status.idle": "2021-12-20T22:23:53.715694Z",
     "shell.execute_reply": "2021-12-20T22:23:53.714829Z",
     "shell.execute_reply.started": "2021-12-20T22:23:53.460304Z"
    },
    "papermill": {
     "duration": null,
     "end_time": null,
     "exception": null,
     "start_time": null,
     "status": "pending"
    },
    "tags": []
   },
   "outputs": [],
   "source": [
    "from category_encoders import MEstimateEncoder\n",
    "\n",
    "encoder = MEstimateEncoder(cols = ['Title'], m = 5)\n",
    "\n",
    "title = encoder.fit_transform(train_encoded['Title'], train_encoded['Survived'])\n",
    "title\n",
    "\n"
   ]
  },
  {
   "cell_type": "markdown",
   "id": "42592e52",
   "metadata": {
    "papermill": {
     "duration": null,
     "end_time": null,
     "exception": null,
     "start_time": null,
     "status": "pending"
    },
    "tags": []
   },
   "source": [
    "#### Plotando a distribuição dos valores codificados"
   ]
  },
  {
   "cell_type": "markdown",
   "id": "e1833291",
   "metadata": {
    "papermill": {
     "duration": null,
     "end_time": null,
     "exception": null,
     "start_time": null,
     "status": "pending"
    },
    "tags": []
   },
   "source": [
    "Criar um histograma com os valores da feature “Survived”"
   ]
  },
  {
   "cell_type": "code",
   "execution_count": null,
   "id": "fcae6bf7",
   "metadata": {
    "execution": {
     "iopub.execute_input": "2021-12-20T22:24:47.556027Z",
     "iopub.status.busy": "2021-12-20T22:24:47.555689Z",
     "iopub.status.idle": "2021-12-20T22:24:47.945967Z",
     "shell.execute_reply": "2021-12-20T22:24:47.945224Z",
     "shell.execute_reply.started": "2021-12-20T22:24:47.555990Z"
    },
    "papermill": {
     "duration": null,
     "end_time": null,
     "exception": null,
     "start_time": null,
     "status": "pending"
    },
    "tags": []
   },
   "outputs": [],
   "source": [
    "fig, ax = plt.subplots(figsize = (9,7))\n",
    "\n",
    "sns.distplot(train_encoded['Survived'], kde=False, norm_hist=True)\n",
    "sns.kdeplot(title['Title'], color='r', ax=ax)\n",
    "ax.set_xlabel(\"Survived\")\n",
    "ax.legend(labels=['Title', 'Survived']);"
   ]
  },
  {
   "cell_type": "markdown",
   "id": "a31f5033",
   "metadata": {
    "papermill": {
     "duration": null,
     "end_time": null,
     "exception": null,
     "start_time": null,
     "status": "pending"
    },
    "tags": []
   },
   "source": [
    "\n",
    "Criar um gráfico do tipo kdeplot, sobreposto ao primeiro, que indique a distribuição dos valores da feature “Title” codificada"
   ]
  },
  {
   "cell_type": "code",
   "execution_count": null,
   "id": "0da4d991",
   "metadata": {
    "execution": {
     "iopub.execute_input": "2021-12-20T22:27:00.060934Z",
     "iopub.status.busy": "2021-12-20T22:27:00.060177Z",
     "iopub.status.idle": "2021-12-20T22:27:00.377648Z",
     "shell.execute_reply": "2021-12-20T22:27:00.377015Z",
     "shell.execute_reply.started": "2021-12-20T22:27:00.060884Z"
    },
    "papermill": {
     "duration": null,
     "end_time": null,
     "exception": null,
     "start_time": null,
     "status": "pending"
    },
    "tags": []
   },
   "outputs": [],
   "source": [
    "train_encoded['Title-encoded'] = title\n",
    "train_encoded.info()\n",
    "\n",
    "X_enc = train_encoded.loc[:,['Fare_age_group','Title-encoded']]\n",
    "y_enc = train_encoded['Survived']\n",
    "make_MI(X_enc, y_enc, discrete_features = False )"
   ]
  }
 ],
 "metadata": {
  "kernelspec": {
   "display_name": "Python 3",
   "language": "python",
   "name": "python3"
  },
  "language_info": {
   "codemirror_mode": {
    "name": "ipython",
    "version": 3
   },
   "file_extension": ".py",
   "mimetype": "text/x-python",
   "name": "python",
   "nbconvert_exporter": "python",
   "pygments_lexer": "ipython3",
   "version": "3.7.10"
  },
  "papermill": {
   "default_parameters": {},
   "duration": 14.082382,
   "end_time": "2021-12-20T22:28:35.751000",
   "environment_variables": {},
   "exception": true,
   "input_path": "__notebook__.ipynb",
   "output_path": "__notebook__.ipynb",
   "parameters": {},
   "start_time": "2021-12-20T22:28:21.668618",
   "version": "2.3.3"
  }
 },
 "nbformat": 4,
 "nbformat_minor": 5
}
