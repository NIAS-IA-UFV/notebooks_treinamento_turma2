{
  "nbformat": 4,
  "nbformat_minor": 0,
  "metadata": {
    "colab": {
      "name": "Titanic.ipynb",
      "provenance": []
    },
    "kernelspec": {
      "name": "python3",
      "display_name": "Python 3"
    },
    "language_info": {
      "name": "python"
    }
  },
  "cells": [
    {
      "cell_type": "code",
      "execution_count": 1,
      "metadata": {
        "id": "6dSsbKt8Usey"
      },
      "outputs": [],
      "source": [
        "import numpy as np\n",
        "import pandas as pd\n",
        "pd.plotting.register_matplotlib_converters()\n",
        "import matplotlib.pyplot as plt\n",
        "import seaborn as sns\n",
        "%matplotlib inline\n",
        "from sklearn.model_selection import train_test_split\n",
        "from sklearn.ensemble import RandomForestClassifier\n",
        "from sklearn.metrics import accuracy_score\n",
        "np.random.seed(0)"
      ]
    },
    {
      "cell_type": "code",
      "source": [
        "## Importando os dados\n",
        "test = pd.read_csv(\"/content/drive/MyDrive/titanic/test.csv\")\n",
        "train = pd.read_csv(\"/content/drive/MyDrive/titanic/train.csv\")\n",
        "## Estatísticas dos dataset\n",
        "print(test.describe())\n",
        "print(train.describe())\n"
      ],
      "metadata": {
        "colab": {
          "base_uri": "https://localhost:8080/"
        },
        "id": "tSMJyyvxXJyY",
        "outputId": "0b949797-9c23-4dca-aecc-a0ed733f77bc"
      },
      "execution_count": 3,
      "outputs": [
        {
          "output_type": "stream",
          "name": "stdout",
          "text": [
            "       PassengerId      Pclass         Age       SibSp       Parch        Fare\n",
            "count   418.000000  418.000000  332.000000  418.000000  418.000000  417.000000\n",
            "mean   1100.500000    2.265550   30.272590    0.447368    0.392344   35.627188\n",
            "std     120.810458    0.841838   14.181209    0.896760    0.981429   55.907576\n",
            "min     892.000000    1.000000    0.170000    0.000000    0.000000    0.000000\n",
            "25%     996.250000    1.000000   21.000000    0.000000    0.000000    7.895800\n",
            "50%    1100.500000    3.000000   27.000000    0.000000    0.000000   14.454200\n",
            "75%    1204.750000    3.000000   39.000000    1.000000    0.000000   31.500000\n",
            "max    1309.000000    3.000000   76.000000    8.000000    9.000000  512.329200\n",
            "       PassengerId    Survived      Pclass  ...       SibSp       Parch        Fare\n",
            "count   891.000000  891.000000  891.000000  ...  891.000000  891.000000  891.000000\n",
            "mean    446.000000    0.383838    2.308642  ...    0.523008    0.381594   32.204208\n",
            "std     257.353842    0.486592    0.836071  ...    1.102743    0.806057   49.693429\n",
            "min       1.000000    0.000000    1.000000  ...    0.000000    0.000000    0.000000\n",
            "25%     223.500000    0.000000    2.000000  ...    0.000000    0.000000    7.910400\n",
            "50%     446.000000    0.000000    3.000000  ...    0.000000    0.000000   14.454200\n",
            "75%     668.500000    1.000000    3.000000  ...    1.000000    0.000000   31.000000\n",
            "max     891.000000    1.000000    3.000000  ...    8.000000    6.000000  512.329200\n",
            "\n",
            "[8 rows x 7 columns]\n"
          ]
        }
      ]
    },
    {
      "cell_type": "code",
      "source": [
        "## Verificando os tipos de dados das features\n",
        "train.info()\n",
        "test.info()\n",
        "## Verificando features contendo NaN\n",
        "pd.isnull(train).sum()\n",
        "pd.isnull(test).sum()"
      ],
      "metadata": {
        "id": "tHDXArYGLIYA",
        "colab": {
          "base_uri": "https://localhost:8080/"
        },
        "outputId": "8a75dbb1-4bb1-4f59-c5d7-d8dd4311a514"
      },
      "execution_count": 4,
      "outputs": [
        {
          "output_type": "stream",
          "name": "stdout",
          "text": [
            "<class 'pandas.core.frame.DataFrame'>\n",
            "RangeIndex: 891 entries, 0 to 890\n",
            "Data columns (total 12 columns):\n",
            " #   Column       Non-Null Count  Dtype  \n",
            "---  ------       --------------  -----  \n",
            " 0   PassengerId  891 non-null    int64  \n",
            " 1   Survived     891 non-null    int64  \n",
            " 2   Pclass       891 non-null    int64  \n",
            " 3   Name         891 non-null    object \n",
            " 4   Sex          891 non-null    object \n",
            " 5   Age          714 non-null    float64\n",
            " 6   SibSp        891 non-null    int64  \n",
            " 7   Parch        891 non-null    int64  \n",
            " 8   Ticket       891 non-null    object \n",
            " 9   Fare         891 non-null    float64\n",
            " 10  Cabin        204 non-null    object \n",
            " 11  Embarked     889 non-null    object \n",
            "dtypes: float64(2), int64(5), object(5)\n",
            "memory usage: 83.7+ KB\n",
            "<class 'pandas.core.frame.DataFrame'>\n",
            "RangeIndex: 418 entries, 0 to 417\n",
            "Data columns (total 11 columns):\n",
            " #   Column       Non-Null Count  Dtype  \n",
            "---  ------       --------------  -----  \n",
            " 0   PassengerId  418 non-null    int64  \n",
            " 1   Pclass       418 non-null    int64  \n",
            " 2   Name         418 non-null    object \n",
            " 3   Sex          418 non-null    object \n",
            " 4   Age          332 non-null    float64\n",
            " 5   SibSp        418 non-null    int64  \n",
            " 6   Parch        418 non-null    int64  \n",
            " 7   Ticket       418 non-null    object \n",
            " 8   Fare         417 non-null    float64\n",
            " 9   Cabin        91 non-null     object \n",
            " 10  Embarked     418 non-null    object \n",
            "dtypes: float64(2), int64(4), object(5)\n",
            "memory usage: 36.0+ KB\n"
          ]
        },
        {
          "output_type": "execute_result",
          "data": {
            "text/plain": [
              "PassengerId      0\n",
              "Pclass           0\n",
              "Name             0\n",
              "Sex              0\n",
              "Age             86\n",
              "SibSp            0\n",
              "Parch            0\n",
              "Ticket           0\n",
              "Fare             1\n",
              "Cabin          327\n",
              "Embarked         0\n",
              "dtype: int64"
            ]
          },
          "metadata": {},
          "execution_count": 4
        }
      ]
    },
    {
      "cell_type": "code",
      "source": [
        "## Separando features numéricas\n",
        "numeric_train = train.loc[:, ['PassengerId','Survived','Age', 'SibSp', 'Parch', 'Fare', 'Pclass']]\n",
        "numeric_test = test.loc[:, ['PassengerId','Age', 'SibSp', 'Parch', 'Fare', 'Pclass']]\n",
        "## Retirando linhas com NaN em train\n",
        "numeric_train = numeric_train.dropna(axis = 0)\n",
        "## Substituindo NaN por 0 em test\n",
        "numeric_test = numeric_test.fillna(0)\n",
        "print(numeric_test.shape)\n",
        "print(numeric_train.shape)"
      ],
      "metadata": {
        "colab": {
          "base_uri": "https://localhost:8080/"
        },
        "id": "afP3RgSmPII2",
        "outputId": "e806eb7d-6181-41f0-bdd5-2ac495230dfb"
      },
      "execution_count": 5,
      "outputs": [
        {
          "output_type": "stream",
          "name": "stdout",
          "text": [
            "(418, 6)\n",
            "(714, 7)\n"
          ]
        }
      ]
    },
    {
      "cell_type": "code",
      "source": [
        "## Criando novo dataframe para separar a feature Age\n",
        "train_age_split = numeric_train.loc[:,['Survived', 'Age']]\n",
        "\n",
        "## Separando feature Age por faixa e criando nova feature AgeGroup\n",
        "bins = np.arange(0,90,10)\n",
        "labels = ['0-10','10-20','20-30','30-40','40-50','50-60','60-70','70-80']\n",
        "\n",
        "train_age_split['AgeGroup'] = pd.cut(numeric_train['Age'], bins, labels = labels)\n",
        "train_age_split.head()"
      ],
      "metadata": {
        "colab": {
          "base_uri": "https://localhost:8080/",
          "height": 206
        },
        "id": "7axWUNbwSONo",
        "outputId": "593231ee-e76f-4b39-a5b7-dfbd2878d0cb"
      },
      "execution_count": 6,
      "outputs": [
        {
          "output_type": "execute_result",
          "data": {
            "text/html": [
              "<div>\n",
              "<style scoped>\n",
              "    .dataframe tbody tr th:only-of-type {\n",
              "        vertical-align: middle;\n",
              "    }\n",
              "\n",
              "    .dataframe tbody tr th {\n",
              "        vertical-align: top;\n",
              "    }\n",
              "\n",
              "    .dataframe thead th {\n",
              "        text-align: right;\n",
              "    }\n",
              "</style>\n",
              "<table border=\"1\" class=\"dataframe\">\n",
              "  <thead>\n",
              "    <tr style=\"text-align: right;\">\n",
              "      <th></th>\n",
              "      <th>Survived</th>\n",
              "      <th>Age</th>\n",
              "      <th>AgeGroup</th>\n",
              "    </tr>\n",
              "  </thead>\n",
              "  <tbody>\n",
              "    <tr>\n",
              "      <th>0</th>\n",
              "      <td>0</td>\n",
              "      <td>22.0</td>\n",
              "      <td>20-30</td>\n",
              "    </tr>\n",
              "    <tr>\n",
              "      <th>1</th>\n",
              "      <td>1</td>\n",
              "      <td>38.0</td>\n",
              "      <td>30-40</td>\n",
              "    </tr>\n",
              "    <tr>\n",
              "      <th>2</th>\n",
              "      <td>1</td>\n",
              "      <td>26.0</td>\n",
              "      <td>20-30</td>\n",
              "    </tr>\n",
              "    <tr>\n",
              "      <th>3</th>\n",
              "      <td>1</td>\n",
              "      <td>35.0</td>\n",
              "      <td>30-40</td>\n",
              "    </tr>\n",
              "    <tr>\n",
              "      <th>4</th>\n",
              "      <td>0</td>\n",
              "      <td>35.0</td>\n",
              "      <td>30-40</td>\n",
              "    </tr>\n",
              "  </tbody>\n",
              "</table>\n",
              "</div>"
            ],
            "text/plain": [
              "   Survived   Age AgeGroup\n",
              "0         0  22.0    20-30\n",
              "1         1  38.0    30-40\n",
              "2         1  26.0    20-30\n",
              "3         1  35.0    30-40\n",
              "4         0  35.0    30-40"
            ]
          },
          "metadata": {},
          "execution_count": 6
        }
      ]
    },
    {
      "cell_type": "code",
      "source": [
        "# Plotando a distribuição de chances de sobrevivencia por faixa etária\n",
        "plt.title('Chance de sobrevivência por faixa etária')\n",
        "sns.barplot(x = 'AgeGroup', y = 'Survived', data = train_age_split)"
      ],
      "metadata": {
        "colab": {
          "base_uri": "https://localhost:8080/",
          "height": 312
        },
        "id": "gQlBj16qT-Uj",
        "outputId": "4fe7d608-d11f-47a8-d5d1-140c23ac7afc"
      },
      "execution_count": null,
      "outputs": [
        {
          "output_type": "execute_result",
          "data": {
            "text/plain": [
              "<matplotlib.axes._subplots.AxesSubplot at 0x7efc700e44d0>"
            ]
          },
          "metadata": {},
          "execution_count": 21
        },
        {
          "output_type": "display_data",
          "data": {
            "image/png": "[encoded data removed]",
            "text/plain": [
              "<Figure size 432x288 with 1 Axes>"
            ]
          },
          "metadata": {
            "needs_background": "light"
          }
        }
      ]
    },
    {
      "cell_type": "markdown",
      "source": [
        "**ANÁLISE DO GRÁFICO**"
      ],
      "metadata": {
        "id": "BGW8QuwsU0Hk"
      }
    },
    {
      "cell_type": "markdown",
      "source": [
        "É possível notar uma maior chance de sobrevivência para o grupo de crianças com menos de 10 anos. Além disso os adultos com mais de 30 anos e menos de 60 anos possuem maior chance de sobreviver quando comparados com criânças e jovens ca faixa dos 10 aos 30 anos. Pode-se notar também uma grande variação nas chances de sobrevivência dos idosos com mais de 60 anos, tornando a análise inconclusiva."
      ],
      "metadata": {
        "id": "j6qda-2xVGkR"
      }
    },
    {
      "cell_type": "markdown",
      "source": [
        "**GRÁFICOS DAS DEMAIS FEATURES**"
      ],
      "metadata": {
        "id": "PTmEyPN3W9a6"
      }
    },
    {
      "cell_type": "markdown",
      "source": [
        "**SibSp**"
      ],
      "metadata": {
        "id": "vESXSJOkbH1l"
      }
    },
    {
      "cell_type": "code",
      "source": [
        "## Plotando relação Chance de sobrevivência X Nº de parentes a bordo\n",
        "plt.title('Chance de sobrevivência em Relação ao número de parentes a bordo')\n",
        "sns.barplot(x = 'SibSp', y = 'Survived', data = numeric_train)"
      ],
      "metadata": {
        "colab": {
          "base_uri": "https://localhost:8080/",
          "height": 312
        },
        "id": "stEASrFCXEei",
        "outputId": "350ae465-8cb3-4944-cace-bb7eae434c73"
      },
      "execution_count": null,
      "outputs": [
        {
          "output_type": "execute_result",
          "data": {
            "text/plain": [
              "<matplotlib.axes._subplots.AxesSubplot at 0x7efc6ffab310>"
            ]
          },
          "metadata": {},
          "execution_count": 22
        },
        {
          "output_type": "display_data",
          "data": {
            "image/png": "[encoded data removed]",
            "text/plain": [
              "<Figure size 432x288 with 1 Axes>"
            ]
          },
          "metadata": {
            "needs_background": "light"
          }
        }
      ]
    },
    {
      "cell_type": "markdown",
      "source": [
        "**ANÁLISE DO GRÁFICO**"
      ],
      "metadata": {
        "id": "0rYnjwK6YmYu"
      }
    },
    {
      "cell_type": "markdown",
      "source": [
        "Os passageiros que possuíam apenas um parente a bordo apresentaram maior chance de sobrevivência. Além disso a chance de sobrevivência diminui a medida que o número de parentes aumenta, exceto de 0 para 1. A chance de sobrevivência nula para passageiros com 5 parentes a bordo pode ser explicada pela pela baixa quantidade de passageiros com esta quantidade de parentes a bordo."
      ],
      "metadata": {
        "id": "ZkvzQqe9Yv9m"
      }
    },
    {
      "cell_type": "markdown",
      "source": [
        "**Pclass**"
      ],
      "metadata": {
        "id": "y2LgwRI1bRHi"
      }
    },
    {
      "cell_type": "code",
      "source": [
        "## Plotando relação Chance de Sobrevivência X Classe do Navio\n",
        "plt.title('Chance de sobrevivência em Relação à classe em que o passageiro se encontra no navio')\n",
        "sns.barplot(x = 'Pclass', y = 'Survived', data = numeric_train);"
      ],
      "metadata": {
        "colab": {
          "base_uri": "https://localhost:8080/",
          "height": 295
        },
        "id": "lw1ai9PYaKG_",
        "outputId": "88aab750-fd4f-4797-a8e9-75b34b1f4751"
      },
      "execution_count": null,
      "outputs": [
        {
          "output_type": "display_data",
          "data": {
            "image/png": "[encoded data removed]",
            "text/plain": [
              "<Figure size 432x288 with 1 Axes>"
            ]
          },
          "metadata": {
            "needs_background": "light"
          }
        }
      ]
    },
    {
      "cell_type": "markdown",
      "source": [
        "**ANÁLISE DO GRÁFICO**"
      ],
      "metadata": {
        "id": "LWpWyChEbW_d"
      }
    },
    {
      "cell_type": "markdown",
      "source": [
        "O gráfico indica que há maior chance de sobrevivência para passageiros pertencentes as classes mais altas do navio."
      ],
      "metadata": {
        "id": "siJtNtIXbbrP"
      }
    },
    {
      "cell_type": "markdown",
      "source": [
        "**Parch**"
      ],
      "metadata": {
        "id": "MfxRCm9Rci8o"
      }
    },
    {
      "cell_type": "code",
      "source": [
        "## Plotando relação Chance de Sobrevivência X Nº de Pais e Filhos\n",
        "plt.title('Chance de sobrivivência em Relação aonúmero de pais e filhos presentes a bordo')\n",
        "sns.barplot(x = 'Parch', y = 'Survived', data = numeric_train)"
      ],
      "metadata": {
        "colab": {
          "base_uri": "https://localhost:8080/",
          "height": 312
        },
        "id": "Dz6Rrgjscmd8",
        "outputId": "6872b576-fc70-445f-f443-5ff40ce05974"
      },
      "execution_count": null,
      "outputs": [
        {
          "output_type": "execute_result",
          "data": {
            "text/plain": [
              "<matplotlib.axes._subplots.AxesSubplot at 0x7efc6f9efbd0>"
            ]
          },
          "metadata": {},
          "execution_count": 24
        },
        {
          "output_type": "display_data",
          "data": {
            "image/png": "[encoded data removed]",
            "text/plain": [
              "<Figure size 432x288 with 1 Axes>"
            ]
          },
          "metadata": {
            "needs_background": "light"
          }
        }
      ]
    },
    {
      "cell_type": "markdown",
      "source": [
        "**ANÁLISE DO GRÁFICO**"
      ],
      "metadata": {
        "id": "XjjyYZtDdTki"
      }
    },
    {
      "cell_type": "markdown",
      "source": [
        "Pelo gráfico pode-se notar uma maior chance de sobrevivência para os passageiros com pelo menos um 1 e com menos de 3 filhos possuem maior chance de sobrevivência. "
      ],
      "metadata": {
        "id": "9vERq-QgdYVG"
      }
    },
    {
      "cell_type": "code",
      "source": [
        "## Treinamento do modelo e submissão das predições\n",
        "# Filtrando features para treinamento e definindo target\n",
        "X = numeric_train.drop(['PassengerId','Survived'], axis = 1)\n",
        "y = numeric_train['Survived']\n",
        "\n",
        "#Separando o banco de dados de treino e validação, validação será 20% do tamanho de treino\n",
        "train_X, val_X, train_y, val_y = train_test_split(X, y, test_size = 0.2, random_state = 0)\n",
        "\n",
        "# Treinando o modelo\n",
        "random_forest = RandomForestClassifier()\n",
        "random_forest.fit(train_X, train_y)\n",
        "preds = random_forest.predict(val_X)\n",
        "\n",
        "#Validando o modelo\n",
        "accurance = round(accuracy_score(preds,val_y)*100,2)\n",
        "print(accurance)"
      ],
      "metadata": {
        "colab": {
          "base_uri": "https://localhost:8080/"
        },
        "id": "VX6Qwe7nkEX4",
        "outputId": "0d309b57-0e06-4d5a-c10d-a1ce89b3b41d"
      },
      "execution_count": 8,
      "outputs": [
        {
          "output_type": "stream",
          "name": "stdout",
          "text": [
            "67.13\n"
          ]
        }
      ]
    },
    {
      "cell_type": "markdown",
      "source": [
        "**Avaliação do Modelo**"
      ],
      "metadata": {
        "id": "7mEj3ZSrolUp"
      }
    },
    {
      "cell_type": "markdown",
      "source": [
        "O modelo teve uma taxa de acerto de 67,13% , portanto apresentou baixa precisão em suas predições."
      ],
      "metadata": {
        "id": "l2A48ZJlotJf"
      }
    },
    {
      "cell_type": "code",
      "source": [
        "#Produzindo as predições\n",
        "index = numeric_test['PassengerId']\n",
        "prediction = random_forest.predict(numeric_test.drop('PassengerId', axis = 1))\n",
        "\n",
        "#Produzindo o arquivo com as predições\n",
        "output = pd.DataFrame({'PassengerId':index, 'Survived': prediction})\n",
        "output.to_csv('submission.csv', index = False)"
      ],
      "metadata": {
        "id": "-JNRQmy8p8n2"
      },
      "execution_count": 10,
      "outputs": []
    }
  ]
}
