{
 "cells": [
  {
   "cell_type": "code",
   "execution_count": 1,
   "id": "843a48ba",
   "metadata": {
    "execution": {
     "iopub.execute_input": "2021-11-16T01:02:54.733212Z",
     "iopub.status.busy": "2021-11-16T01:02:54.731974Z",
     "iopub.status.idle": "2021-11-16T01:02:54.744135Z",
     "shell.execute_reply": "2021-11-16T01:02:54.743259Z"
    },
    "papermill": {
     "duration": 0.067039,
     "end_time": "2021-11-16T01:02:54.744535",
     "exception": true,
     "start_time": "2021-11-16T01:02:54.677496",
     "status": "failed"
    },
    "tags": []
   },
   "outputs": [
    {
     "ename": "SyntaxError",
     "evalue": "invalid syntax (1165714557.py, line 1)",
     "output_type": "error",
     "traceback": [
      "\u001b[0;36m  File \u001b[0;32m\"/tmp/ipykernel_19/1165714557.py\"\u001b[0;36m, line \u001b[0;32m1\u001b[0m\n\u001b[0;31m    Importando dados Covid 19\u001b[0m\n\u001b[0m                   ^\u001b[0m\n\u001b[0;31mSyntaxError\u001b[0m\u001b[0;31m:\u001b[0m invalid syntax\n"
     ]
    }
   ],
   "source": [
    "Importando dados Covid 19"
   ]
  },
  {
   "cell_type": "code",
   "execution_count": null,
   "id": "6a8846a6",
   "metadata": {
    "execution": {
     "iopub.execute_input": "2021-11-15T23:24:35.407447Z",
     "iopub.status.busy": "2021-11-15T23:24:35.406894Z",
     "iopub.status.idle": "2021-11-15T23:24:35.411684Z",
     "shell.execute_reply": "2021-11-15T23:24:35.410682Z",
     "shell.execute_reply.started": "2021-11-15T23:24:35.407414Z"
    },
    "papermill": {
     "duration": null,
     "end_time": null,
     "exception": null,
     "start_time": null,
     "status": "pending"
    },
    "tags": []
   },
   "outputs": [],
   "source": [
    "import numpy as np \n",
    "import pandas as pd"
   ]
  },
  {
   "cell_type": "code",
   "execution_count": null,
   "id": "8522164a",
   "metadata": {
    "execution": {
     "iopub.execute_input": "2021-11-15T23:52:31.995203Z",
     "iopub.status.busy": "2021-11-15T23:52:31.994892Z",
     "iopub.status.idle": "2021-11-15T23:52:32.012756Z",
     "shell.execute_reply": "2021-11-15T23:52:32.012051Z",
     "shell.execute_reply.started": "2021-11-15T23:52:31.995172Z"
    },
    "papermill": {
     "duration": null,
     "end_time": null,
     "exception": null,
     "start_time": null,
     "status": "pending"
    },
    "tags": []
   },
   "outputs": [],
   "source": [
    "import os\n",
    "for dirname, _, filenames in os.walk('/kaggle/input'):\n",
    "    for filename in filenames:\n",
    "        print(os.path.join(dirname, filename))"
   ]
  },
  {
   "cell_type": "code",
   "execution_count": null,
   "id": "4ba25f3d",
   "metadata": {
    "execution": {
     "iopub.execute_input": "2021-11-15T23:52:41.720112Z",
     "iopub.status.busy": "2021-11-15T23:52:41.719358Z",
     "iopub.status.idle": "2021-11-15T23:52:41.869842Z",
     "shell.execute_reply": "2021-11-15T23:52:41.868952Z",
     "shell.execute_reply.started": "2021-11-15T23:52:41.720063Z"
    },
    "papermill": {
     "duration": null,
     "end_time": null,
     "exception": null,
     "start_time": null,
     "status": "pending"
    },
    "tags": []
   },
   "outputs": [],
   "source": [
    "covid_complete = pd.read_csv('/kaggle/input/corona-virus-report/covid_19_clean_complete.csv')\n",
    "covid_complete.head(20)"
   ]
  },
  {
   "cell_type": "markdown",
   "id": "eb553ba6",
   "metadata": {
    "papermill": {
     "duration": null,
     "end_time": null,
     "exception": null,
     "start_time": null,
     "status": "pending"
    },
    "tags": []
   },
   "source": [
    "a. Quantas linhas e quantas colunas possui esse banco?"
   ]
  },
  {
   "cell_type": "code",
   "execution_count": null,
   "id": "e4f272de",
   "metadata": {
    "execution": {
     "iopub.execute_input": "2021-11-15T23:26:20.459260Z",
     "iopub.status.busy": "2021-11-15T23:26:20.458948Z",
     "iopub.status.idle": "2021-11-15T23:26:20.506242Z",
     "shell.execute_reply": "2021-11-15T23:26:20.505278Z",
     "shell.execute_reply.started": "2021-11-15T23:26:20.459222Z"
    },
    "papermill": {
     "duration": null,
     "end_time": null,
     "exception": null,
     "start_time": null,
     "status": "pending"
    },
    "tags": []
   },
   "outputs": [],
   "source": [
    "covid_complete.info()"
   ]
  },
  {
   "cell_type": "markdown",
   "id": "6ed96364",
   "metadata": {
    "papermill": {
     "duration": null,
     "end_time": null,
     "exception": null,
     "start_time": null,
     "status": "pending"
    },
    "tags": []
   },
   "source": [
    "Possui 49067 linhas e 10 colunas"
   ]
  },
  {
   "cell_type": "markdown",
   "id": "9d636402",
   "metadata": {
    "papermill": {
     "duration": null,
     "end_time": null,
     "exception": null,
     "start_time": null,
     "status": "pending"
    },
    "tags": []
   },
   "source": [
    "b. Quais são as colunas"
   ]
  },
  {
   "cell_type": "code",
   "execution_count": null,
   "id": "0b327dbc",
   "metadata": {
    "execution": {
     "iopub.execute_input": "2021-11-15T23:28:05.049011Z",
     "iopub.status.busy": "2021-11-15T23:28:05.048451Z",
     "iopub.status.idle": "2021-11-15T23:28:05.055904Z",
     "shell.execute_reply": "2021-11-15T23:28:05.055187Z",
     "shell.execute_reply.started": "2021-11-15T23:28:05.048974Z"
    },
    "papermill": {
     "duration": null,
     "end_time": null,
     "exception": null,
     "start_time": null,
     "status": "pending"
    },
    "tags": []
   },
   "outputs": [],
   "source": [
    "covid_complete.columns"
   ]
  },
  {
   "cell_type": "markdown",
   "id": "2e02b965",
   "metadata": {
    "papermill": {
     "duration": null,
     "end_time": null,
     "exception": null,
     "start_time": null,
     "status": "pending"
    },
    "tags": []
   },
   "source": [
    "As colunas são: Province/State, Country/Region, Lat, Long, Date, Confirmed,\n",
    "       Deaths, Recovered, Active, WHO Region"
   ]
  },
  {
   "cell_type": "markdown",
   "id": "c4ceac3e",
   "metadata": {
    "papermill": {
     "duration": null,
     "end_time": null,
     "exception": null,
     "start_time": null,
     "status": "pending"
    },
    "tags": []
   },
   "source": [
    "c. O tipo de dado de cada coluna"
   ]
  },
  {
   "cell_type": "code",
   "execution_count": null,
   "id": "6872a524",
   "metadata": {
    "execution": {
     "iopub.execute_input": "2021-11-15T23:29:57.668707Z",
     "iopub.status.busy": "2021-11-15T23:29:57.668406Z",
     "iopub.status.idle": "2021-11-15T23:29:57.705459Z",
     "shell.execute_reply": "2021-11-15T23:29:57.704568Z",
     "shell.execute_reply.started": "2021-11-15T23:29:57.668679Z"
    },
    "papermill": {
     "duration": null,
     "end_time": null,
     "exception": null,
     "start_time": null,
     "status": "pending"
    },
    "tags": []
   },
   "outputs": [],
   "source": [
    "covid_complete.info()"
   ]
  },
  {
   "cell_type": "markdown",
   "id": "110dedab",
   "metadata": {
    "papermill": {
     "duration": null,
     "end_time": null,
     "exception": null,
     "start_time": null,
     "status": "pending"
    },
    "tags": []
   },
   "source": [
    "Province/State    object \n",
    "  Country/Region  object \n",
    "  Lat             float64\n",
    "  Long            float64\n",
    "  Date            object \n",
    "  Confirmed       int64  \n",
    "  Deaths          int64  \n",
    "  Recovered       int64  \n",
    "  Active          int64  \n",
    "  WHO Region      object \n"
   ]
  },
  {
   "cell_type": "markdown",
   "id": "f4efe612",
   "metadata": {
    "papermill": {
     "duration": null,
     "end_time": null,
     "exception": null,
     "start_time": null,
     "status": "pending"
    },
    "tags": []
   },
   "source": [
    "d. A coluna de datas deve ser transformada de “Object” para “datetime64”,\n",
    "utilizando o comando “pd.todatetime( )”"
   ]
  },
  {
   "cell_type": "code",
   "execution_count": null,
   "id": "bf59d2e5",
   "metadata": {
    "execution": {
     "iopub.execute_input": "2021-11-15T23:32:13.701371Z",
     "iopub.status.busy": "2021-11-15T23:32:13.700519Z",
     "iopub.status.idle": "2021-11-15T23:32:13.722145Z",
     "shell.execute_reply": "2021-11-15T23:32:13.721475Z",
     "shell.execute_reply.started": "2021-11-15T23:32:13.701325Z"
    },
    "papermill": {
     "duration": null,
     "end_time": null,
     "exception": null,
     "start_time": null,
     "status": "pending"
    },
    "tags": []
   },
   "outputs": [],
   "source": [
    "covid_complete.Date = pd.to_datetime(covid_complete.Date)\n"
   ]
  },
  {
   "cell_type": "code",
   "execution_count": null,
   "id": "d9ebf31a",
   "metadata": {
    "execution": {
     "iopub.execute_input": "2021-11-15T23:32:18.740272Z",
     "iopub.status.busy": "2021-11-15T23:32:18.739793Z",
     "iopub.status.idle": "2021-11-15T23:32:18.769509Z",
     "shell.execute_reply": "2021-11-15T23:32:18.768636Z",
     "shell.execute_reply.started": "2021-11-15T23:32:18.740173Z"
    },
    "papermill": {
     "duration": null,
     "end_time": null,
     "exception": null,
     "start_time": null,
     "status": "pending"
    },
    "tags": []
   },
   "outputs": [],
   "source": [
    "covid_complete.info()"
   ]
  },
  {
   "cell_type": "markdown",
   "id": "90650248",
   "metadata": {
    "papermill": {
     "duration": null,
     "end_time": null,
     "exception": null,
     "start_time": null,
     "status": "pending"
    },
    "tags": []
   },
   "source": [
    "e. Informações estatísticas sobre o banco de dados"
   ]
  },
  {
   "cell_type": "code",
   "execution_count": null,
   "id": "42773439",
   "metadata": {
    "execution": {
     "iopub.execute_input": "2021-11-15T23:52:58.474444Z",
     "iopub.status.busy": "2021-11-15T23:52:58.473924Z",
     "iopub.status.idle": "2021-11-15T23:53:00.024833Z",
     "shell.execute_reply": "2021-11-15T23:53:00.023983Z",
     "shell.execute_reply.started": "2021-11-15T23:52:58.474404Z"
    },
    "papermill": {
     "duration": null,
     "end_time": null,
     "exception": null,
     "start_time": null,
     "status": "pending"
    },
    "tags": []
   },
   "outputs": [],
   "source": [
    "\n",
    "mean_df = covid_complete.mean()\n",
    "print(mean_df)"
   ]
  },
  {
   "cell_type": "markdown",
   "id": "a3f240fe",
   "metadata": {
    "papermill": {
     "duration": null,
     "end_time": null,
     "exception": null,
     "start_time": null,
     "status": "pending"
    },
    "tags": []
   },
   "source": [
    "f. Se necessário, transformar uma coluna pertinente para formato de data"
   ]
  },
  {
   "cell_type": "markdown",
   "id": "2c25321d",
   "metadata": {
    "papermill": {
     "duration": null,
     "end_time": null,
     "exception": null,
     "start_time": null,
     "status": "pending"
    },
    "tags": []
   },
   "source": [
    "g. Quais colunas apresentam NaN"
   ]
  },
  {
   "cell_type": "code",
   "execution_count": null,
   "id": "03bc02f7",
   "metadata": {
    "execution": {
     "iopub.execute_input": "2021-11-15T23:58:03.019422Z",
     "iopub.status.busy": "2021-11-15T23:58:03.018640Z",
     "iopub.status.idle": "2021-11-15T23:58:03.044798Z",
     "shell.execute_reply": "2021-11-15T23:58:03.043721Z",
     "shell.execute_reply.started": "2021-11-15T23:58:03.019365Z"
    },
    "papermill": {
     "duration": null,
     "end_time": null,
     "exception": null,
     "start_time": null,
     "status": "pending"
    },
    "tags": []
   },
   "outputs": [],
   "source": [
    "for column in covid_complete:\n",
    "    num_nan = covid_complete[column].isna().sum()\n",
    "    print('{} --> {}'.format(column,num_nan))"
   ]
  },
  {
   "cell_type": "markdown",
   "id": "f818afd2",
   "metadata": {
    "papermill": {
     "duration": null,
     "end_time": null,
     "exception": null,
     "start_time": null,
     "status": "pending"
    },
    "tags": []
   },
   "source": [
    "Há \"NaN\" apenas na primeira coluna (Província/Estado) com 34404 NaN"
   ]
  },
  {
   "cell_type": "markdown",
   "id": "645bacc6",
   "metadata": {
    "papermill": {
     "duration": null,
     "end_time": null,
     "exception": null,
     "start_time": null,
     "status": "pending"
    },
    "tags": []
   },
   "source": [
    "2. Crie um dataframe que contenha apenas as 5 províncias da China que mais registraram casos."
   ]
  },
  {
   "cell_type": "code",
   "execution_count": null,
   "id": "e0955830",
   "metadata": {
    "execution": {
     "iopub.execute_input": "2021-11-16T00:00:51.945947Z",
     "iopub.status.busy": "2021-11-16T00:00:51.945612Z",
     "iopub.status.idle": "2021-11-16T00:00:51.957405Z",
     "shell.execute_reply": "2021-11-16T00:00:51.956297Z",
     "shell.execute_reply.started": "2021-11-16T00:00:51.945913Z"
    },
    "papermill": {
     "duration": null,
     "end_time": null,
     "exception": null,
     "start_time": null,
     "status": "pending"
    },
    "tags": []
   },
   "outputs": [],
   "source": [
    "china_regions_totals = covid_complete[covid_complete['Country/Region'] == 'China']\n"
   ]
  },
  {
   "cell_type": "markdown",
   "id": "3aeae92f",
   "metadata": {
    "papermill": {
     "duration": null,
     "end_time": null,
     "exception": null,
     "start_time": null,
     "status": "pending"
    },
    "tags": []
   },
   "source": [
    "a. Descubra qual o nome das províncias chinesas contidas no dataset\n",
    "b. Retire do banco de dados apenas as informações dessas províncias\n",
    "c. Tome apenas as informações das features: “Confirmed”, “Active”, “Deaths”,\n",
    "“Recovered”\n",
    "d. Agrupe o novo dataframe a partir dessas províncias. Qual a função de\n",
    "agrupamento que deve ser usada?\n"
   ]
  },
  {
   "cell_type": "code",
   "execution_count": null,
   "id": "f95b8fcb",
   "metadata": {
    "execution": {
     "iopub.execute_input": "2021-11-16T00:01:14.981792Z",
     "iopub.status.busy": "2021-11-16T00:01:14.981007Z",
     "iopub.status.idle": "2021-11-16T00:01:15.004381Z",
     "shell.execute_reply": "2021-11-16T00:01:15.003249Z",
     "shell.execute_reply.started": "2021-11-16T00:01:14.981723Z"
    },
    "papermill": {
     "duration": null,
     "end_time": null,
     "exception": null,
     "start_time": null,
     "status": "pending"
    },
    "tags": []
   },
   "outputs": [],
   "source": [
    "china_regions_totals = china_regions_totals.loc[:,['Province/State','Confirmed','Deaths','Recovered','Active']]\n",
    "china_regions_totals = china_regions_totals.groupby('Province/State').sum().sort_values('Confirmed', ascending = False)\n",
    "china_top5 = china_regions_totals.head(5)\n",
    "china_top5"
   ]
  },
  {
   "cell_type": "markdown",
   "id": "aefeb6ea",
   "metadata": {
    "papermill": {
     "duration": null,
     "end_time": null,
     "exception": null,
     "start_time": null,
     "status": "pending"
    },
    "tags": []
   },
   "source": [
    "As cidades da China com mais casos são: Hubei, Guangdong, Henan, Zhejiang, Hunan"
   ]
  },
  {
   "cell_type": "markdown",
   "id": "594f50c2",
   "metadata": {
    "papermill": {
     "duration": null,
     "end_time": null,
     "exception": null,
     "start_time": null,
     "status": "pending"
    },
    "tags": []
   },
   "source": [
    "3. A coluna “Province/State” contém muitos valores faltando. Para descartá-la perdendo o mínimo de informação, inclua na coluna “Country/Region” o nome das regiões junto ao nome dos países em que existem mais de uma província registrada no banco de dados, utilizando o método “.apply”. Como por exemplo, juntar o nome China com a região pertinente: “China_Hubei”, “China_Guangdong”.\n"
   ]
  },
  {
   "cell_type": "markdown",
   "id": "a3ce2646",
   "metadata": {
    "papermill": {
     "duration": null,
     "end_time": null,
     "exception": null,
     "start_time": null,
     "status": "pending"
    },
    "tags": []
   },
   "source": [
    "a. Elabore uma função que tenha uma linha do banco de dados como argumento e, se a coluna “Province/State” não for valor faltante, concatenar seu valor com coluna “Country/Region”\n",
    "i. Utilize o método “pandas.notna” para averiguar de “Province/State” é valor faltante"
   ]
  },
  {
   "cell_type": "code",
   "execution_count": null,
   "id": "2f0a521b",
   "metadata": {
    "execution": {
     "iopub.execute_input": "2021-11-16T00:13:12.860299Z",
     "iopub.status.busy": "2021-11-16T00:13:12.860027Z",
     "iopub.status.idle": "2021-11-16T00:13:12.866521Z",
     "shell.execute_reply": "2021-11-16T00:13:12.865842Z",
     "shell.execute_reply.started": "2021-11-16T00:13:12.860261Z"
    },
    "papermill": {
     "duration": null,
     "end_time": null,
     "exception": null,
     "start_time": null,
     "status": "pending"
    },
    "tags": []
   },
   "outputs": [],
   "source": [
    "def noprovince(row):\n",
    "    if pd.notna(row['Province/State']):\n",
    "        row['Country/Region'] = row['Country/Region'] + '_' + row['Province/State']\n",
    "    return row"
   ]
  },
  {
   "cell_type": "markdown",
   "id": "ff34f2b8",
   "metadata": {
    "papermill": {
     "duration": null,
     "end_time": null,
     "exception": null,
     "start_time": null,
     "status": "pending"
    },
    "tags": []
   },
   "source": [
    "b. Faça uma cópia do banco de dados para poder retirar informações sem perder o banco de dados original"
   ]
  },
  {
   "cell_type": "code",
   "execution_count": null,
   "id": "db215e51",
   "metadata": {
    "execution": {
     "iopub.execute_input": "2021-11-16T00:13:16.439493Z",
     "iopub.status.busy": "2021-11-16T00:13:16.438838Z",
     "iopub.status.idle": "2021-11-16T00:13:16.445656Z",
     "shell.execute_reply": "2021-11-16T00:13:16.444634Z",
     "shell.execute_reply.started": "2021-11-16T00:13:16.439326Z"
    },
    "papermill": {
     "duration": null,
     "end_time": null,
     "exception": null,
     "start_time": null,
     "status": "pending"
    },
    "tags": []
   },
   "outputs": [],
   "source": [
    "covid_noprovince = covid_complete.copy()"
   ]
  },
  {
   "cell_type": "markdown",
   "id": "aa6e3514",
   "metadata": {
    "papermill": {
     "duration": null,
     "end_time": null,
     "exception": null,
     "start_time": null,
     "status": "pending"
    },
    "tags": []
   },
   "source": [
    "c. Aplique, por meio do método “apply”, a função criada no item a"
   ]
  },
  {
   "cell_type": "code",
   "execution_count": null,
   "id": "a2559254",
   "metadata": {
    "execution": {
     "iopub.execute_input": "2021-11-16T00:13:19.723212Z",
     "iopub.status.busy": "2021-11-16T00:13:19.722913Z",
     "iopub.status.idle": "2021-11-16T00:13:23.401373Z",
     "shell.execute_reply": "2021-11-16T00:13:23.400444Z",
     "shell.execute_reply.started": "2021-11-16T00:13:19.723180Z"
    },
    "papermill": {
     "duration": null,
     "end_time": null,
     "exception": null,
     "start_time": null,
     "status": "pending"
    },
    "tags": []
   },
   "outputs": [],
   "source": [
    "covid_noprovince = covid_noprovince.apply(noprovince, axis = 1)\n",
    "covid_noprovince = covid_noprovince.drop(['Province/State'], axis = 1)\n",
    "covid_noprovince.head(20)"
   ]
  },
  {
   "cell_type": "markdown",
   "id": "f0b0ddc8",
   "metadata": {
    "papermill": {
     "duration": null,
     "end_time": null,
     "exception": null,
     "start_time": null,
     "status": "pending"
    },
    "tags": []
   },
   "source": [
    "d. Exclua a coluna “Province/State” do novo dataframe\n"
   ]
  },
  {
   "cell_type": "code",
   "execution_count": null,
   "id": "c2086da3",
   "metadata": {
    "execution": {
     "iopub.execute_input": "2021-11-16T00:14:00.885630Z",
     "iopub.status.busy": "2021-11-16T00:14:00.884928Z",
     "iopub.status.idle": "2021-11-16T00:14:00.902210Z",
     "shell.execute_reply": "2021-11-16T00:14:00.901327Z",
     "shell.execute_reply.started": "2021-11-16T00:14:00.885579Z"
    },
    "papermill": {
     "duration": null,
     "end_time": null,
     "exception": null,
     "start_time": null,
     "status": "pending"
    },
    "tags": []
   },
   "outputs": [],
   "source": [
    "covid_noprovince.loc[covid_noprovince['Country/Region'] == 'China']"
   ]
  },
  {
   "cell_type": "markdown",
   "id": "b58b0ac9",
   "metadata": {
    "papermill": {
     "duration": null,
     "end_time": null,
     "exception": null,
     "start_time": null,
     "status": "pending"
    },
    "tags": []
   },
   "source": [
    "4. Importe o arquivo \"world meter data.csv\" e, a partir de seus dados de população e continentes, faça um ranking de maior número de mortes por milhão de habitantes entre os continentes."
   ]
  },
  {
   "cell_type": "markdown",
   "id": "390d1197",
   "metadata": {
    "papermill": {
     "duration": null,
     "end_time": null,
     "exception": null,
     "start_time": null,
     "status": "pending"
    },
    "tags": []
   },
   "source": [
    "a. Importar o banco de dados \"world meter data.csv\""
   ]
  },
  {
   "cell_type": "code",
   "execution_count": null,
   "id": "9b17984e",
   "metadata": {
    "execution": {
     "iopub.execute_input": "2021-11-16T00:16:07.359959Z",
     "iopub.status.busy": "2021-11-16T00:16:07.359625Z",
     "iopub.status.idle": "2021-11-16T00:16:07.380183Z",
     "shell.execute_reply": "2021-11-16T00:16:07.379348Z",
     "shell.execute_reply.started": "2021-11-16T00:16:07.359925Z"
    },
    "papermill": {
     "duration": null,
     "end_time": null,
     "exception": null,
     "start_time": null,
     "status": "pending"
    },
    "tags": []
   },
   "outputs": [],
   "source": [
    "worldometer = pd.read_csv('/kaggle/input/corona-virus-report/worldometer_data.csv')\n"
   ]
  },
  {
   "cell_type": "markdown",
   "id": "cc22487b",
   "metadata": {
    "papermill": {
     "duration": null,
     "end_time": null,
     "exception": null,
     "start_time": null,
     "status": "pending"
    },
    "tags": []
   },
   "source": [
    "b. Tome apenas as informações de população, país e continentes deste banco de\n",
    "dados\n",
    "c.Agrupe o “covid_19_clean_complete” por países. Deve-se usar o dataframe do\n",
    "item “c)” ou o original?\n",
    "d. Mescle os dois dataframes, a partir dos países, contendo apenas as informações de mortes, população e continente\n"
   ]
  },
  {
   "cell_type": "code",
   "execution_count": null,
   "id": "a55d9336",
   "metadata": {
    "execution": {
     "iopub.execute_input": "2021-11-16T00:17:03.860930Z",
     "iopub.status.busy": "2021-11-16T00:17:03.860571Z",
     "iopub.status.idle": "2021-11-16T00:17:03.891465Z",
     "shell.execute_reply": "2021-11-16T00:17:03.890856Z",
     "shell.execute_reply.started": "2021-11-16T00:17:03.860893Z"
    },
    "papermill": {
     "duration": null,
     "end_time": null,
     "exception": null,
     "start_time": null,
     "status": "pending"
    },
    "tags": []
   },
   "outputs": [],
   "source": [
    "covid_comp_deaths = covid_complete[['Country/Region','Deaths']].groupby('Country/Region').sum()\n",
    "covid_world = covid_comp_deaths.merge(worldometer[['Country/Region','Population','Continent']],\n",
    "                                            on = 'Country/Region')\n",
    "covid_world"
   ]
  },
  {
   "cell_type": "markdown",
   "id": "88942bd9",
   "metadata": {
    "papermill": {
     "duration": null,
     "end_time": null,
     "exception": null,
     "start_time": null,
     "status": "pending"
    },
    "tags": []
   },
   "source": [
    "e. Agrupe o novo dataset agora pelo continente"
   ]
  },
  {
   "cell_type": "code",
   "execution_count": null,
   "id": "70319c65",
   "metadata": {
    "execution": {
     "iopub.execute_input": "2021-11-16T00:27:16.923906Z",
     "iopub.status.busy": "2021-11-16T00:27:16.923548Z",
     "iopub.status.idle": "2021-11-16T00:27:16.935287Z",
     "shell.execute_reply": "2021-11-16T00:27:16.934085Z",
     "shell.execute_reply.started": "2021-11-16T00:27:16.923869Z"
    },
    "papermill": {
     "duration": null,
     "end_time": null,
     "exception": null,
     "start_time": null,
     "status": "pending"
    },
    "tags": []
   },
   "outputs": [],
   "source": [
    "covid_world_deaths = covid_world.groupby('Continent', as_index = False).sum()"
   ]
  },
  {
   "cell_type": "markdown",
   "id": "2477ee2f",
   "metadata": {
    "papermill": {
     "duration": null,
     "end_time": null,
     "exception": null,
     "start_time": null,
     "status": "pending"
    },
    "tags": []
   },
   "source": [
    "f. Crie uma nova coluna contendo o número de mortes por milhão dentro dos\n",
    "continentes (Utilize a fórmula: (mortes/população)*10^6)"
   ]
  },
  {
   "cell_type": "code",
   "execution_count": null,
   "id": "3b1220b4",
   "metadata": {
    "execution": {
     "iopub.execute_input": "2021-11-16T00:28:00.702666Z",
     "iopub.status.busy": "2021-11-16T00:28:00.702341Z",
     "iopub.status.idle": "2021-11-16T00:28:00.709119Z",
     "shell.execute_reply": "2021-11-16T00:28:00.708386Z",
     "shell.execute_reply.started": "2021-11-16T00:28:00.702629Z"
    },
    "papermill": {
     "duration": null,
     "end_time": null,
     "exception": null,
     "start_time": null,
     "status": "pending"
    },
    "tags": []
   },
   "outputs": [],
   "source": [
    "covid_world_deaths['Deaths_by_Million'] = (covid_world_deaths['Deaths']/covid_world_deaths['Population'])*10**6"
   ]
  },
  {
   "cell_type": "markdown",
   "id": "90e1c80b",
   "metadata": {
    "papermill": {
     "duration": null,
     "end_time": null,
     "exception": null,
     "start_time": null,
     "status": "pending"
    },
    "tags": []
   },
   "source": [
    "g. Faça um ranking do número de mortes por milhão de habitantes entre os\n",
    "continentes"
   ]
  },
  {
   "cell_type": "code",
   "execution_count": null,
   "id": "ec834897",
   "metadata": {
    "execution": {
     "iopub.execute_input": "2021-11-16T00:28:51.007302Z",
     "iopub.status.busy": "2021-11-16T00:28:51.006697Z",
     "iopub.status.idle": "2021-11-16T00:28:51.023883Z",
     "shell.execute_reply": "2021-11-16T00:28:51.023223Z",
     "shell.execute_reply.started": "2021-11-16T00:28:51.007262Z"
    },
    "papermill": {
     "duration": null,
     "end_time": null,
     "exception": null,
     "start_time": null,
     "status": "pending"
    },
    "tags": []
   },
   "outputs": [],
   "source": [
    "covid_world_deaths = covid_world_deaths.sort_values(by = 'Deaths_by_Million', ascending = False)\n",
    "covid_world_deaths['Ranking'] =[x for x in range(1,len(covid_world_deaths)+1)]\n",
    "covid_world_deaths = covid_world_deaths.set_index(\"Ranking\")\n",
    "covid_world_deaths\n",
    "                       "
   ]
  },
  {
   "cell_type": "markdown",
   "id": "6ace1796",
   "metadata": {
    "papermill": {
     "duration": null,
     "end_time": null,
     "exception": null,
     "start_time": null,
     "status": "pending"
    },
    "tags": []
   },
   "source": [
    "# Visualização de dados"
   ]
  },
  {
   "cell_type": "markdown",
   "id": "0cab497c",
   "metadata": {
    "papermill": {
     "duration": null,
     "end_time": null,
     "exception": null,
     "start_time": null,
     "status": "pending"
    },
    "tags": []
   },
   "source": [
    "##  Line Chart"
   ]
  },
  {
   "cell_type": "markdown",
   "id": "7b2e6373",
   "metadata": {
    "papermill": {
     "duration": null,
     "end_time": null,
     "exception": null,
     "start_time": null,
     "status": "pending"
    },
    "tags": []
   },
   "source": [
    "1. Criar gráfico linechart que indique a progressão no tempo das mortes nas regiões: Américas, Eastern Mediterran e Europe (OBS: Utilize apenas o arquivo “covid_19_clean_complete.csv”)\n",
    "a. Importar bibliotecas matplotlib e seaborn, para retirar a necessidade de criar arquivos para os gráficos, digitar comando “%matplotlib inline”"
   ]
  },
  {
   "cell_type": "code",
   "execution_count": null,
   "id": "a3635767",
   "metadata": {
    "execution": {
     "iopub.execute_input": "2021-11-16T00:33:39.042679Z",
     "iopub.status.busy": "2021-11-16T00:33:39.042348Z",
     "iopub.status.idle": "2021-11-16T00:33:39.925577Z",
     "shell.execute_reply": "2021-11-16T00:33:39.924834Z",
     "shell.execute_reply.started": "2021-11-16T00:33:39.042641Z"
    },
    "papermill": {
     "duration": null,
     "end_time": null,
     "exception": null,
     "start_time": null,
     "status": "pending"
    },
    "tags": []
   },
   "outputs": [],
   "source": [
    "import matplotlib.pyplot as plt\n",
    "import seaborn as sns\n",
    "%matplotlib inline"
   ]
  },
  {
   "cell_type": "markdown",
   "id": "97bf3608",
   "metadata": {
    "papermill": {
     "duration": null,
     "end_time": null,
     "exception": null,
     "start_time": null,
     "status": "pending"
    },
    "tags": []
   },
   "source": [
    "b. Realizar agrupamento utilizando as colunas “Date” e “WHO Region”, utilizando “sum” como função de agregação"
   ]
  },
  {
   "cell_type": "code",
   "execution_count": null,
   "id": "b9327251",
   "metadata": {
    "execution": {
     "iopub.execute_input": "2021-11-16T00:34:37.955751Z",
     "iopub.status.busy": "2021-11-16T00:34:37.955165Z",
     "iopub.status.idle": "2021-11-16T00:34:37.987125Z",
     "shell.execute_reply": "2021-11-16T00:34:37.986469Z",
     "shell.execute_reply.started": "2021-11-16T00:34:37.955710Z"
    },
    "papermill": {
     "duration": null,
     "end_time": null,
     "exception": null,
     "start_time": null,
     "status": "pending"
    },
    "tags": []
   },
   "outputs": [],
   "source": [
    "covid_who = covid_complete.groupby(by = ['Date','WHO Region']).sum().reset_index(level = 'Date')\n",
    "covid_who.head(15)"
   ]
  },
  {
   "cell_type": "markdown",
   "id": "4e0d1d53",
   "metadata": {
    "papermill": {
     "duration": null,
     "end_time": null,
     "exception": null,
     "start_time": null,
     "status": "pending"
    },
    "tags": []
   },
   "source": [
    "c. Plotar gráficos que contenham as progressões das regiões exigidas\n",
    "d. adicionar nomes para eixos, título do gráfico, grid e legendas para as linhas"
   ]
  },
  {
   "cell_type": "code",
   "execution_count": null,
   "id": "b5dc0cb4",
   "metadata": {
    "execution": {
     "iopub.execute_input": "2021-11-16T00:38:12.116276Z",
     "iopub.status.busy": "2021-11-16T00:38:12.115814Z",
     "iopub.status.idle": "2021-11-16T00:38:12.133379Z",
     "shell.execute_reply": "2021-11-16T00:38:12.132189Z",
     "shell.execute_reply.started": "2021-11-16T00:38:12.116241Z"
    },
    "papermill": {
     "duration": null,
     "end_time": null,
     "exception": null,
     "start_time": null,
     "status": "pending"
    },
    "tags": []
   },
   "outputs": [],
   "source": [
    "covid_who.Date = pd.to_datetime(covid_who.Date)\n",
    "covid_who.info()"
   ]
  },
  {
   "cell_type": "code",
   "execution_count": null,
   "id": "ad7d4129",
   "metadata": {
    "execution": {
     "iopub.execute_input": "2021-11-16T00:40:34.187555Z",
     "iopub.status.busy": "2021-11-16T00:40:34.186717Z",
     "iopub.status.idle": "2021-11-16T00:40:34.604195Z",
     "shell.execute_reply": "2021-11-16T00:40:34.602889Z",
     "shell.execute_reply.started": "2021-11-16T00:40:34.187509Z"
    },
    "papermill": {
     "duration": null,
     "end_time": null,
     "exception": null,
     "start_time": null,
     "status": "pending"
    },
    "tags": []
   },
   "outputs": [],
   "source": [
    "sns.set_style(\"darkgrid\")\n",
    "\n",
    "\n",
    "plt.plot('Date','Deaths', data = covid_who.loc[covid_who.index == \"Eastern Mediterranean\"], c = 'y');\n",
    "plt.plot('Date','Deaths', data = covid_who.loc[covid_who.index == \"Europe\"], c = 'b');\n",
    "plt.plot('Date','Deaths', data = covid_who.loc[covid_who.index == \"Americas\"], c = 'g');\n",
    "plt.xlabel('Date')\n",
    "plt.ylabel('Deaths')\n",
    "plt.legend([\"Eastern Mediterranean\",\"Europe\",\"Americas\"]);"
   ]
  },
  {
   "cell_type": "markdown",
   "id": "c73ccb7e",
   "metadata": {
    "papermill": {
     "duration": null,
     "end_time": null,
     "exception": null,
     "start_time": null,
     "status": "pending"
    },
    "tags": []
   },
   "source": [
    "e. Analisar gráfico de acordo com as perguntas feitas"
   ]
  },
  {
   "cell_type": "markdown",
   "id": "73e2c767",
   "metadata": {
    "papermill": {
     "duration": null,
     "end_time": null,
     "exception": null,
     "start_time": null,
     "status": "pending"
    },
    "tags": []
   },
   "source": [
    "1. Quais das regiões tiveram mais mortes?\n",
    "\n",
    "As regiões que apresentaram mais mortes foi na America seguida da Europa"
   ]
  },
  {
   "cell_type": "markdown",
   "id": "f0ca6ce3",
   "metadata": {
    "papermill": {
     "duration": null,
     "end_time": null,
     "exception": null,
     "start_time": null,
     "status": "pending"
    },
    "tags": []
   },
   "source": [
    "2. Qual o momento em que cada progressão começa a subir?\n",
    "\n",
    "Europa - Março de 2020\n",
    "America - Abril de 2020\n",
    "Mediterrâneo- Não foi acentuado, começou a ter um leve aumento a partir de Abril de 2020"
   ]
  },
  {
   "cell_type": "markdown",
   "id": "ba305447",
   "metadata": {
    "papermill": {
     "duration": null,
     "end_time": null,
     "exception": null,
     "start_time": null,
     "status": "pending"
    },
    "tags": []
   },
   "source": [
    "## Bar Charts"
   ]
  },
  {
   "cell_type": "markdown",
   "id": "a3f8f8de",
   "metadata": {
    "papermill": {
     "duration": null,
     "end_time": null,
     "exception": null,
     "start_time": null,
     "status": "pending"
    },
    "tags": []
   },
   "source": [
    "1. Agora deve-se produzir um gráfico bar chart, indicando o número de mortes em cada continente (OBS: utilize o dataframe criado no exercício 4.1 - 4)\n",
    "\n",
    "a. Editar o tamanho do gráfico, como sugestão, coloque o tamanho (10,6)\n",
    "b. Plotar gráfico bar chart das mortes nos continentes\n",
    "c. editar título e nome dos eixos\n"
   ]
  },
  {
   "cell_type": "code",
   "execution_count": null,
   "id": "a9f2c50f",
   "metadata": {
    "execution": {
     "iopub.execute_input": "2021-11-16T00:46:00.612626Z",
     "iopub.status.busy": "2021-11-16T00:46:00.612283Z",
     "iopub.status.idle": "2021-11-16T00:46:01.173455Z",
     "shell.execute_reply": "2021-11-16T00:46:01.172587Z",
     "shell.execute_reply.started": "2021-11-16T00:46:00.612584Z"
    },
    "papermill": {
     "duration": null,
     "end_time": null,
     "exception": null,
     "start_time": null,
     "status": "pending"
    },
    "tags": []
   },
   "outputs": [],
   "source": [
    "plt.figure(figsize =(10,6))\n",
    "plt.bar('Continent','Deaths', data = covid_world );\n",
    "\n",
    "plt.title('Continet Deaths')\n",
    "plt.ylabel('Deaths')"
   ]
  },
  {
   "cell_type": "markdown",
   "id": "0115ac9b",
   "metadata": {
    "papermill": {
     "duration": null,
     "end_time": null,
     "exception": null,
     "start_time": null,
     "status": "pending"
    },
    "tags": []
   },
   "source": [
    "d. Responder perguntas com base no gráfico\n",
    "1. Quais os 2 continentes com maior número de mortes?"
   ]
  },
  {
   "cell_type": "markdown",
   "id": "0a05212f",
   "metadata": {
    "papermill": {
     "duration": null,
     "end_time": null,
     "exception": null,
     "start_time": null,
     "status": "pending"
    },
    "tags": []
   },
   "source": [
    "Ámerica do sul e Europa"
   ]
  },
  {
   "cell_type": "markdown",
   "id": "7f7678f5",
   "metadata": {
    "papermill": {
     "duration": null,
     "end_time": null,
     "exception": null,
     "start_time": null,
     "status": "pending"
    },
    "tags": []
   },
   "source": [
    "2. Qual o continente com menor número de mortes?"
   ]
  },
  {
   "cell_type": "markdown",
   "id": "f9d6563f",
   "metadata": {
    "papermill": {
     "duration": null,
     "end_time": null,
     "exception": null,
     "start_time": null,
     "status": "pending"
    },
    "tags": []
   },
   "source": [
    "Oceania"
   ]
  },
  {
   "cell_type": "markdown",
   "id": "4cfe63c3",
   "metadata": {
    "papermill": {
     "duration": null,
     "end_time": null,
     "exception": null,
     "start_time": null,
     "status": "pending"
    },
    "tags": []
   },
   "source": [
    "3. Qual sua hipótese para responder às perguntas anteriores?\n"
   ]
  },
  {
   "cell_type": "markdown",
   "id": "4507c7de",
   "metadata": {
    "papermill": {
     "duration": null,
     "end_time": null,
     "exception": null,
     "start_time": null,
     "status": "pending"
    },
    "tags": []
   },
   "source": [
    "Oceania, por apresentar um sistema de saúde melhor, conseguiu até aquele momento \"reter\"melhor os casos. E como a Europa contém muitos idosos, fez com que os casos aumentasse muito logo no ínício, ocupando muito os leitos e levando a um maior número de mortos."
   ]
  },
  {
   "cell_type": "markdown",
   "id": "4412235a",
   "metadata": {
    "papermill": {
     "duration": null,
     "end_time": null,
     "exception": null,
     "start_time": null,
     "status": "pending"
    },
    "tags": []
   },
   "source": [
    "## Scatter Plots"
   ]
  },
  {
   "cell_type": "markdown",
   "id": "753ff303",
   "metadata": {
    "papermill": {
     "duration": null,
     "end_time": null,
     "exception": null,
     "start_time": null,
     "status": "pending"
    },
    "tags": []
   },
   "source": [
    "1. Descobrir se há relação entre o número de mortes por milhão e a quantidade de habitantes, nos 3 continentes com maior média de mortes por milhão de habitantes, por meio de scatter plot (OBS: Utilizar somente arquivo “worldometer_data.csv”)\n",
    "a. Agrupar o dataframe pela coluna “Continent”, retirar apenas os dados de \"Deaths/1 M pop\", utilizar “mean” como função de agregação e ordenar para descobrir os 3 continentes com maior valor\n",
    "b. Obter apenas os dados do dataframe, correspondentes a esses continentes\n",
    "c. Criar Scatterplot sendo o eixo x mostrando as mortes por milhão, o eixo y, a\n",
    "população total e representar os 3 continentes com cores diferentes\n",
    "\n"
   ]
  },
  {
   "cell_type": "code",
   "execution_count": null,
   "id": "6b297f7a",
   "metadata": {
    "execution": {
     "iopub.execute_input": "2021-11-16T00:54:28.355551Z",
     "iopub.status.busy": "2021-11-16T00:54:28.354713Z",
     "iopub.status.idle": "2021-11-16T00:54:28.371429Z",
     "shell.execute_reply": "2021-11-16T00:54:28.370833Z",
     "shell.execute_reply.started": "2021-11-16T00:54:28.355506Z"
    },
    "papermill": {
     "duration": null,
     "end_time": null,
     "exception": null,
     "start_time": null,
     "status": "pending"
    },
    "tags": []
   },
   "outputs": [],
   "source": [
    "world_most_deaths = worldometer[['Continent','Deaths/1M pop']].groupby('Continent', as_index = False).mean().sort_values('Deaths/1M pop',ascending = False)\n",
    "world_most_deaths\n"
   ]
  },
  {
   "cell_type": "code",
   "execution_count": null,
   "id": "9d1ffc12",
   "metadata": {
    "execution": {
     "iopub.execute_input": "2021-11-16T00:55:38.018389Z",
     "iopub.status.busy": "2021-11-16T00:55:38.017939Z",
     "iopub.status.idle": "2021-11-16T00:55:38.035592Z",
     "shell.execute_reply": "2021-11-16T00:55:38.034951Z",
     "shell.execute_reply.started": "2021-11-16T00:55:38.018356Z"
    },
    "papermill": {
     "duration": null,
     "end_time": null,
     "exception": null,
     "start_time": null,
     "status": "pending"
    },
    "tags": []
   },
   "outputs": [],
   "source": [
    "pop_x_deaths = worldometer.loc[(worldometer['Continent'] == 'South America')|\n",
    "                               (worldometer['Continent'] =='Europe')|\n",
    "                               (worldometer['Continent'] =='North America'),\n",
    "                              ['Continent','Population','Deaths/1M pop']]\n",
    "pop_x_deaths"
   ]
  },
  {
   "cell_type": "code",
   "execution_count": null,
   "id": "4d49a09c",
   "metadata": {
    "execution": {
     "iopub.execute_input": "2021-11-16T00:55:41.177175Z",
     "iopub.status.busy": "2021-11-16T00:55:41.176875Z",
     "iopub.status.idle": "2021-11-16T00:55:41.633674Z",
     "shell.execute_reply": "2021-11-16T00:55:41.633016Z",
     "shell.execute_reply.started": "2021-11-16T00:55:41.177141Z"
    },
    "papermill": {
     "duration": null,
     "end_time": null,
     "exception": null,
     "start_time": null,
     "status": "pending"
    },
    "tags": []
   },
   "outputs": [],
   "source": [
    "plt.figure(figsize =(12,6))\n",
    "plt.title('Relação entre Mortes por milhão e população total do país')\n",
    "\n",
    "sns.scatterplot(x = 'Population',\n",
    "               y = 'Deaths/1M pop',\n",
    "               hue = 'Continent',\n",
    "               data = pop_x_deaths);"
   ]
  },
  {
   "cell_type": "markdown",
   "id": "1021ac4c",
   "metadata": {
    "papermill": {
     "duration": null,
     "end_time": null,
     "exception": null,
     "start_time": null,
     "status": "pending"
    },
    "tags": []
   },
   "source": [
    "1. Onde se concentram a maioria dos dados?"
   ]
  },
  {
   "cell_type": "markdown",
   "id": "2b14fcbb",
   "metadata": {
    "papermill": {
     "duration": null,
     "end_time": null,
     "exception": null,
     "start_time": null,
     "status": "pending"
    },
    "tags": []
   },
   "source": [
    "Ámerica do Sul\n",
    "Europa "
   ]
  },
  {
   "cell_type": "markdown",
   "id": "26b68695",
   "metadata": {
    "papermill": {
     "duration": null,
     "end_time": null,
     "exception": null,
     "start_time": null,
     "status": "pending"
    },
    "tags": []
   },
   "source": [
    "2. No segundo continentes por mais mortes por milhão, é possível perceber\n",
    "alguma relação entre as features"
   ]
  },
  {
   "cell_type": "markdown",
   "id": "24b8c7f4",
   "metadata": {
    "papermill": {
     "duration": null,
     "end_time": null,
     "exception": null,
     "start_time": null,
     "status": "pending"
    },
    "tags": []
   },
   "source": [
    "3. Pelo gráfico, é possível enxergar relação entre essas colunas do banco de\n",
    "dados?"
   ]
  },
  {
   "cell_type": "markdown",
   "id": "28b99ffe",
   "metadata": {
    "papermill": {
     "duration": null,
     "end_time": null,
     "exception": null,
     "start_time": null,
     "status": "pending"
    },
    "tags": []
   },
   "source": [
    "Que em lugares menores, há maior concentração de pessoas"
   ]
  },
  {
   "cell_type": "markdown",
   "id": "e194d0aa",
   "metadata": {
    "papermill": {
     "duration": null,
     "end_time": null,
     "exception": null,
     "start_time": null,
     "status": "pending"
    },
    "tags": []
   },
   "source": [
    "## Heatmap de Correlação"
   ]
  },
  {
   "cell_type": "markdown",
   "id": "f0c04a96",
   "metadata": {
    "papermill": {
     "duration": null,
     "end_time": null,
     "exception": null,
     "start_time": null,
     "status": "pending"
    },
    "tags": []
   },
   "source": [
    "1. Será utilizado o método DataFrame.corr() do pandas para gerar os valores de correlação, então o aluno deverá produzir um heatmap para a visualização dos valores gerados\n",
    "\n",
    "a. Criar uma variável para armazenar os valores de correlação\n",
    "b. Criar um heatmap, com título, utilizando a variável criada no item anterior\n",
    "c. Escolher duas features para analisar seus valores de correlação (Sugestão:\n",
    "“Population”, “Teste/1M pop”)"
   ]
  },
  {
   "cell_type": "code",
   "execution_count": null,
   "id": "b758a46c",
   "metadata": {
    "execution": {
     "iopub.execute_input": "2021-11-16T01:00:48.264497Z",
     "iopub.status.busy": "2021-11-16T01:00:48.264171Z",
     "iopub.status.idle": "2021-11-16T01:00:49.603609Z",
     "shell.execute_reply": "2021-11-16T01:00:49.602867Z",
     "shell.execute_reply.started": "2021-11-16T01:00:48.264462Z"
    },
    "papermill": {
     "duration": null,
     "end_time": null,
     "exception": null,
     "start_time": null,
     "status": "pending"
    },
    "tags": []
   },
   "outputs": [],
   "source": [
    "fig, ax = plt.subplots(figsize=(15, 15))\n",
    "plt.title('Correlação entre colunas')\n",
    "sns.heatmap(worldometer.corr(), annot=True, square=True, cmap='coolwarm');"
   ]
  }
 ],
 "metadata": {
  "kernelspec": {
   "display_name": "Python 3",
   "language": "python",
   "name": "python3"
  },
  "language_info": {
   "codemirror_mode": {
    "name": "ipython",
    "version": 3
   },
   "file_extension": ".py",
   "mimetype": "text/x-python",
   "name": "python",
   "nbconvert_exporter": "python",
   "pygments_lexer": "ipython3",
   "version": "3.7.10"
  },
  "papermill": {
   "default_parameters": {},
   "duration": 10.71566,
   "end_time": "2021-11-16T01:02:55.403823",
   "environment_variables": {},
   "exception": true,
   "input_path": "__notebook__.ipynb",
   "output_path": "__notebook__.ipynb",
   "parameters": {},
   "start_time": "2021-11-16T01:02:44.688163",
   "version": "2.3.3"
  }
 },
 "nbformat": 4,
 "nbformat_minor": 5
}
