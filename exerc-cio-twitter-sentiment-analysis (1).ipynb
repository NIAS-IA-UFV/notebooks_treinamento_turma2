{
 "cells": [
  {
   "cell_type": "code",
   "execution_count": 1,
   "id": "9050da8e",
   "metadata": {
    "_cell_guid": "b1076dfc-b9ad-4769-8c92-a6c4dae69d19",
    "_uuid": "8f2839f25d086af736a60e9eeb907d3b93b6e0e5",
    "execution": {
     "iopub.execute_input": "2021-11-11T21:39:30.535207Z",
     "iopub.status.busy": "2021-11-11T21:39:30.534121Z",
     "iopub.status.idle": "2021-11-11T21:39:30.540808Z",
     "shell.execute_reply": "2021-11-11T21:39:30.541487Z",
     "shell.execute_reply.started": "2021-11-11T21:31:50.068183Z"
    },
    "papermill": {
     "duration": 0.0272,
     "end_time": "2021-11-11T21:39:30.541935",
     "exception": false,
     "start_time": "2021-11-11T21:39:30.514735",
     "status": "completed"
    },
    "tags": []
   },
   "outputs": [
    {
     "name": "stdout",
     "output_type": "stream",
     "text": [
      "* Exercício - Twitter Sentiment Analysis *\n",
      "QUESTÃO 1\n",
      "existem 10 tweets\n",
      "QUESTÃO 2\n",
      "o primeiro tweet é feliz\n",
      "QUESTÃO 3\n",
      "existem 5 tweets felizes e 2 tweets tristes\n"
     ]
    }
   ],
   "source": [
    "print ('* Exercício - Twitter Sentiment Analysis *')\n",
    "\n",
    "tweets = [\"Wow, what a great day today!! #sunshine\",\n",
    "\"I feel sad about the things going on around us. #covid19\",\n",
    "\"I'm really excited to learn Python with @JovianML #zerotopandas\",\n",
    "\"This is a really nice song. #linkinpark\",\n",
    "\"The python programming language is useful for data science\",\n",
    "\"Why do bad things happen to me?\",\n",
    "\"Apple announces the release of the new iPhone 12. Fans are excited.\",\n",
    "\"Spent my day with family!! #happy\",\n",
    "\"Check out my blog post on common string operations in Python. #zerotopandas\",\n",
    "\"Freecodecamp has great coding tutorials. #skillup\"]\n",
    "happy_words = ['great', 'excited', 'happy', 'nice', 'wonderful', 'amazing', 'good', 'best']\n",
    "sad_words = ['sad', 'bad', 'tragic', 'unhappy', 'worst']\n",
    "\n",
    "n = 0 # n recebe o número de tweets\n",
    "h = -1 # h recebe o número de tweets felizes\n",
    "s = 0 # s recebe o número de tweets tristes \n",
    "\n",
    "# QUESTÃO 1\n",
    "print('QUESTÃO 1')\n",
    "\n",
    "for tweet in tweets:\n",
    "    n = n + 1\n",
    "print('existem',n,'tweets')\n",
    "\n",
    "# QUESTÃO 2\n",
    "print('QUESTÃO 2')\n",
    "\n",
    "t_1 = tweets[0]\n",
    "\n",
    "for happy_word in happy_words:\n",
    "    if (happy_word in t_1):\n",
    "        print ('o primeiro tweet é feliz')\n",
    "        \n",
    "# QUESTÃO 3\n",
    "print('QUESTÃO 3')\n",
    "\n",
    "for tweet in tweets:\n",
    "    for happy_word in happy_words:\n",
    "        if (happy_word in tweet):\n",
    "            h = h + 1\n",
    "    for sad_word in sad_words:\n",
    "        if (sad_word in tweet):\n",
    "            s = s + 1\n",
    "print('existem',h,'tweets felizes e',s,'tweets tristes')"
   ]
  }
 ],
 "metadata": {
  "kernelspec": {
   "display_name": "Python 3",
   "language": "python",
   "name": "python3"
  },
  "language_info": {
   "codemirror_mode": {
    "name": "ipython",
    "version": 3
   },
   "file_extension": ".py",
   "mimetype": "text/x-python",
   "name": "python",
   "nbconvert_exporter": "python",
   "pygments_lexer": "ipython3",
   "version": "3.7.10"
  },
  "papermill": {
   "default_parameters": {},
   "duration": 9.874585,
   "end_time": "2021-11-11T21:39:31.155186",
   "environment_variables": {},
   "exception": null,
   "input_path": "__notebook__.ipynb",
   "output_path": "__notebook__.ipynb",
   "parameters": {},
   "start_time": "2021-11-11T21:39:21.280601",
   "version": "2.3.3"
  }
 },
 "nbformat": 4,
 "nbformat_minor": 5
}
